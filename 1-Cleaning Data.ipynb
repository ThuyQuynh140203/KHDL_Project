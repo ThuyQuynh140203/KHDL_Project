{
 "cells": [
  {
   "cell_type": "code",
   "id": "initial_id",
   "metadata": {
    "collapsed": true,
    "ExecuteTime": {
     "end_time": "2024-11-26T16:07:43.737001Z",
     "start_time": "2024-11-26T16:07:43.719704Z"
    }
   },
   "source": "import pandas as pd",
   "outputs": [],
   "execution_count": 5
  },
  {
   "metadata": {
    "ExecuteTime": {
     "end_time": "2024-11-26T16:07:45.689575Z",
     "start_time": "2024-11-26T16:07:45.624761Z"
    }
   },
   "cell_type": "code",
   "source": [
    "# Tải dữ liệu\n",
    "bbc = pd.read_csv('bbc.csv')\n",
    "\n",
    "# Xem trước dữ liệu\n",
    "bbc.head()"
   ],
   "id": "f9180619b50b54de",
   "outputs": [
    {
     "data": {
      "text/plain": [
       "                                                text     topic\n",
       "0  Dallaglio his own man to the end\\n\\nControvers...     sport\n",
       "1  Best person' for top legal job\\n\\nThe \"best pe...  politics\n",
       "2  Viewers to be able to shape TV\\n\\nImagine edit...      tech\n",
       "3  Fox attacks Blair's Tory 'lies'\\n\\nTony Blair ...  politics\n",
       "4  Microsoft debuts security tools\\n\\nMicrosoft i...      tech"
      ],
      "text/html": [
       "<div>\n",
       "<style scoped>\n",
       "    .dataframe tbody tr th:only-of-type {\n",
       "        vertical-align: middle;\n",
       "    }\n",
       "\n",
       "    .dataframe tbody tr th {\n",
       "        vertical-align: top;\n",
       "    }\n",
       "\n",
       "    .dataframe thead th {\n",
       "        text-align: right;\n",
       "    }\n",
       "</style>\n",
       "<table border=\"1\" class=\"dataframe\">\n",
       "  <thead>\n",
       "    <tr style=\"text-align: right;\">\n",
       "      <th></th>\n",
       "      <th>text</th>\n",
       "      <th>topic</th>\n",
       "    </tr>\n",
       "  </thead>\n",
       "  <tbody>\n",
       "    <tr>\n",
       "      <th>0</th>\n",
       "      <td>Dallaglio his own man to the end\\n\\nControvers...</td>\n",
       "      <td>sport</td>\n",
       "    </tr>\n",
       "    <tr>\n",
       "      <th>1</th>\n",
       "      <td>Best person' for top legal job\\n\\nThe \"best pe...</td>\n",
       "      <td>politics</td>\n",
       "    </tr>\n",
       "    <tr>\n",
       "      <th>2</th>\n",
       "      <td>Viewers to be able to shape TV\\n\\nImagine edit...</td>\n",
       "      <td>tech</td>\n",
       "    </tr>\n",
       "    <tr>\n",
       "      <th>3</th>\n",
       "      <td>Fox attacks Blair's Tory 'lies'\\n\\nTony Blair ...</td>\n",
       "      <td>politics</td>\n",
       "    </tr>\n",
       "    <tr>\n",
       "      <th>4</th>\n",
       "      <td>Microsoft debuts security tools\\n\\nMicrosoft i...</td>\n",
       "      <td>tech</td>\n",
       "    </tr>\n",
       "  </tbody>\n",
       "</table>\n",
       "</div>"
      ]
     },
     "execution_count": 6,
     "metadata": {},
     "output_type": "execute_result"
    }
   ],
   "execution_count": 6
  },
  {
   "metadata": {
    "ExecuteTime": {
     "end_time": "2024-11-26T16:07:47.772748Z",
     "start_time": "2024-11-26T16:07:47.747196Z"
    }
   },
   "cell_type": "code",
   "source": [
    "# Kiểm tra chất lượng dữ liệu\n",
    "print(\"Mất dữ liệu:\", bbc.isnull().sum())\n",
    "print(\"Dữ liệu bị trùng lặp:\", bbc.duplicated().sum())\n",
    "print(\"Giá trị duy nhất của cột 'topic':\", bbc['topic'].unique())"
   ],
   "id": "502c2cb063dcdb9",
   "outputs": [
    {
     "name": "stdout",
     "output_type": "stream",
     "text": [
      "Missing Values: text     0\n",
      "topic    0\n",
      "dtype: int64\n",
      "Duplicate Values: 98\n",
      "Unique values in 'topic' column: ['sport' 'politics' 'tech' 'business' 'entertainment']\n"
     ]
    }
   ],
   "execution_count": 7
  },
  {
   "metadata": {
    "ExecuteTime": {
     "end_time": "2024-11-26T16:16:59.973420Z",
     "start_time": "2024-11-26T16:16:59.939265Z"
    }
   },
   "cell_type": "code",
   "source": [
    "# Có 98 dòng dữ liệu bị lặp lại\n",
    "# Không có dữ liệu bị mất\n",
    "# Có 5 giá trị duy nhất ở cột 'topic', không có giá trị nào bị viết sai hoặc không thống nhất\n",
    "# Vậy chỉ cần loại bỏ các dữ liệu bị lặp lại\n",
    "# Bắt đầu làm sạch dữ liệu\n",
    "bbc_cleaned = bbc.drop_duplicates()\n",
    "bbc_cleaned.describe()"
   ],
   "id": "b4beee372adae4ae",
   "outputs": [
    {
     "data": {
      "text/plain": [
       "                                                     text  topic\n",
       "count                                                2127   2127\n",
       "unique                                               2127      5\n",
       "top     Oscar nominees gear up for lunch\\n\\nLeonardo D...  sport\n",
       "freq                                                    1    505"
      ],
      "text/html": [
       "<div>\n",
       "<style scoped>\n",
       "    .dataframe tbody tr th:only-of-type {\n",
       "        vertical-align: middle;\n",
       "    }\n",
       "\n",
       "    .dataframe tbody tr th {\n",
       "        vertical-align: top;\n",
       "    }\n",
       "\n",
       "    .dataframe thead th {\n",
       "        text-align: right;\n",
       "    }\n",
       "</style>\n",
       "<table border=\"1\" class=\"dataframe\">\n",
       "  <thead>\n",
       "    <tr style=\"text-align: right;\">\n",
       "      <th></th>\n",
       "      <th>text</th>\n",
       "      <th>topic</th>\n",
       "    </tr>\n",
       "  </thead>\n",
       "  <tbody>\n",
       "    <tr>\n",
       "      <th>count</th>\n",
       "      <td>2127</td>\n",
       "      <td>2127</td>\n",
       "    </tr>\n",
       "    <tr>\n",
       "      <th>unique</th>\n",
       "      <td>2127</td>\n",
       "      <td>5</td>\n",
       "    </tr>\n",
       "    <tr>\n",
       "      <th>top</th>\n",
       "      <td>Oscar nominees gear up for lunch\\n\\nLeonardo D...</td>\n",
       "      <td>sport</td>\n",
       "    </tr>\n",
       "    <tr>\n",
       "      <th>freq</th>\n",
       "      <td>1</td>\n",
       "      <td>505</td>\n",
       "    </tr>\n",
       "  </tbody>\n",
       "</table>\n",
       "</div>"
      ]
     },
     "execution_count": 10,
     "metadata": {},
     "output_type": "execute_result"
    }
   ],
   "execution_count": 10
  },
  {
   "metadata": {
    "ExecuteTime": {
     "end_time": "2024-11-26T16:17:57.407141Z",
     "start_time": "2024-11-26T16:17:57.299688Z"
    }
   },
   "cell_type": "code",
   "source": [
    "# Lưu dữ liệu đã làm sạch\n",
    "bbc_cleaned.to_csv('bbc_cleaned.csv')"
   ],
   "id": "f903cfe39a1b1dbd",
   "outputs": [],
   "execution_count": 11
  },
  {
   "metadata": {},
   "cell_type": "code",
   "outputs": [],
   "execution_count": null,
   "source": "",
   "id": "d2cb88c3f7222fbc"
  }
 ],
 "metadata": {
  "kernelspec": {
   "display_name": "Python 3",
   "language": "python",
   "name": "python3"
  },
  "language_info": {
   "codemirror_mode": {
    "name": "ipython",
    "version": 2
   },
   "file_extension": ".py",
   "mimetype": "text/x-python",
   "name": "python",
   "nbconvert_exporter": "python",
   "pygments_lexer": "ipython2",
   "version": "2.7.6"
  }
 },
 "nbformat": 4,
 "nbformat_minor": 5
}
