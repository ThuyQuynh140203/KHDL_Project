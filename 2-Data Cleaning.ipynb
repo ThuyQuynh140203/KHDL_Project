{
 "cells": [
  {
   "cell_type": "code",
   "execution_count": 1,
   "id": "initial_id",
   "metadata": {
    "ExecuteTime": {
     "end_time": "2024-11-26T16:07:43.737001Z",
     "start_time": "2024-11-26T16:07:43.719704Z"
    },
    "collapsed": true
   },
   "outputs": [
    {
     "name": "stdout",
     "output_type": "stream",
     "text": [
      "(2225, 2)\n",
      "<class 'pandas.core.frame.DataFrame'>\n",
      "RangeIndex: 2225 entries, 0 to 2224\n",
      "Data columns (total 2 columns):\n",
      " #   Column  Non-Null Count  Dtype \n",
      "---  ------  --------------  ----- \n",
      " 0   text    2225 non-null   object\n",
      " 1   topic   2225 non-null   object\n",
      "dtypes: object(2)\n",
      "memory usage: 34.9+ KB\n",
      "None\n",
      "                                                text     topic\n",
      "0  Dallaglio his own man to the end\\r\\n\\r\\nContro...     sport\n",
      "1  Best person' for top legal job\\r\\n\\r\\nThe \"bes...  politics\n",
      "2  Viewers to be able to shape TV\\r\\n\\r\\nImagine ...      tech\n",
      "3  Fox attacks Blair's Tory 'lies'\\r\\n\\r\\nTony Bl...  politics\n",
      "4  Microsoft debuts security tools\\r\\n\\r\\nMicroso...      tech\n"
     ]
    }
   ],
   "source": [
    "import pandas as pd\n",
    "\n",
    "bbc = pd.read_csv('bbc.csv')\n",
    "print(bbc.shape)\n",
    "print(bbc.info())\n",
    "print(bbc.head())"
   ]
  },
  {
   "cell_type": "code",
   "execution_count": 3,
   "id": "502c2cb063dcdb9",
   "metadata": {
    "ExecuteTime": {
     "end_time": "2024-11-26T16:07:47.772748Z",
     "start_time": "2024-11-26T16:07:47.747196Z"
    }
   },
   "outputs": [
    {
     "name": "stdout",
     "output_type": "stream",
     "text": [
      "Missing data: text     0\n",
      "topic    0\n",
      "dtype: int64\n",
      "Duplicate data: 98\n",
      "Unique values in the 'topic' column: ['sport' 'politics' 'tech' 'business' 'entertainment']\n"
     ]
    }
   ],
   "source": [
    "# Check for missing data and print the total number of missing values for each column\n",
    "print(\"Missing data:\", bbc.isnull().sum())\n",
    "\n",
    "# Check for duplicate rows in the dataset and print the total number of duplicate rows\n",
    "print(\"Duplicate data:\", bbc.duplicated().sum())\n",
    "\n",
    "# Display the unique values of the 'topic' column to examine the different categories\n",
    "print(\"Unique values in the 'topic' column:\", bbc['topic'].unique())"
   ]
  },
  {
   "cell_type": "markdown",
   "id": "4bbd030f",
   "metadata": {},
   "source": [
    "- There are 98 duplicate rows in the dataset.\n",
    "- There is no missing data.\n",
    "- There are 5 unique values in the 'topic' column, and none of them are incorrect or inconsistent.\n",
    "- Therefore, we only need to remove the duplicate rows."
   ]
  },
  {
   "cell_type": "code",
   "execution_count": 6,
   "id": "b4beee372adae4ae",
   "metadata": {
    "ExecuteTime": {
     "end_time": "2024-11-26T16:16:59.973420Z",
     "start_time": "2024-11-26T16:16:59.939265Z"
    }
   },
   "outputs": [
    {
     "name": "stdout",
     "output_type": "stream",
     "text": [
      "                                                text     topic\n",
      "0  Dallaglio his own man to the end\\r\\n\\r\\nContro...     sport\n",
      "1  Best person' for top legal job\\r\\n\\r\\nThe \"bes...  politics\n",
      "2  Viewers to be able to shape TV\\r\\n\\r\\nImagine ...      tech\n",
      "3  Fox attacks Blair's Tory 'lies'\\r\\n\\r\\nTony Bl...  politics\n",
      "4  Microsoft debuts security tools\\r\\n\\r\\nMicroso...      tech\n"
     ]
    }
   ],
   "source": [
    "# Start cleaning the data by removing duplicate rows\n",
    "bbc = bbc.drop_duplicates()\n",
    "\n",
    "# Display summary statistics of the cleaned dataset\n",
    "bbc.describe()\n",
    "print(bbc.head())\n"
   ]
  },
  {
   "cell_type": "code",
   "execution_count": 7,
   "id": "d8e0cb7c",
   "metadata": {},
   "outputs": [
    {
     "name": "stdout",
     "output_type": "stream",
     "text": [
      "                                                text     topic\n",
      "0  dallaglio his own man to the end\\r\\n\\r\\ncontro...     sport\n",
      "1  best person' for top legal job\\r\\n\\r\\nthe \"bes...  politics\n",
      "2  viewers to be able to shape tv\\r\\n\\r\\nimagine ...      tech\n",
      "3  fox attacks blair's tory 'lies'\\r\\n\\r\\ntony bl...  politics\n",
      "4  microsoft debuts security tools\\r\\n\\r\\nmicroso...      tech\n"
     ]
    }
   ],
   "source": [
    "bbc[\"text\"] = bbc[\"text\"].str.lower()\n",
    "print(bbc.head())"
   ]
  },
  {
   "cell_type": "code",
   "execution_count": 11,
   "id": "5866f221",
   "metadata": {},
   "outputs": [
    {
     "name": "stdout",
     "output_type": "stream",
     "text": [
      "                                                text     topic\n",
      "0  dallaglio his own man to the end\\r\\n\\r\\ncontro...     sport\n",
      "1  best person for top legal job\\r\\n\\r\\nthe best ...  politics\n",
      "2  viewers to be able to shape tv\\r\\n\\r\\nimagine ...      tech\n",
      "3  fox attacks blairs tory lies\\r\\n\\r\\ntony blair...  politics\n",
      "4  microsoft debuts security tools\\r\\n\\r\\nmicroso...      tech\n"
     ]
    }
   ],
   "source": [
    "bbc[\"text\"] = bbc[\"text\"].str.replace(r\"[;!?,.\\'\\\"']\", \"\", regex=True)\n",
    "print(bbc.head())\n",
    "\n"
   ]
  },
  {
   "cell_type": "code",
   "execution_count": 12,
   "id": "4c40ffe5",
   "metadata": {},
   "outputs": [
    {
     "data": {
      "text/plain": [
       "(1701, 426, 1701, 426)"
      ]
     },
     "execution_count": 12,
     "metadata": {},
     "output_type": "execute_result"
    }
   ],
   "source": [
    "from sklearn.model_selection import train_test_split\n",
    "\n",
    "# Extract the 'text' column as the input feature\n",
    "texts = bbc['text']\n",
    "\n",
    "# Extract the 'topic' column as the target label\n",
    "labels = bbc['topic']\n",
    "\n",
    "# Step 2: Split the dataset into training and testing sets with 80% for training and 20% for testing\n",
    "X_train, X_test, y_train, y_test = train_test_split(texts, labels, test_size=0.2, random_state=42)\n",
    "\n",
    "# Display the lengths of the training and testing sets for both input features and labels\n",
    "len(X_train), len(X_test), len(y_train), len(y_test)\n"
   ]
  },
  {
   "cell_type": "code",
   "execution_count": 35,
   "id": "b31917a0",
   "metadata": {},
   "outputs": [
    {
     "name": "stdout",
     "output_type": "stream",
     "text": [
      "<Compressed Sparse Row sparse matrix of dtype 'float64'\n",
      "\twith 197387 stored elements and shape (1701, 5000)>\n",
      "  Coords\tValues\n",
      "  (0, 577)\t0.26222699102579267\n",
      "  (0, 344)\t0.16547965560011532\n",
      "  (0, 3029)\t0.2731293578781763\n",
      "  (0, 1827)\t0.4943461207361027\n",
      "  (0, 2003)\t0.12383354340295713\n",
      "  (0, 2984)\t0.06133337449010956\n",
      "  (0, 1474)\t0.07121690608757793\n",
      "  (0, 1805)\t0.22211410980029725\n",
      "  (0, 1830)\t0.09407526477399572\n",
      "  (0, 1246)\t0.1448053679818659\n",
      "  (0, 2873)\t0.06231864118409581\n",
      "  (0, 4898)\t0.1319796682408119\n",
      "  (0, 3887)\t0.11438039858187314\n",
      "  (0, 2982)\t0.07592414660000676\n",
      "  (0, 59)\t0.06427278386169191\n",
      "  (0, 403)\t0.15985616813936868\n",
      "  (0, 710)\t0.07592414660000676\n",
      "  (0, 1418)\t0.17946385272372503\n",
      "  (0, 4688)\t0.10292455081310799\n",
      "  (0, 2194)\t0.20035421705633613\n",
      "  (0, 1386)\t0.04556114479135536\n",
      "  (0, 2802)\t0.08740899700859754\n",
      "  (0, 3927)\t0.017370023540195442\n",
      "  (0, 1793)\t0.07543002979163956\n",
      "  (0, 3802)\t0.07085377496180187\n",
      "  :\t:\n",
      "  (1700, 3)\t0.02020068329952273\n",
      "  (1700, 3843)\t0.024471917924631163\n",
      "  (1700, 1305)\t0.027750382469600456\n",
      "  (1700, 3222)\t0.03349437072446469\n",
      "  (1700, 1506)\t0.22510174972503008\n",
      "  (1700, 1412)\t0.03256823987556391\n",
      "  (1700, 1855)\t0.024182605418553643\n",
      "  (1700, 2221)\t0.0314171083629461\n",
      "  (1700, 2672)\t0.03256823987556391\n",
      "  (1700, 3310)\t0.03177490335783328\n",
      "  (1700, 4812)\t0.11359649433250572\n",
      "  (1700, 2319)\t0.028942938072263825\n",
      "  (1700, 1559)\t0.026621650576375118\n",
      "  (1700, 413)\t0.05833850211311856\n",
      "  (1700, 225)\t0.060928776045980515\n",
      "  (1700, 4598)\t0.16284119937781957\n",
      "  (1700, 3306)\t0.03177490335783328\n",
      "  (1700, 4355)\t0.08436033799345578\n",
      "  (1700, 2605)\t0.07370945189957911\n",
      "  (1700, 3739)\t0.02940519722878275\n",
      "  (1700, 4846)\t0.06698874144892938\n",
      "  (1700, 1299)\t0.03177490335783328\n",
      "  (1700, 1899)\t0.03256823987556391\n",
      "  (1700, 624)\t0.4301284158179402\n",
      "  (1700, 1435)\t0.14741890379915823\n",
      "(426, 5000)\n"
     ]
    }
   ],
   "source": [
    "from sklearn.feature_extraction.text import TfidfVectorizer\n",
    "\n",
    "# Step 3: Preprocess the text data using TF-IDF Vectorizer\n",
    "tfidf = TfidfVectorizer(stop_words='english', max_features=5000)  # Limit features to 5000\n",
    "\n",
    "# Fit and transform the training data to create the TF-IDF matrix for the training set\n",
    "X_train_tfidf = tfidf.fit_transform(X_train)\n",
    "\n",
    "# Transform the testing data using the fitted TF-IDF vectorizer (no fitting on the test data)\n",
    "X_test_tfidf = tfidf.transform(X_test)\n",
    "\n",
    "# Print the TF-IDF matrix for the training set\n",
    "print(X_train_tfidf)\n",
    "\n",
    "# Print the shape of the transformed testing set\n",
    "print(X_test_tfidf.shape)\n"
   ]
  },
  {
   "cell_type": "code",
   "execution_count": 36,
   "id": "f903cfe39a1b1dbd",
   "metadata": {
    "ExecuteTime": {
     "end_time": "2024-11-26T16:17:57.407141Z",
     "start_time": "2024-11-26T16:17:57.299688Z"
    }
   },
   "outputs": [],
   "source": [
    "# Save the cleaned dataset to a new CSV file\n",
    "bbc_cleaned.to_csv('bbc_cleaned.csv', index=False)"
   ]
  }
 ],
 "metadata": {
  "kernelspec": {
   "display_name": "Python 3",
   "language": "python",
   "name": "python3"
  },
  "language_info": {
   "codemirror_mode": {
    "name": "ipython",
    "version": 3
   },
   "file_extension": ".py",
   "mimetype": "text/x-python",
   "name": "python",
   "nbconvert_exporter": "python",
   "pygments_lexer": "ipython3",
   "version": "3.12.5"
  }
 },
 "nbformat": 4,
 "nbformat_minor": 5
}
