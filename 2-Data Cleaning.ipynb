{
 "cells": [
  {
   "cell_type": "code",
   "execution_count": 2,
   "id": "initial_id",
   "metadata": {
    "ExecuteTime": {
     "end_time": "2024-11-26T16:07:43.737001Z",
     "start_time": "2024-11-26T16:07:43.719704Z"
    },
    "collapsed": true
   },
   "outputs": [],
   "source": [
    "import pandas as pd\n",
    "\n",
    "bbc = pd.read_csv('bbc.csv')"
   ]
  },
  {
   "cell_type": "code",
   "execution_count": 3,
   "id": "502c2cb063dcdb9",
   "metadata": {
    "ExecuteTime": {
     "end_time": "2024-11-26T16:07:47.772748Z",
     "start_time": "2024-11-26T16:07:47.747196Z"
    }
   },
   "outputs": [
    {
     "name": "stdout",
     "output_type": "stream",
     "text": [
      "Mất dữ liệu: text     0\n",
      "topic    0\n",
      "dtype: int64\n",
      "Dữ liệu bị trùng lặp: 98\n",
      "Giá trị duy nhất của cột 'topic': ['sport' 'politics' 'tech' 'business' 'entertainment']\n"
     ]
    }
   ],
   "source": [
    "# Check data quality\n",
    "print(\"Mất dữ liệu:\", bbc.isnull().sum())\n",
    "print(\"Dữ liệu bị trùng lặp:\", bbc.duplicated().sum())\n",
    "\n",
    "# Hiển thị các nhãn để xem xét\n",
    "print(\"Giá trị duy nhất của cột 'topic':\", bbc['topic'].unique())"
   ]
  },
  {
   "cell_type": "code",
   "execution_count": 5,
   "id": "b4beee372adae4ae",
   "metadata": {
    "ExecuteTime": {
     "end_time": "2024-11-26T16:16:59.973420Z",
     "start_time": "2024-11-26T16:16:59.939265Z"
    }
   },
   "outputs": [
    {
     "data": {
      "text/html": [
       "<div>\n",
       "<style scoped>\n",
       "    .dataframe tbody tr th:only-of-type {\n",
       "        vertical-align: middle;\n",
       "    }\n",
       "\n",
       "    .dataframe tbody tr th {\n",
       "        vertical-align: top;\n",
       "    }\n",
       "\n",
       "    .dataframe thead th {\n",
       "        text-align: right;\n",
       "    }\n",
       "</style>\n",
       "<table border=\"1\" class=\"dataframe\">\n",
       "  <thead>\n",
       "    <tr style=\"text-align: right;\">\n",
       "      <th></th>\n",
       "      <th>text</th>\n",
       "      <th>topic</th>\n",
       "    </tr>\n",
       "  </thead>\n",
       "  <tbody>\n",
       "    <tr>\n",
       "      <th>count</th>\n",
       "      <td>2127</td>\n",
       "      <td>2127</td>\n",
       "    </tr>\n",
       "    <tr>\n",
       "      <th>unique</th>\n",
       "      <td>2127</td>\n",
       "      <td>5</td>\n",
       "    </tr>\n",
       "    <tr>\n",
       "      <th>top</th>\n",
       "      <td>Oscar nominees gear up for lunch\\n\\nLeonardo D...</td>\n",
       "      <td>sport</td>\n",
       "    </tr>\n",
       "    <tr>\n",
       "      <th>freq</th>\n",
       "      <td>1</td>\n",
       "      <td>505</td>\n",
       "    </tr>\n",
       "  </tbody>\n",
       "</table>\n",
       "</div>"
      ],
      "text/plain": [
       "                                                     text  topic\n",
       "count                                                2127   2127\n",
       "unique                                               2127      5\n",
       "top     Oscar nominees gear up for lunch\\n\\nLeonardo D...  sport\n",
       "freq                                                    1    505"
      ]
     },
     "execution_count": 5,
     "metadata": {},
     "output_type": "execute_result"
    }
   ],
   "source": [
    "# Có 98 dòng dữ liệu bị lặp lại\n",
    "# Không có dữ liệu bị mất\n",
    "# Có 5 giá trị duy nhất ở cột 'topic', không có giá trị nào bị viết sai hoặc không thống nhất\n",
    "# Vậy chỉ cần loại bỏ các dữ liệu bị lặp lại\n",
    "# Bắt đầu làm sạch dữ liệu\n",
    "bbc_cleaned = bbc.drop_duplicates()\n",
    "bbc_cleaned.describe()\n"
   ]
  },
  {
   "cell_type": "code",
   "execution_count": 22,
   "id": "f903cfe39a1b1dbd",
   "metadata": {
    "ExecuteTime": {
     "end_time": "2024-11-26T16:17:57.407141Z",
     "start_time": "2024-11-26T16:17:57.299688Z"
    }
   },
   "outputs": [],
   "source": [
    "# Lưu dữ liệu đã làm sạch\n",
    "bbc_cleaned.to_csv('bbc_cleaned.csv', index=False)"
   ]
  }
 ],
 "metadata": {
  "kernelspec": {
   "display_name": "Python 3",
   "language": "python",
   "name": "python3"
  },
  "language_info": {
   "codemirror_mode": {
    "name": "ipython",
    "version": 3
   },
   "file_extension": ".py",
   "mimetype": "text/x-python",
   "name": "python",
   "nbconvert_exporter": "python",
   "pygments_lexer": "ipython3",
   "version": "3.12.7"
  }
 },
 "nbformat": 4,
 "nbformat_minor": 5
}
