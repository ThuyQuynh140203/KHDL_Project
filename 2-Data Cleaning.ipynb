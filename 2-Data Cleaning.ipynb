{
 "cells": [
  {
   "cell_type": "code",
   "execution_count": 69,
   "id": "initial_id",
   "metadata": {
    "ExecuteTime": {
     "end_time": "2024-11-26T16:07:43.737001Z",
     "start_time": "2024-11-26T16:07:43.719704Z"
    },
    "collapsed": true
   },
   "outputs": [],
   "source": [
    "import pandas as pd\n",
    "\n",
    "bbc = pd.read_csv('bbc.csv')"
   ]
  },
  {
   "cell_type": "code",
   "execution_count": 70,
   "id": "502c2cb063dcdb9",
   "metadata": {
    "ExecuteTime": {
     "end_time": "2024-11-26T16:07:47.772748Z",
     "start_time": "2024-11-26T16:07:47.747196Z"
    }
   },
   "outputs": [
    {
     "name": "stdout",
     "output_type": "stream",
     "text": [
      "Mất dữ liệu: text     0\n",
      "topic    0\n",
      "dtype: int64\n",
      "Dữ liệu bị trùng lặp: 98\n",
      "Giá trị duy nhất của cột 'topic': ['sport' 'politics' 'tech' 'business' 'entertainment']\n"
     ]
    }
   ],
   "source": [
    "# Check data quality\n",
    "print(\"Mất dữ liệu:\", bbc.isnull().sum())\n",
    "print(\"Dữ liệu bị trùng lặp:\", bbc.duplicated().sum())\n",
    "\n",
    "# Hiển thị các nhãn để xem xét\n",
    "print(\"Giá trị duy nhất của cột 'topic':\", bbc['topic'].unique())"
   ]
  },
  {
   "cell_type": "code",
   "execution_count": 71,
   "id": "b4beee372adae4ae",
   "metadata": {
    "ExecuteTime": {
     "end_time": "2024-11-26T16:16:59.973420Z",
     "start_time": "2024-11-26T16:16:59.939265Z"
    }
   },
   "outputs": [
    {
     "data": {
      "text/html": [
       "<div>\n",
       "<style scoped>\n",
       "    .dataframe tbody tr th:only-of-type {\n",
       "        vertical-align: middle;\n",
       "    }\n",
       "\n",
       "    .dataframe tbody tr th {\n",
       "        vertical-align: top;\n",
       "    }\n",
       "\n",
       "    .dataframe thead th {\n",
       "        text-align: right;\n",
       "    }\n",
       "</style>\n",
       "<table border=\"1\" class=\"dataframe\">\n",
       "  <thead>\n",
       "    <tr style=\"text-align: right;\">\n",
       "      <th></th>\n",
       "      <th>text</th>\n",
       "      <th>topic</th>\n",
       "    </tr>\n",
       "  </thead>\n",
       "  <tbody>\n",
       "    <tr>\n",
       "      <th>count</th>\n",
       "      <td>2127</td>\n",
       "      <td>2127</td>\n",
       "    </tr>\n",
       "    <tr>\n",
       "      <th>unique</th>\n",
       "      <td>2127</td>\n",
       "      <td>5</td>\n",
       "    </tr>\n",
       "    <tr>\n",
       "      <th>top</th>\n",
       "      <td>Oscar nominees gear up for lunch\\n\\nLeonardo D...</td>\n",
       "      <td>sport</td>\n",
       "    </tr>\n",
       "    <tr>\n",
       "      <th>freq</th>\n",
       "      <td>1</td>\n",
       "      <td>505</td>\n",
       "    </tr>\n",
       "  </tbody>\n",
       "</table>\n",
       "</div>"
      ],
      "text/plain": [
       "                                                     text  topic\n",
       "count                                                2127   2127\n",
       "unique                                               2127      5\n",
       "top     Oscar nominees gear up for lunch\\n\\nLeonardo D...  sport\n",
       "freq                                                    1    505"
      ]
     },
     "execution_count": 71,
     "metadata": {},
     "output_type": "execute_result"
    }
   ],
   "source": [
    "# Có 98 dòng dữ liệu bị lặp lại\n",
    "# Không có dữ liệu bị mất\n",
    "# Có 5 giá trị duy nhất ở cột 'topic', không có giá trị nào bị viết sai hoặc không thống nhất\n",
    "# Vậy chỉ cần loại bỏ các dữ liệu bị lặp lại\n",
    "# Bắt đầu làm sạch dữ liệu\n",
    "bbc_cleaned = bbc.drop_duplicates()\n",
    "bbc_cleaned.describe()\n"
   ]
  },
  {
   "cell_type": "code",
   "execution_count": 72,
   "id": "4c40ffe5",
   "metadata": {},
   "outputs": [
    {
     "data": {
      "text/plain": [
       "(1701, 426, 1701, 426)"
      ]
     },
     "execution_count": 72,
     "metadata": {},
     "output_type": "execute_result"
    }
   ],
   "source": [
    "from sklearn.model_selection import train_test_split\n",
    "\n",
    "texts = bbc_cleaned['text']  # Extract the 'text' column\n",
    "labels = bbc_cleaned['topic']  # Extract the 'topic' column\n",
    "\n",
    "# Step 2: Split the dataset into training and testing sets\n",
    "X_train, X_test, y_train, y_test = train_test_split(texts, labels, test_size=0.2, random_state=42)\n",
    "len(X_train), len(X_test), len(y_train), len(y_test)"
   ]
  },
  {
   "cell_type": "code",
   "execution_count": 76,
   "id": "b31917a0",
   "metadata": {},
   "outputs": [
    {
     "name": "stdout",
     "output_type": "stream",
     "text": [
      "<Compressed Sparse Row sparse matrix of dtype 'float64'\n",
      "\twith 197387 stored elements and shape (1701, 5000)>\n",
      "  Coords\tValues\n",
      "  (0, 577)\t0.26222699102579267\n",
      "  (0, 344)\t0.16547965560011532\n",
      "  (0, 3029)\t0.2731293578781763\n",
      "  (0, 1827)\t0.4943461207361027\n",
      "  (0, 2003)\t0.12383354340295713\n",
      "  (0, 2984)\t0.06133337449010956\n",
      "  (0, 1474)\t0.07121690608757793\n",
      "  (0, 1805)\t0.22211410980029725\n",
      "  (0, 1830)\t0.09407526477399572\n",
      "  (0, 1246)\t0.1448053679818659\n",
      "  (0, 2873)\t0.06231864118409581\n",
      "  (0, 4898)\t0.1319796682408119\n",
      "  (0, 3887)\t0.11438039858187314\n",
      "  (0, 2982)\t0.07592414660000676\n",
      "  (0, 59)\t0.06427278386169191\n",
      "  (0, 403)\t0.15985616813936868\n",
      "  (0, 710)\t0.07592414660000676\n",
      "  (0, 1418)\t0.17946385272372503\n",
      "  (0, 4688)\t0.10292455081310799\n",
      "  (0, 2194)\t0.20035421705633613\n",
      "  (0, 1386)\t0.04556114479135536\n",
      "  (0, 2802)\t0.08740899700859754\n",
      "  (0, 3927)\t0.017370023540195442\n",
      "  (0, 1793)\t0.07543002979163956\n",
      "  (0, 3802)\t0.07085377496180187\n",
      "  :\t:\n",
      "  (1700, 3)\t0.02020068329952273\n",
      "  (1700, 3843)\t0.024471917924631163\n",
      "  (1700, 1305)\t0.027750382469600456\n",
      "  (1700, 3222)\t0.03349437072446469\n",
      "  (1700, 1506)\t0.22510174972503008\n",
      "  (1700, 1412)\t0.03256823987556391\n",
      "  (1700, 1855)\t0.024182605418553643\n",
      "  (1700, 2221)\t0.0314171083629461\n",
      "  (1700, 2672)\t0.03256823987556391\n",
      "  (1700, 3310)\t0.03177490335783328\n",
      "  (1700, 4812)\t0.11359649433250572\n",
      "  (1700, 2319)\t0.028942938072263825\n",
      "  (1700, 1559)\t0.026621650576375118\n",
      "  (1700, 413)\t0.05833850211311856\n",
      "  (1700, 225)\t0.060928776045980515\n",
      "  (1700, 4598)\t0.16284119937781957\n",
      "  (1700, 3306)\t0.03177490335783328\n",
      "  (1700, 4355)\t0.08436033799345578\n",
      "  (1700, 2605)\t0.07370945189957911\n",
      "  (1700, 3739)\t0.02940519722878275\n",
      "  (1700, 4846)\t0.06698874144892938\n",
      "  (1700, 1299)\t0.03177490335783328\n",
      "  (1700, 1899)\t0.03256823987556391\n",
      "  (1700, 624)\t0.4301284158179402\n",
      "  (1700, 1435)\t0.14741890379915823\n",
      "(426, 5000)\n"
     ]
    }
   ],
   "source": [
    "from sklearn.feature_extraction.text import TfidfVectorizer\n",
    "# Step 3: Preprocess the text data using TF-IDF Vectorizer\n",
    "tfidf = TfidfVectorizer(stop_words='english', max_features=5000)  # Limit features to 5000\n",
    "X_train_tfidf = tfidf.fit_transform(X_train)  # Fit and transform the training data\n",
    "X_test_tfidf = tfidf.transform(X_test)  # Transform the testing data\n",
    "\n",
    "print(X_train_tfidf)\n",
    "print(X_test_tfidf.shape)\n"
   ]
  },
  {
   "cell_type": "code",
   "execution_count": 74,
   "id": "f903cfe39a1b1dbd",
   "metadata": {
    "ExecuteTime": {
     "end_time": "2024-11-26T16:17:57.407141Z",
     "start_time": "2024-11-26T16:17:57.299688Z"
    }
   },
   "outputs": [],
   "source": [
    "# Lưu dữ liệu đã làm sạch\n",
    "bbc_cleaned.to_csv('bbc_cleaned.csv', index=False)"
   ]
  }
 ],
 "metadata": {
  "kernelspec": {
   "display_name": "Python 3",
   "language": "python",
   "name": "python3"
  },
  "language_info": {
   "codemirror_mode": {
    "name": "ipython",
    "version": 3
   },
   "file_extension": ".py",
   "mimetype": "text/x-python",
   "name": "python",
   "nbconvert_exporter": "python",
   "pygments_lexer": "ipython3",
   "version": "3.12.7"
  }
 },
 "nbformat": 4,
 "nbformat_minor": 5
}
