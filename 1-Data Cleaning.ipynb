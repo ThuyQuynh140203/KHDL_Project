{
 "cells": [
  {
   "cell_type": "code",
   "execution_count": 43,
   "id": "initial_id",
   "metadata": {
    "ExecuteTime": {
     "end_time": "2024-12-11T04:46:15.897024Z",
     "start_time": "2024-12-11T04:46:14.774432Z"
    }
   },
   "outputs": [
    {
     "name": "stdout",
     "output_type": "stream",
     "text": [
      "(2225, 2)\n",
      "<class 'pandas.core.frame.DataFrame'>\n",
      "RangeIndex: 2225 entries, 0 to 2224\n",
      "Data columns (total 2 columns):\n",
      " #   Column  Non-Null Count  Dtype \n",
      "---  ------  --------------  ----- \n",
      " 0   text    2225 non-null   object\n",
      " 1   topic   2225 non-null   object\n",
      "dtypes: object(2)\n",
      "memory usage: 34.9+ KB\n",
      "None\n",
      "                                                text     topic\n",
      "0  Dallaglio his own man to the end\\r\\n\\r\\nContro...     sport\n",
      "1  Best person' for top legal job\\r\\n\\r\\nThe \"bes...  politics\n",
      "2  Viewers to be able to shape TV\\r\\n\\r\\nImagine ...      tech\n",
      "3  Fox attacks Blair's Tory 'lies'\\r\\n\\r\\nTony Bl...  politics\n",
      "4  Microsoft debuts security tools\\r\\n\\r\\nMicroso...      tech\n"
     ]
    }
   ],
   "source": [
    "import pandas as pd\n",
    "from sklearn.feature_extraction.text import ENGLISH_STOP_WORDS\n",
    "\n",
    "bbc = pd.read_csv('bbc.csv')\n",
    "bbc.head()\n",
    "print(bbc.shape)\n",
    "print(bbc.info())\n",
    "print(bbc.head())   "
   ]
  },
  {
   "cell_type": "code",
   "execution_count": 44,
   "id": "502c2cb063dcdb9",
   "metadata": {
    "ExecuteTime": {
     "end_time": "2024-12-11T04:46:15.927255Z",
     "start_time": "2024-12-11T04:46:15.902024Z"
    }
   },
   "outputs": [
    {
     "name": "stdout",
     "output_type": "stream",
     "text": [
      "Missing data: text     0\n",
      "topic    0\n",
      "dtype: int64\n",
      "Duplicate data: 98\n",
      "Unique values in the 'topic' column: ['sport' 'politics' 'tech' 'business' 'entertainment']\n"
     ]
    }
   ],
   "source": [
    "# Check for missing data and print the total number of missing values for each column\n",
    "print(\"Missing data:\", bbc.isnull().sum())\n",
    "\n",
    "# Check for duplicate rows in the dataset and print the total number of duplicate rows\n",
    "print(\"Duplicate data:\", bbc.duplicated().sum())\n",
    "\n",
    "# Display the unique values of the 'topic' column to examine the different categories\n",
    "print(\"Unique values in the 'topic' column:\", bbc['topic'].unique())\n"
   ]
  },
  {
   "cell_type": "markdown",
   "id": "4bbd030f",
   "metadata": {},
   "source": [
    "- There are 98 duplicate rows in the dataset.\n",
    "- There is no missing data.\n",
    "- There are 5 unique values in the 'topic' column, and none of them are incorrect or inconsistent.\n",
    "- Therefore, we only need to remove the duplicate rows."
   ]
  },
  {
   "cell_type": "code",
   "execution_count": 45,
   "id": "b4beee372adae4ae",
   "metadata": {
    "ExecuteTime": {
     "end_time": "2024-12-11T04:46:15.957874Z",
     "start_time": "2024-12-11T04:46:15.929310Z"
    }
   },
   "outputs": [
    {
     "name": "stdout",
     "output_type": "stream",
     "text": [
      "                                                text     topic\n",
      "0  Dallaglio his own man to the end\\r\\n\\r\\nContro...     sport\n",
      "1  Best person' for top legal job\\r\\n\\r\\nThe \"bes...  politics\n",
      "2  Viewers to be able to shape TV\\r\\n\\r\\nImagine ...      tech\n",
      "3  Fox attacks Blair's Tory 'lies'\\r\\n\\r\\nTony Bl...  politics\n",
      "4  Microsoft debuts security tools\\r\\n\\r\\nMicroso...      tech\n"
     ]
    }
   ],
   "source": [
    "# Display summary statistics of the cleaned dataset\n",
    "bbc.describe()\n",
    "print(bbc.head())\n"
   ]
  },
  {
   "cell_type": "markdown",
   "id": "d421c2da",
   "metadata": {},
   "source": [
    "Converts all the text in the 'text' column of the bbc DataFrame to lowercase."
   ]
  },
  {
   "cell_type": "code",
   "execution_count": 46,
   "id": "7dd0b663",
   "metadata": {
    "ExecuteTime": {
     "end_time": "2024-12-11T04:46:15.989419Z",
     "start_time": "2024-12-11T04:46:15.960382Z"
    }
   },
   "outputs": [
    {
     "name": "stdout",
     "output_type": "stream",
     "text": [
      "                                                text     topic\n",
      "0  dallaglio his own man to the end\\r\\n\\r\\ncontro...     sport\n",
      "1  best person' for top legal job\\r\\n\\r\\nthe \"bes...  politics\n",
      "2  viewers to be able to shape tv\\r\\n\\r\\nimagine ...      tech\n",
      "3  fox attacks blair's tory 'lies'\\r\\n\\r\\ntony bl...  politics\n",
      "4  microsoft debuts security tools\\r\\n\\r\\nmicroso...      tech\n"
     ]
    }
   ],
   "source": [
    "bbc[\"text\"] = bbc[\"text\"].str.lower()\n",
    "print(bbc.head())"
   ]
  },
  {
   "cell_type": "markdown",
   "id": "ad5dbe88",
   "metadata": {},
   "source": [
    "This operation helps standardize the text by eliminating possessive forms, making the text easier to process or analyze without unnecessary distinctions like possession.\n",
    "\n",
    "The function is used to remove the possessive suffix \"'s\" from the words in the 'text' column of the bbc DataFrame"
   ]
  },
  {
   "cell_type": "code",
   "execution_count": 47,
   "id": "e2777f7d",
   "metadata": {
    "ExecuteTime": {
     "end_time": "2024-12-11T04:46:16.020627Z",
     "start_time": "2024-12-11T04:46:15.990421Z"
    }
   },
   "outputs": [
    {
     "data": {
      "text/html": [
       "<div>\n",
       "<style scoped>\n",
       "    .dataframe tbody tr th:only-of-type {\n",
       "        vertical-align: middle;\n",
       "    }\n",
       "\n",
       "    .dataframe tbody tr th {\n",
       "        vertical-align: top;\n",
       "    }\n",
       "\n",
       "    .dataframe thead th {\n",
       "        text-align: right;\n",
       "    }\n",
       "</style>\n",
       "<table border=\"1\" class=\"dataframe\">\n",
       "  <thead>\n",
       "    <tr style=\"text-align: right;\">\n",
       "      <th></th>\n",
       "      <th>text</th>\n",
       "      <th>topic</th>\n",
       "    </tr>\n",
       "  </thead>\n",
       "  <tbody>\n",
       "    <tr>\n",
       "      <th>0</th>\n",
       "      <td>dallaglio his own man to the end\\r\\n\\r\\ncontro...</td>\n",
       "      <td>sport</td>\n",
       "    </tr>\n",
       "    <tr>\n",
       "      <th>1</th>\n",
       "      <td>best person' for top legal job\\r\\n\\r\\nthe \"bes...</td>\n",
       "      <td>politics</td>\n",
       "    </tr>\n",
       "    <tr>\n",
       "      <th>2</th>\n",
       "      <td>viewers to be able to shape tv\\r\\n\\r\\nimagine ...</td>\n",
       "      <td>tech</td>\n",
       "    </tr>\n",
       "    <tr>\n",
       "      <th>3</th>\n",
       "      <td>fox attacks blair tory 'lies'\\r\\n\\r\\ntony blai...</td>\n",
       "      <td>politics</td>\n",
       "    </tr>\n",
       "    <tr>\n",
       "      <th>4</th>\n",
       "      <td>microsoft debuts security tools\\r\\n\\r\\nmicroso...</td>\n",
       "      <td>tech</td>\n",
       "    </tr>\n",
       "    <tr>\n",
       "      <th>...</th>\n",
       "      <td>...</td>\n",
       "      <td>...</td>\n",
       "    </tr>\n",
       "    <tr>\n",
       "      <th>2220</th>\n",
       "      <td>michael film signals 'retirement'\\r\\n\\r\\nsinge...</td>\n",
       "      <td>entertainment</td>\n",
       "    </tr>\n",
       "    <tr>\n",
       "      <th>2221</th>\n",
       "      <td>ray charles studio becomes museum\\r\\n\\r\\na mus...</td>\n",
       "      <td>entertainment</td>\n",
       "    </tr>\n",
       "    <tr>\n",
       "      <th>2222</th>\n",
       "      <td>chancellor rallies labour voters\\r\\n\\r\\ngordon...</td>\n",
       "      <td>politics</td>\n",
       "    </tr>\n",
       "    <tr>\n",
       "      <th>2223</th>\n",
       "      <td>oscar nominees gear up for lunch\\r\\n\\r\\nleonar...</td>\n",
       "      <td>entertainment</td>\n",
       "    </tr>\n",
       "    <tr>\n",
       "      <th>2224</th>\n",
       "      <td>california sets fines for spyware\\r\\n\\r\\nthe m...</td>\n",
       "      <td>tech</td>\n",
       "    </tr>\n",
       "  </tbody>\n",
       "</table>\n",
       "<p>2225 rows × 2 columns</p>\n",
       "</div>"
      ],
      "text/plain": [
       "                                                   text          topic\n",
       "0     dallaglio his own man to the end\\r\\n\\r\\ncontro...          sport\n",
       "1     best person' for top legal job\\r\\n\\r\\nthe \"bes...       politics\n",
       "2     viewers to be able to shape tv\\r\\n\\r\\nimagine ...           tech\n",
       "3     fox attacks blair tory 'lies'\\r\\n\\r\\ntony blai...       politics\n",
       "4     microsoft debuts security tools\\r\\n\\r\\nmicroso...           tech\n",
       "...                                                 ...            ...\n",
       "2220  michael film signals 'retirement'\\r\\n\\r\\nsinge...  entertainment\n",
       "2221  ray charles studio becomes museum\\r\\n\\r\\na mus...  entertainment\n",
       "2222  chancellor rallies labour voters\\r\\n\\r\\ngordon...       politics\n",
       "2223  oscar nominees gear up for lunch\\r\\n\\r\\nleonar...  entertainment\n",
       "2224  california sets fines for spyware\\r\\n\\r\\nthe m...           tech\n",
       "\n",
       "[2225 rows x 2 columns]"
      ]
     },
     "execution_count": 47,
     "metadata": {},
     "output_type": "execute_result"
    }
   ],
   "source": [
    "bbc.loc[:, \"text\"] = bbc[\"text\"].str.replace(\"'s\", \"\", regex=True)\n",
    "bbc"
   ]
  },
  {
   "cell_type": "markdown",
   "id": "b8c944dc",
   "metadata": {},
   "source": [
    "Remove special characters from the 'text' column in the bbc DataFrame"
   ]
  },
  {
   "cell_type": "code",
   "execution_count": 48,
   "id": "c56d21fb",
   "metadata": {
    "ExecuteTime": {
     "end_time": "2024-12-11T04:46:16.066779Z",
     "start_time": "2024-12-11T04:46:16.021629Z"
    }
   },
   "outputs": [
    {
     "data": {
      "text/html": [
       "<div>\n",
       "<style scoped>\n",
       "    .dataframe tbody tr th:only-of-type {\n",
       "        vertical-align: middle;\n",
       "    }\n",
       "\n",
       "    .dataframe tbody tr th {\n",
       "        vertical-align: top;\n",
       "    }\n",
       "\n",
       "    .dataframe thead th {\n",
       "        text-align: right;\n",
       "    }\n",
       "</style>\n",
       "<table border=\"1\" class=\"dataframe\">\n",
       "  <thead>\n",
       "    <tr style=\"text-align: right;\">\n",
       "      <th></th>\n",
       "      <th>text</th>\n",
       "      <th>topic</th>\n",
       "    </tr>\n",
       "  </thead>\n",
       "  <tbody>\n",
       "    <tr>\n",
       "      <th>0</th>\n",
       "      <td>dallaglio his own man to the end\\r\\n\\r\\ncontro...</td>\n",
       "      <td>sport</td>\n",
       "    </tr>\n",
       "    <tr>\n",
       "      <th>1</th>\n",
       "      <td>best person for top legal job\\r\\n\\r\\nthe best ...</td>\n",
       "      <td>politics</td>\n",
       "    </tr>\n",
       "    <tr>\n",
       "      <th>2</th>\n",
       "      <td>viewers to be able to shape tv\\r\\n\\r\\nimagine ...</td>\n",
       "      <td>tech</td>\n",
       "    </tr>\n",
       "    <tr>\n",
       "      <th>3</th>\n",
       "      <td>fox attacks blair tory lies\\r\\n\\r\\ntony blair ...</td>\n",
       "      <td>politics</td>\n",
       "    </tr>\n",
       "    <tr>\n",
       "      <th>4</th>\n",
       "      <td>microsoft debuts security tools\\r\\n\\r\\nmicroso...</td>\n",
       "      <td>tech</td>\n",
       "    </tr>\n",
       "    <tr>\n",
       "      <th>...</th>\n",
       "      <td>...</td>\n",
       "      <td>...</td>\n",
       "    </tr>\n",
       "    <tr>\n",
       "      <th>2220</th>\n",
       "      <td>michael film signals retirement\\r\\n\\r\\nsinger ...</td>\n",
       "      <td>entertainment</td>\n",
       "    </tr>\n",
       "    <tr>\n",
       "      <th>2221</th>\n",
       "      <td>ray charles studio becomes museum\\r\\n\\r\\na mus...</td>\n",
       "      <td>entertainment</td>\n",
       "    </tr>\n",
       "    <tr>\n",
       "      <th>2222</th>\n",
       "      <td>chancellor rallies labour voters\\r\\n\\r\\ngordon...</td>\n",
       "      <td>politics</td>\n",
       "    </tr>\n",
       "    <tr>\n",
       "      <th>2223</th>\n",
       "      <td>oscar nominees gear up for lunch\\r\\n\\r\\nleonar...</td>\n",
       "      <td>entertainment</td>\n",
       "    </tr>\n",
       "    <tr>\n",
       "      <th>2224</th>\n",
       "      <td>california sets fines for spyware\\r\\n\\r\\nthe m...</td>\n",
       "      <td>tech</td>\n",
       "    </tr>\n",
       "  </tbody>\n",
       "</table>\n",
       "<p>2225 rows × 2 columns</p>\n",
       "</div>"
      ],
      "text/plain": [
       "                                                   text          topic\n",
       "0     dallaglio his own man to the end\\r\\n\\r\\ncontro...          sport\n",
       "1     best person for top legal job\\r\\n\\r\\nthe best ...       politics\n",
       "2     viewers to be able to shape tv\\r\\n\\r\\nimagine ...           tech\n",
       "3     fox attacks blair tory lies\\r\\n\\r\\ntony blair ...       politics\n",
       "4     microsoft debuts security tools\\r\\n\\r\\nmicroso...           tech\n",
       "...                                                 ...            ...\n",
       "2220  michael film signals retirement\\r\\n\\r\\nsinger ...  entertainment\n",
       "2221  ray charles studio becomes museum\\r\\n\\r\\na mus...  entertainment\n",
       "2222  chancellor rallies labour voters\\r\\n\\r\\ngordon...       politics\n",
       "2223  oscar nominees gear up for lunch\\r\\n\\r\\nleonar...  entertainment\n",
       "2224  california sets fines for spyware\\r\\n\\r\\nthe m...           tech\n",
       "\n",
       "[2225 rows x 2 columns]"
      ]
     },
     "execution_count": 48,
     "metadata": {},
     "output_type": "execute_result"
    }
   ],
   "source": [
    "bbc[\"text\"] = bbc[\"text\"].str.replace(r\"[;!?,.:()\\\"']\", \"\", regex=True)\n",
    "bbc"
   ]
  },
  {
   "cell_type": "markdown",
   "id": "b15a537d",
   "metadata": {},
   "source": [
    "The code you've provided is used to remove stop words from the 'text' column in the bbc DataFrame using a set of stop words from the sklearn library."
   ]
  },
  {
   "cell_type": "code",
   "execution_count": 49,
   "id": "b31917a0",
   "metadata": {
    "ExecuteTime": {
     "end_time": "2024-12-11T04:46:16.235726Z",
     "start_time": "2024-12-11T04:46:16.068298Z"
    }
   },
   "outputs": [
    {
     "data": {
      "text/html": [
       "<div>\n",
       "<style scoped>\n",
       "    .dataframe tbody tr th:only-of-type {\n",
       "        vertical-align: middle;\n",
       "    }\n",
       "\n",
       "    .dataframe tbody tr th {\n",
       "        vertical-align: top;\n",
       "    }\n",
       "\n",
       "    .dataframe thead th {\n",
       "        text-align: right;\n",
       "    }\n",
       "</style>\n",
       "<table border=\"1\" class=\"dataframe\">\n",
       "  <thead>\n",
       "    <tr style=\"text-align: right;\">\n",
       "      <th></th>\n",
       "      <th>text</th>\n",
       "      <th>topic</th>\n",
       "    </tr>\n",
       "  </thead>\n",
       "  <tbody>\n",
       "    <tr>\n",
       "      <th>0</th>\n",
       "      <td>dallaglio man end controversy lawrence dallagl...</td>\n",
       "      <td>sport</td>\n",
       "    </tr>\n",
       "    <tr>\n",
       "      <th>1</th>\n",
       "      <td>best person legal job best person job appointe...</td>\n",
       "      <td>politics</td>\n",
       "    </tr>\n",
       "    <tr>\n",
       "      <th>2</th>\n",
       "      <td>viewers able shape tv imagine editing titanic ...</td>\n",
       "      <td>tech</td>\n",
       "    </tr>\n",
       "    <tr>\n",
       "      <th>3</th>\n",
       "      <td>fox attacks blair tory lies tony blair lied to...</td>\n",
       "      <td>politics</td>\n",
       "    </tr>\n",
       "    <tr>\n",
       "      <th>4</th>\n",
       "      <td>microsoft debuts security tools microsoft rele...</td>\n",
       "      <td>tech</td>\n",
       "    </tr>\n",
       "  </tbody>\n",
       "</table>\n",
       "</div>"
      ],
      "text/plain": [
       "                                                text     topic\n",
       "0  dallaglio man end controversy lawrence dallagl...     sport\n",
       "1  best person legal job best person job appointe...  politics\n",
       "2  viewers able shape tv imagine editing titanic ...      tech\n",
       "3  fox attacks blair tory lies tony blair lied to...  politics\n",
       "4  microsoft debuts security tools microsoft rele...      tech"
      ]
     },
     "execution_count": 49,
     "metadata": {},
     "output_type": "execute_result"
    }
   ],
   "source": [
    "# Create set of stop words from sklearn\n",
    "stop_words = set(ENGLISH_STOP_WORDS)\n",
    "\n",
    "# This function is use for removing stop words in text \n",
    "def remove_stopwords(text):\n",
    "    words = text.split()\n",
    "    filtered_words = [word for word in words if word.lower() not in stop_words]\n",
    "    return ' '.join(filtered_words)\n",
    "\n",
    "bbc.loc[:, 'text'] = bbc['text'].apply(remove_stopwords)\n",
    "\n",
    "bbc.head()"
   ]
  },
  {
   "cell_type": "markdown",
   "id": "09a8b3b0",
   "metadata": {},
   "source": [
    "The code you've provided defines a function to remove specific abbreviations like '&' and '/' from the 'text' column in the bbc DataFrame."
   ]
  },
  {
   "cell_type": "code",
   "execution_count": 50,
   "id": "d2a99325",
   "metadata": {
    "ExecuteTime": {
     "end_time": "2024-12-11T04:46:16.487492Z",
     "start_time": "2024-12-11T04:46:16.238809Z"
    }
   },
   "outputs": [
    {
     "data": {
      "text/html": [
       "<div>\n",
       "<style scoped>\n",
       "    .dataframe tbody tr th:only-of-type {\n",
       "        vertical-align: middle;\n",
       "    }\n",
       "\n",
       "    .dataframe tbody tr th {\n",
       "        vertical-align: top;\n",
       "    }\n",
       "\n",
       "    .dataframe thead th {\n",
       "        text-align: right;\n",
       "    }\n",
       "</style>\n",
       "<table border=\"1\" class=\"dataframe\">\n",
       "  <thead>\n",
       "    <tr style=\"text-align: right;\">\n",
       "      <th></th>\n",
       "      <th>text</th>\n",
       "      <th>topic</th>\n",
       "    </tr>\n",
       "  </thead>\n",
       "  <tbody>\n",
       "    <tr>\n",
       "      <th>0</th>\n",
       "      <td>dallaglio man end controversy lawrence dallagl...</td>\n",
       "      <td>sport</td>\n",
       "    </tr>\n",
       "    <tr>\n",
       "      <th>1</th>\n",
       "      <td>best person legal job best person job appointe...</td>\n",
       "      <td>politics</td>\n",
       "    </tr>\n",
       "    <tr>\n",
       "      <th>2</th>\n",
       "      <td>viewers able shape tv imagine editing titanic ...</td>\n",
       "      <td>tech</td>\n",
       "    </tr>\n",
       "    <tr>\n",
       "      <th>3</th>\n",
       "      <td>fox attacks blair tory lies tony blair lied to...</td>\n",
       "      <td>politics</td>\n",
       "    </tr>\n",
       "    <tr>\n",
       "      <th>4</th>\n",
       "      <td>microsoft debuts security tools microsoft rele...</td>\n",
       "      <td>tech</td>\n",
       "    </tr>\n",
       "    <tr>\n",
       "      <th>...</th>\n",
       "      <td>...</td>\n",
       "      <td>...</td>\n",
       "    </tr>\n",
       "    <tr>\n",
       "      <th>2220</th>\n",
       "      <td>michael film signals retirement singer george ...</td>\n",
       "      <td>entertainment</td>\n",
       "    </tr>\n",
       "    <tr>\n",
       "      <th>2221</th>\n",
       "      <td>ray charles studio museum museum dedicated car...</td>\n",
       "      <td>entertainment</td>\n",
       "    </tr>\n",
       "    <tr>\n",
       "      <th>2222</th>\n",
       "      <td>chancellor rallies labour voters gordon brown ...</td>\n",
       "      <td>politics</td>\n",
       "    </tr>\n",
       "    <tr>\n",
       "      <th>2223</th>\n",
       "      <td>oscar nominees gear lunch leonardo dicaprio ja...</td>\n",
       "      <td>entertainment</td>\n",
       "    </tr>\n",
       "    <tr>\n",
       "      <th>2224</th>\n",
       "      <td>california sets fines spyware makers computer ...</td>\n",
       "      <td>tech</td>\n",
       "    </tr>\n",
       "  </tbody>\n",
       "</table>\n",
       "<p>2225 rows × 2 columns</p>\n",
       "</div>"
      ],
      "text/plain": [
       "                                                   text          topic\n",
       "0     dallaglio man end controversy lawrence dallagl...          sport\n",
       "1     best person legal job best person job appointe...       politics\n",
       "2     viewers able shape tv imagine editing titanic ...           tech\n",
       "3     fox attacks blair tory lies tony blair lied to...       politics\n",
       "4     microsoft debuts security tools microsoft rele...           tech\n",
       "...                                                 ...            ...\n",
       "2220  michael film signals retirement singer george ...  entertainment\n",
       "2221  ray charles studio museum museum dedicated car...  entertainment\n",
       "2222  chancellor rallies labour voters gordon brown ...       politics\n",
       "2223  oscar nominees gear lunch leonardo dicaprio ja...  entertainment\n",
       "2224  california sets fines spyware makers computer ...           tech\n",
       "\n",
       "[2225 rows x 2 columns]"
      ]
     },
     "execution_count": 50,
     "metadata": {},
     "output_type": "execute_result"
    }
   ],
   "source": [
    "import re\n",
    "\n",
    "def remove_abbreviations_and_slash(text):\n",
    "    abbreviations = r'\\b(&|/)\\b'\n",
    "    cleaned_text = re.sub(abbreviations, '', text)\n",
    "    # Remove extra spaces after clean\n",
    "    cleaned_text = re.sub(r'\\s+', ' ', cleaned_text).strip()\n",
    "    return cleaned_text\n",
    "\n",
    "# Apply the function to the 'text' column in the DataFrame\n",
    "bbc.loc[:,'text'] = bbc['text'].apply(remove_abbreviations_and_slash)\n",
    "bbc"
   ]
  },
  {
   "cell_type": "markdown",
   "id": "506f7ffa",
   "metadata": {},
   "source": [
    "The code you've provided applies lemmatization to the text in the 'text' column of the bbc DataFrame using NLTK's WordNet Lemmatizer. This process reduces words to their base or root form, which can help in text normalization for natural language processing (NLP) tasks."
   ]
  },
  {
   "cell_type": "code",
   "execution_count": 51,
   "id": "f86319e9",
   "metadata": {
    "ExecuteTime": {
     "end_time": "2024-12-11T04:46:21.886201Z",
     "start_time": "2024-12-11T04:46:16.489584Z"
    }
   },
   "outputs": [
    {
     "data": {
      "text/html": [
       "<div>\n",
       "<style scoped>\n",
       "    .dataframe tbody tr th:only-of-type {\n",
       "        vertical-align: middle;\n",
       "    }\n",
       "\n",
       "    .dataframe tbody tr th {\n",
       "        vertical-align: top;\n",
       "    }\n",
       "\n",
       "    .dataframe thead th {\n",
       "        text-align: right;\n",
       "    }\n",
       "</style>\n",
       "<table border=\"1\" class=\"dataframe\">\n",
       "  <thead>\n",
       "    <tr style=\"text-align: right;\">\n",
       "      <th></th>\n",
       "      <th>text</th>\n",
       "      <th>topic</th>\n",
       "    </tr>\n",
       "  </thead>\n",
       "  <tbody>\n",
       "    <tr>\n",
       "      <th>0</th>\n",
       "      <td>dallaglio man end controversy lawrence dallagl...</td>\n",
       "      <td>sport</td>\n",
       "    </tr>\n",
       "    <tr>\n",
       "      <th>1</th>\n",
       "      <td>best person legal job best person job appoint ...</td>\n",
       "      <td>politics</td>\n",
       "    </tr>\n",
       "    <tr>\n",
       "      <th>2</th>\n",
       "      <td>viewers able shape tv imagine edit titanic wat...</td>\n",
       "      <td>tech</td>\n",
       "    </tr>\n",
       "    <tr>\n",
       "      <th>3</th>\n",
       "      <td>fox attack blair tory lie tony blair lie take ...</td>\n",
       "      <td>politics</td>\n",
       "    </tr>\n",
       "    <tr>\n",
       "      <th>4</th>\n",
       "      <td>microsoft debut security tool microsoft releas...</td>\n",
       "      <td>tech</td>\n",
       "    </tr>\n",
       "    <tr>\n",
       "      <th>...</th>\n",
       "      <td>...</td>\n",
       "      <td>...</td>\n",
       "    </tr>\n",
       "    <tr>\n",
       "      <th>2220</th>\n",
       "      <td>michael film signal retirement singer george m...</td>\n",
       "      <td>entertainment</td>\n",
       "    </tr>\n",
       "    <tr>\n",
       "      <th>2221</th>\n",
       "      <td>ray charles studio museum museum dedicate care...</td>\n",
       "      <td>entertainment</td>\n",
       "    </tr>\n",
       "    <tr>\n",
       "      <th>2222</th>\n",
       "      <td>chancellor rally labour voters gordon brown is...</td>\n",
       "      <td>politics</td>\n",
       "    </tr>\n",
       "    <tr>\n",
       "      <th>2223</th>\n",
       "      <td>oscar nominees gear lunch leonardo dicaprio ja...</td>\n",
       "      <td>entertainment</td>\n",
       "    </tr>\n",
       "    <tr>\n",
       "      <th>2224</th>\n",
       "      <td>california set fin spyware makers computer pro...</td>\n",
       "      <td>tech</td>\n",
       "    </tr>\n",
       "  </tbody>\n",
       "</table>\n",
       "<p>2225 rows × 2 columns</p>\n",
       "</div>"
      ],
      "text/plain": [
       "                                                   text          topic\n",
       "0     dallaglio man end controversy lawrence dallagl...          sport\n",
       "1     best person legal job best person job appoint ...       politics\n",
       "2     viewers able shape tv imagine edit titanic wat...           tech\n",
       "3     fox attack blair tory lie tony blair lie take ...       politics\n",
       "4     microsoft debut security tool microsoft releas...           tech\n",
       "...                                                 ...            ...\n",
       "2220  michael film signal retirement singer george m...  entertainment\n",
       "2221  ray charles studio museum museum dedicate care...  entertainment\n",
       "2222  chancellor rally labour voters gordon brown is...       politics\n",
       "2223  oscar nominees gear lunch leonardo dicaprio ja...  entertainment\n",
       "2224  california set fin spyware makers computer pro...           tech\n",
       "\n",
       "[2225 rows x 2 columns]"
      ]
     },
     "execution_count": 51,
     "metadata": {},
     "output_type": "execute_result"
    }
   ],
   "source": [
    "from nltk.stem import WordNetLemmatizer\n",
    "\n",
    "lemmatizer = WordNetLemmatizer()\n",
    "bbc[\"text\"] = bbc[\"text\"].apply(lambda x: ' '.join([lemmatizer.lemmatize(word, 'v') for word in x.split()]))\n",
    "bbc"
   ]
  },
  {
   "cell_type": "markdown",
   "id": "78c1480d",
   "metadata": {},
   "source": [
    "\n",
    "This code is designed to remove currency symbols, numbers, and other specified patterns from the 'text' column of the bbc DataFrame."
   ]
  },
  {
   "cell_type": "code",
   "execution_count": 52,
   "id": "8a671607",
   "metadata": {
    "ExecuteTime": {
     "end_time": "2024-12-11T04:46:22.273750Z",
     "start_time": "2024-12-11T04:46:21.889466Z"
    }
   },
   "outputs": [
    {
     "name": "stdout",
     "output_type": "stream",
     "text": [
      "Number of removed words: 2287\n",
      "Removed words: ['030', '529', 'â£2659bn', '$84bn', '$147m', '578', '277', '2005', '94', '12600', '1945', 'â£484bn', 'â£132', '1200', 'â£70m', '2850', '$1085m', 'â£275', '$150m', '$53', '$1044', '$1399bn', 'â£28bn', '$155m', '9', 'â£15bn', '$2bn', '$112m', '$130', '0619', 'â£520m', '$447m', 'â£38bn', '12', '$109bn', 'â£59000', '$144bn', '$120bn', '20034', '$8m', 'â£7960', '$818bn', '$387m', '920', '464000', '1215', '$4710', '1125', '1444', '$085', '184', 'â£150000', 'â£245m', '78000', '662', '318', '4341', '137000', 'â£48m', '11000', '$188', '80000', '400', 'â£15m', '1875', '98', 'â£19', '780', 'â£44bn', '19989', '2001', 'â£248bn', '$960m', '397', '2003', '77', 'â£306m', 'â£500m', 'â£263000', '1967', 'â£48bn', 'â£1152m', 'â£458m', '201', '169000', '$4862', '$4bn', '$600m', '1728', '$176m', '615', '$143bn', '$248bn', 'â£182920', '3217', '38000', 'â£3788m', '$50m', '$47m', '449', '$74bn', 'â£178m', 'â£102m', '3997', '6650', '101115', '623', '$38bn', 'â£317bn', '0900', '135', '$480m', '37', 'â£363bn', 'â£157m', 'â£71bn', 'â£50000', '$156m', '$16bn', 'â£99m', '$107m', '74053', '1939', '750000', '1958', '$555bn', '10453', '$36m', '06', 'â£420m', 'â£1700', '115', '1908', '$655m', '56000', '767', '$381m', '170', 'â£110m', '$799', '66', 'â£960m', '$846m', 'â£53m', '1629', '$13218', '311764', '677', '310', '45', '542000', '$3920', 'â£262825', 'â£410', '$443m', '1155', '8500', '$275bn', '$300m', '1497', '$33bn', '$25', '2101', '1946', 'â£11724929', 'â£525000', 'â£295m', '$26500', '55000', '$360m', '1770', 'â£137m', '$4965bn', 'â£91bn', '748', '123', '$124bn', '$302m', '160', '$2598m', '$328m', '$45', '$42bn', 'â£861m', 'â£264m', '20170', '6900', 'â£370m', 'â£168', '$5303', '1927', 'â£3921m', 'â£165bn', '243', 'â£5000', '$175bn', '365', '34604', '$915000', '$1102m', 'â£192713', '375', '440', '0469', 'â£304m', '2600', '191', 'â£17m', 'â£215bn', '178', 'â£325417', 'â£309m', '$2115', '275', '44', '1801', '423', 'â£40', '300', 'â£522000', '$18', '$286', 'â£211', '$245m', 'â£18bn', '$280bn', '840', '1943', 'â£808m', 'â£947m', '$546m', '$111bn', '625', '130000', 'â£1140', '$153m', '55', 'â£352m', '$249m', 'â£736m', '1966', 'â£138', '560', '612', '36', 'â£35000', 'â£213m', '4591', 'â£567m', '103', 'â£532m', '354', 'â£206m', '$377bn', '1969', '200', '$098', '$5m', 'â£2000', '900000', '1997', '09', 'â£39m', 'â£537bn', '404', '$141m', '$480000', 'â£127m', 'â£27000', 'â£146m', '$336bn', 'â£170m', '$45m', '$700m', '1947', '1929', '$111m', 'â£237m', '95', '$39m', '2000', '1130', '178000', '1924', 'â£468m', '1675', 'â£404000', '4464', 'â£21', '260000', '1968', '$50', '2501', 'â£15000', '5907', 'â£161840', '12500', 'â£85000', '1920', 'â£1588bn', '1070', 'â£150m', '740', '$660m', 'â£72m', 'â£22000', '148', 'â£325m', '3141', '128000', '360', '18000', '$717m', '$937bn', '$48bn', 'â£267000', '$285m', '17815', '60', '117', '140', '1751000', '1', 'â£113bn', '$250000', 'â£374m', 'â£424m', '487939', '$984m', '34978', 'â£485', '2368', 'â£86m', '46', 'â£10849', '$618m', 'â£27bn', 'â£390', '$259m', '$184m', '$1205bn', '$322', 'â£400m', '$697m', '600', '1830', '1937', '1973', 'â£269bn', '$2054m', '42093', 'â£415m', '400000', '1980', '$191m', 'â£6000', 'â£505', 'â£250', '60000', '27000', 'â£2', '581', 'â£530m', '4493', '$1354', '00051', 'â£155bn', 'â£200', '$694m', '6798000', 'â£4250', '$163m', '1928', 'â£2585m', '175000', 'â£11500', '$127m', 'â£499', '2020', '120', '$15000', '$357m', '206900', '601', '$376m', 'â£313m', '$200', 'â£135m', 'â£750', 'â£72bn', '961', 'â£179bn', '$30000', 'â£153m', '5300', '$18bn', '41911', '160000', '10255', '125', 'â£500', '$630m', '133', 'â£75', 'â£1793', '973', '$291', '1831', '121', '$129', '$8bn', '57', '2100', 'â£133000', '290000', '1313', '713', '$5700', '389', '0710', 'â£292000', '31000', '798', '$181m', '1848', 'â£108bn', '7500', 'â£100000', '$5143', '144', '2530', '$779m', '800000', '$125000', '$75', '1910', 'â£53', '21718', '161', '$2863', 'â£45001', '159', '$141bn', '133000', '45000', '527', '3807', '3539', '300000', '35000', '$761m', '$717', '2115', '86', '661', '$1756bn', 'â£42bn', '106000', '105000', '$150', '22953', 'â£300', '5050', 'â£5001', '$9358m', 'â£336m', '700000', '13187', '7072', '2011', 'â£28m', 'â£162086', '$4445', 'â£43bn', '$208m', '569072', '1985', '533', '$250', '$437bn', 'â£11000', '0700', '$216m', '192', '1044', '$495m', '$10bn', 'â£340', '$34bn', 'â£119m', '40052308090', '21', '81000', '$5005bn', '10227', 'â£6500', '1950', '0530', 'â£53400', 'â£43m', '1474', '$94', '$45bn', '74142', '$200000', 'â£158bn', '43134', '645', 'â£16000', '337000', '168', '4646', '$227m', 'â£4745', '2025', '813', '1030', '$325m', 'â£22m', '20000', '$1233', '118', '143929', '$746bn', 'â£22bn', '43856', '230', 'â£26', '155000', '2018', '500000', '50', 'â£2932m', 'â£3000', '399', '2008', 'â£1000', 'â£633m', 'â£40m', '067', '$44bn', '23600', '$94m', '1983', '$115', '10517', '$170', '$500m', '856600', 'â£6m', '1911', '271', '3910', 'â£215m', 'â£135bn', 'â£8', 'â£69', '$162bn', '199899', '$950m', '4987', '$7500', '$291m', '4751', '$824', '39', 'â£2308m', 'â£230bn', '$120', 'â£485m', 'â£34bn', '3026', 'â£82bn', 'â£55m', '$58', '$178bn', '525', '$26bn', 'â£83m', '1405', 'â£220m', '$74500', 'â£335bn', '$40bn', 'â£30000', 'â£2885m', '$180bn', '91', '1951', '87000', '$625', 'â£42m', '$42m', '$230m', '5785', '$74m', '59000', 'â£324bn', '136000', '75', 'â£3226', '$230bn', 'â£4610849', '9000', '993', '100000', '0200', '$903m', 'â£400', 'â£65000', '3220', '0227', 'â£152879', '1993', '828', 'â£167bn', 'â£230m', '$34m', '$95m', '360000', 'â£173', 'â£84m', '1940', 'â£2669bn', '$35m', '216', '436', '14160', 'â£25000', '186', '806', '1982', '$38m', '19800', '5216', 'â£75000', '570', '167', 'â£115000', '2700', '783', '1921', '$13280', 'â£18375m', '$284bn', '10416', '1906', '$65', '$1552bn', '$284m', '$186m', '47', '$5498m', '816', '666189', '50430', '2004', '04', 'â£52', 'â£14m', '$234bn', 'â£40000', 'â£377m', '140000', '$425', '$1935m', '$676m', '595', '$18923', 'â£46m', '$138m', 'â£205000', 'â£130', '1375', '$569m', 'â£298bn', 'â£23', '$104m', 'â£827m', '58000', '1022', '$563', 'â£1164m', '674', '$107bn', '469', '$187', '114', 'â£30', '$77m', '2048', '735', '801', '258', 'â£889bn', 'â£379m', '$11bn', '$600', '151000', '717000', '163000', 'â£341m', '$60000', '27700', 'â£11m', 'â£23m', '$13006', '1893', '350', '$17bn', 'â£133m', '885000', '2200', '200607', 'â£10280', '$4148', 'â£98m', '$412bn', 'â£287m', '145', '028', '$106', '67', 'â£60m', '$422bn', '$1765', '$1807bn', 'â£199bn', 'â£227bn331bn', '6600', '2300', '24', '74678', 'â£54', '357', '$499', '7800', 'â£048', '$5567', '1891', '24997', '235', '449603', '1871', '$4974', '$14850', '3803', '79000', '08', '$100m', 'â£95m', 'â£700', '1905', '$80bn', 'â£189733', 'â£25m', '89000', '001', '639', '52', 'â£1400', '17000', '76', '$133', '$166bn', 'â£1825m', '782', '$4000', 'â£16bn', '$257', 'â£73m', '$177600', '0001', '257', '833', '$4325', '1912', '$12944', '$283bn', '1725', '$1', '$8059m', '1934', '7613', '1033', 'â£134bn', '96', 'â£32bn', '29603', 'â£527m', '$40', 'â£340000', '$12', '$281m', '162', 'â£788439', '$25000', '$258bn', '1936', '$3122', 'â£264', '12575', 'â£140m', '$90m', 'â£690000', '$144m', '2900', 'â£300m', '$450', '1972', 'â£4024m', 'â£931m', '2010', '$12573', '109', '$1300', '250000', 'â£165m', '$13667', '$644m', '25', 'â£2450', '$17255', '1970', '124', 'â£57bn', 'â£171', '9300', '605', '$631bn', 'â£293000', '4300', '0300', '$6bn', '$850m', '13040', '535', '%', 'â£4m', '$1834bn', '$25bn', 'â£25bn', 'â£7455', '$635', '870', 'â£5001and', '$549m', '$1bn', '1903', '44000', '7710', '$150000', '420000', '71000', '$3576m', '$66bn', 'â£5351bn', '027', 'â£250000', '164', 'â£8m', '$125m', '63', '1440', 'â£75bn', 'â£291m', '915', '9033', '5200', '131', '2014', '$102bn', '489', '1796', '71', '440700', '$370m', '226', '0400', '1995', '$175m', '283000', 'â£109m', '$277', '139000', '$1658m', '$13', '70', '1660', 'â£2m', '$35bn', '85', '$50000', '286', '8661', 'â£173m', 'â£68m', '12000', '$375m', '385', '110', 'â£318', '$52bn', '$320m', '146000', '1952', 'â£9000', '$399', '339', 'â£105m', 'â£152', '$20', '537', '1080', '5037', 'â£51bn', '63000', '2234', 'â£297m', 'â£572m', '1008', 'â£188bn', '592', '471', '737', 'â£55000', 'â£70', 'â£63081', 'â£4507m', '$311bn', 'â£20', '$180', '$13m', 'â£200m', '270', '851', '2745', '5125', '5500', 'â£60000', 'â£47m', 'â£77800', '$190bn', '090', 'â£10000', 'â£94m', '003', '5686', '119', '902', '165', '$2724', 'â£129', 'â£308m', 'â£398m', '2940', 'â£152m', '2158', 'â£774m', '$434m', '$115bn', '785', '$584m', '$348bn', '1250', '$2300', 'â£38660', '$50bn', '$122m', '$66m', '1922', 'â£79m', '29', 'â£857m', '14738', '$4230', '$406', '1981', '1949', 'â£85', '2400', '800', '$470m', '325', '14', '$327m', '9276', '8177', '$220m', '1979', '151', '23500', '130', '109000', '101', '$70m', 'â£600m', 'â£23bn', '4', 'â£328m', '$27m', '233', '474000', '$200m', 'â£610m', '0', 'â£13m', '48000', 'â£156m', 'â£87bn', '$76', '1723', 'â£39bn', '262', '2030', '1986', '538000', '05', '$24m', 'â£517bn', '20645', '$341m', 'â£820000', '1964', '$332', 'â£1500', 'â£130000', 'â£3650', 'â£925', '$1588m', '$734m', '1999', '2019', '473', 'â£34', '$14', '$3865', '1056', 'â£198m', '268', '$459bn', '$187m', '$14bn', '454', 'â£277m', '2012', 'â£2060', 'â£71433', 'â£139', 'â£155m', '$6484m', '$49m', '$732m', 'â£371m', '1692', '680', '3', 'â£16', '$18m', '$5934bn', '$715m', '$7000', 'â£89m', 'â£77m', '111', '38', '1324', '10137', '4797', 'â£130m', 'â£133', '65', '185000', '922', 'â£15690', 'â£61m', 'â£125', 'â£300000', 'â£600000', '$365bn', '296000', '5700', '305', '$800bn', '12667', '107', '$10000', '$327bn', '$94bn', '3600', '$76m', '176', '1812', '$613bn', '$544', '1888', 'â£535000', '$550000', '211', 'â£3bn', '10500', '$52m', 'â£451m', '8000', '$46bn', 'â£96bn', '1400', 'â£143000', '1975', '$646m', 'â£630', 'â£27473m', '$1219m', 'â£375bn', 'â£928bn', '1938', 'â£21000', '2107', '84143', '$434bn', '180000', 'â£59m', '$331m', '747', '282000', '0100', 'â£94bn', '$6717bn', '$1000bn', '$87bn', '$40000', '36000', 'â£499m', 'â£279bn', '$103m', '$4864', 'â£4', 'â£52000', '$537bn', '717', '$793m', '81428', 'â£7m', '1427', '1237', '42', '22', 'â£591000', '6000', '1954', '20210', '33', '$110', 'â£10', 'â£720m', '988', '14055', '£546m', '386', 'â£2427m', '656', 'â£8170', 'â£1', '$23bn', 'â£56m', 'â£52m', 'â£28000', 'â£293264', 'â£1200', '1230', 'â£134m', 'â£21m', '$239850', '3500', '$9m', '$113bn', '376', 'â£266m', '$5139', '36185', '$82', '$956bn', '1642', '$37m', '$143m', '507', 'â£1560', '25772', '244', 'â£234m', '126', '2172', '90573', 'â£14', '$1863m', '$4438', 'â£44914', '1761', '$184bn', '987', 'â£29000', '61', '94000', 'â£407m', '3601', '$156bn', '$190', '2050', '305775', '425', '$193bn', 'â£722m', '224', 'â£535', '$15', '$24000', '$30', '$18832', '464', 'â£225m', 'â£162m', '$152', '68', 'â£306814', '$30bn', '128', 'â£10545', 'â£12m', 'â£111', 'â£10575', 'â£275000', '75000', 'â£1050', '136069', '64', 'â£46998', '$540m', 'â£35', '553', '4525', '$151m', 'â£10bn', '1904', 'â£190329', '$2619m', '8', '497', '172', '$325bn', '$232m', '6630', 'â£53bn', '947', '$2040', '1953', '$48m', '1218', '1857', '38153', 'â£1m', '$21m', '83000', 'â£20m', 'â£125000', '727', '$435bn', 'â£385m', 'â£13700', '147', '2340', 'â£428m', '10360', '142', '3230', 'â£26m', '3305', '1988', '189', '1088', '$488bn', '056', '$142bn', 'â£228m', '20152', '$60bn', '155465', 'â£106bn', '228', '£158m', '$5115', '15087', '$3494bn', '2500', '188', 'â£61bn', 'â£29', '20445', '$512bn', '$135m', 'â£8000', 'â£23000', '51', '$100bn', 'â£885m', '$874m', '1148876', '677000', '256', '$119bn', '2', '7', '$31bn', '$8', '1084766', '328', '95000', '163', '776', '$12bn', 'â£12700', '$137m', '$171m', 'â£17bn', '$2m', 'â£1040', '$46m', '3400', '$27bn', '$', '2094', 'â£45m', '$3', '12300', '$65m', 'â£4815m', '$86bn', '$72bn', '492', 'â£88m', '1746', 'â£516m', '1925', 'â£20000', '187', '$185bn', '90000', '1815', '66000', 'â£60bn', 'â£399', '219', '1000000000', '$565m', 'â£29bn', '$7782m', '171', '622', 'â£50', '1977', '$881m', '830', '1955', '158', 'â£140', '99', 'â£4454m', '251', '1971', '4500', 'â£600', '12800', '89', 'â£277bn', 'â£707m', 'â£870', '420', '1974', 'â£116542', 'â£833m', '$492m', '576', '0605', '$800m', '$1048', '$427m', '$850bn', '$5bn', '$89m', '34586', '$24', '7610', '26', '$16m', 'â£980m', '2572', '2009', 'â£644m', '$13652', '$260m', '1689', '$305m', '$38', 'â£80000', '141', '1991', '02', '596', '$150bn', '$1254m', '138', '$32bn', '3300', '190', '$301m', '200405', '$17', 'â£90m', '17', '301', 'â£520', 'â£180', 'â£125bn', '$4', '100', '$60m', '$19094', 'â£053bn', 'â£507', 'â£170bn', 'â£190m', '227', '$4212', '$7m', '20032004', '$49bn', '10528', '07', '$336', '796', '$58bn', '$5309', '30', '999', '$135', '$145m', '1900', 'â£255bn', 'â£30m', '590', '900', '20673', '51075', '1441', '102975', '79', 'â£815m', '3322', 'â£149bn', 'â£936bn', '$197bn', '$428m', '$41350', '$13636', 'â£480000', '64280', '2015', '$160bn', '113', 'â£26000', '4200', '$5816m', 'â£139544', '3367', '$19bn', 'â£177', 'â£425000', 'â£799000', '$35', 'â£26bn', 'â£232m', 'â£529m', 'â£560', '0845', 'â£400000', 'â£6bn', '1687', '$200bn', 'â£161m', 'â£98', '56', '$254bn', '34882', '$289bn', 'â£62bn', 'â£19bn', '427', 'â£700m', '96000', '$648m', 'â£307m', '1300', 'â£518bn', '175', 'â£80m', 'â£3', 'â£114m', '$1558bn', '2006', '$187bn', '299', 'â£220', '$11m', '417', 'â£19m', 'â£5bn', '106', '$13666', '92', '30000', '555', '4796', '$345m', '372', '84000', '$54bn', 'â£568m', '$099', 'â£10m', '199', '43', '4875', '$110000', '$31', 'â£723m', '$2015', '659', 'â£105', '1174060', '$4132', '831', 'â£118', 'â£5390', 'â£691m', 'â£75m', '$500', '93', '476', '16', '$504m', '1500', 'â£479m', '670993', '$295bn', 'â£17730', '110000', '511', 'â£335m', '1000', 'â£25', 'â£192m', 'â£268bn', 'â£152bn', '72', '$29bn', '11', '$53m', 'â£104m', '20002001', '$318m', '2007', '1996', '2002', 'â£97m', '367000', '5000', '$23000', 'â£35bn', '2881', '9796', '281', '$677m', '26000', '$4015', '$176', '957', 'â£425m', '137', '10000', '$148', '$20bn', '200001', '$658bn', '287', '90500', '1038548', 'â£564bn', '865', '$149', '102', 'â£750m', '635173', '18', 'â£391bn', '379', 'â£65m', '607', '206', '156', '$10305', 'â£6', 'â£1bn', '$510m', '$162', 'â£196m', '530', 'â£4895', '28041', '265', '134', 'â£63m', '$128m', '$164', 'â£286bn', '22000', '000', '227000', 'â£18m', '$177m', '157', '$32m', '324', '760', '217', '1330', '1989', '311000', '0800', '1984', '$37bn', 'â£281m', 'â£55bn', '024', 'â£4bn', '3000', '125508', 'â£125m', '150000', 'â£11', 'â£949m', '2852', '185', '1466', '32000', '$106mâ', '$161m', '0870', 'â£66m', 'â£538bn', '$639m', '85130', '5345', 'â£135', '6', '2088', '$1435', '975', '$515m', 'â£680', '136', '01', '85000', '40', 'â£100m', '27595', 'â£120000', 'â£67m', '$640m', '$21bn', '196', '$98m', '942', '3056', '182', '$408m', '276', '14000', '$12871', '$901m', '50000', '$28bn', 'â£3999', 'â£85bn', '$701m', '$103500', 'â£41m', '994', '$126', '$41m', '125000', 'â£658m', '554', '$60', '955', 'â£187', 'â£828bn', '758', 'â£265m', '8954', '213', '$140', '7600', '23000', '$234000', '1941', '1487', 'â£357m', '4483', '$12974', '53', '$100000', '47000', '280', '509', 'â£322m', '6500', 'â£138m', '$246bn', '505', '112', '3028', '1961', '203', '$32500', '81122', '$1708bn', '149', '$1026bn', 'â£81bn', '247', '4000', 'â£50bn', '$3bn', 'â£12556', '13', '14832', '$146m', '$258', 'â£680m', '28000', '645000', '777', '$54m', '180', '$587m', '173', '53000', '022', '£1145bn', 'â£140bn', '1965', '$99', 'â£950000', 'â£22', '500', '70000', '1606', 'â£573m', '$105bn', '0630', 'â£10499', '0950', '297', '229', '146', '$447bn', '6932', '37000', 'â£120m', '381769', '104000', '1942', '5298', '207', 'â£882bn', 'â£231m', '1650', '$280', 'â£5', '246570', '$300bn', '1930', 'â£54bn', 'â£546m', 'â£39000', '193', '$93m', 'â£350', 'â£2500', 'â£31bn', '$52761m', '$838m', '105', '1701', '$10m', '127', '$436m', '512', '32', '$235bn', '1935', '$47', 'â£68', '$85bn', '20', 'â£160m', '$3533m', 'â£581m', '$468m', '$120m', 'â£12bn', 'â£750000', '$189', '$1364', '1976', 'â£775', '$855bn', '25000', '03', '1960', 'â£9m', 'â£115m', '750', 'â£280m', '1670', 'â£168m', '2238', '050505', '2755', 'â£57', '150', '280000', '564', 'â£690m', 'â£78', '20012', 'â£180226', '384', 'â£11bn', '3586', '$195m', 'â£339', '59', 'â£330000', '$2', '97', 'â£5m', 'â£52590', '$24bn', '$63bn', 'â£58bn', '15000', '$9bn', '1959', '1337', '456', '76200', '289', 'â£933m', '8200', '43305', '1776', 'â£118m', 'â£46bn', 'â£999', 'â£195000', 'â£17320', 'â£429m', '$128bn', 'â£450', '911', '2022', '$400m', '2367', '12900', '3293', '$26', '1994', '440000', '10276', '$20m', '$93bn', 'â£64m', '157000', '69', '1865', '73', '$100', '$104bn', 'â£194m', '$140m', 'â£275m', '14800', '813200', '166', 'â£154m', 'â£483m', '1948', '$168m', 'â£560000', '$64bn', '205', 'â£105bn', '667', '$550m', '$1890', 'â£512m', '586', '520000', '1990', '1758', '$13516', 'â£312bn', '5800', '793000', 'â£425', '73989', 'â£229', '$327', 'â£558m', '572900', '88', '$4m', '$720', '$183', '1987', '025', '4025', 'â£30800', '1132', 'â£50m', '$1791m', '83', '$47bn', '272', '$232bn', '$240m', '$56m', '27', '$72m', '87', '80', '$7bn', '$750m', '1050', '6100', 'â£64bn', '41', '$33', '5808', 'â£611000', 'â£500000', '041', '$15bn', 'â£117m', '$576m', 'â£197bn', '$431m', '120000', '$768m', '132', '200203', '$3000', 'â£99', '47111', '78', '33527', '$500bn', '920000', '$476', '$68m', '84', 'â£289bn', '267', 'â£349m', '$206bn', '$250m', 'â£131961', '112000', '007', '$600000', '1917', '82', '$3939m', '600000', '80600', '12011', 'â£111m', '$368bn', 'â£13', '7000', '$62bn', 'â£910m', '$13270', 'â£7000', '1956', 'â£285m', 'â£13bn', '5557', 'â£389m', 'â£44m', '222', '200506', 'â£180444', '$351m', '35', '387500', 'â£60', '2046', '771', '370', '483', 'â£801m', '1944', '1546', '34587', '199293', 'â£191m', 'â£76m', 'â£103m', '1774', '$515', '1870', 'â£51m', 'â£800', 'â£24bn', '1727', 'â£548m', '550', '58', '$91m', 'â£111314', 'â£254bn', '$48', 'â£550m', '$1000', '108', '1998', '179', '$110m', 'â£486000', '1963', '$429m', '514', 'â£2bn', '90', '$417', '889', 'â£35m', 'â£384m', '$75bn', '1515', '$133m', '$458', '$204m', '82000', '129', 'â£2802m', 'â£340m', '250', '13000', '$4584m', 'â£24m', 'â£645m', '2054', '$220bn', '1319', '349', '19924', '$5', 'â£364m', '720', 'â£74m', '$294m', '$40m', '22579', 'â£145bn', 'â£053', '$80m', '312000', '40000', 'â£290m', '$560m', '189000', 'â£3m', '0130', '$75000', 'â£21bn', '325000', '$97bn', '1978', 'â£13500', '$85m', '940000', 'â£248m', '104', '$365m', '62', 'â£350m', '$103bn', '$339m', '340', '1430', '28', '77000', '$500000', 'â£106m', 'â£1950', '$125', '$14m', '19', '787', '62000', '225', '1915', '$13bn', '1695', 'â£163748', '401', '153', '666', 'â£456m', 'â£419m', 'â£469', '1700', 'â£12000', '$1704', '10476', '1800', 'â£519bn', '31', 'â£8bn', 'â£952m', '1600', '23575', '$28m', '$1m', 'â£49m', '1149', '002', '518', 'â£250m', '240', 'â£170', '$336m', '3248', '153000', '521', '200000', '$75m', 'â£76bn', '$725m', '2013', '10', '$5088', '$595', 'â£320', 'â£94', 'â£37bn', '708', '$118m', '5', '34', 'â£272m', '273', 'â£178906', 'â£14bn', '23', 'â£36bn', '322', '$68bn', '74', 'â£157bn', 'â£128m', 'â£907000', 'â£514m', '475', '72000', '1115', '$186bn', '$218', '089', '$85', '$4193bn', '190000', '$861m', 'â£1953m', '1731', '965000', '817', 'â£2116bn', '$196bn', '54', 'â£180126', '$132bn', 'â£187971', '115000', '$808', '48', '$132', 'â£800m', '687', '$638bn', '$41bn', '575', 'â£33', '700', 'â£236m', '5950', '$142m', '$900m', '$337m', '$22m', '$25m', '929', '198000', '$17m', '$4451bn', 'â£266582', '1834', 'â£38', '$929', '81', '$2146bnâ', '6230', '242', '$2000', 'â£62m', '4668', '$26m', '3420', '$532m', 'â£104bn', 'â£187bn', '985', '1957', '$675bn', 'â£3620', '220', '$4209bn', '1025', '1100', '$10', 'â£686m', 'â£347m', '$13509', '$30m', '$11000', '$96bn', '$63', 'â£900m', 'â£175m', '6962', '$599', '$427bn', 'â£1356m', '$136m', '$22bn', 'â£149m', 'â£63', 'â£958m', 'â£218bn', '15', 'â£100', '1962', '49', '5196', 'â£27m', 'â£45bn', '$580', '$86m', '1992', '$15m', '$467', '$241m', '0730', '4645', 'â£169bn']\n"
     ]
    }
   ],
   "source": [
    "\n",
    "if 'text' in bbc.columns:\n",
    "    def remove_currency_and_numbers_with_logging(text):\n",
    "        removed_items = re.findall(r'\\b\\d+\\b|\\$\\w*|%\\w*|₫\\w*|â£\\w*|£\\w*|â\\w*', text)\n",
    "        cleaned_text = re.sub(r'\\b\\d+\\b|\\$\\w*|%\\w*|₫\\w*|â£\\w*|£\\w*|â\\w*', '', text)\n",
    "        cleaned_text = re.sub(r'\\s+', ' ', cleaned_text).strip()\n",
    "        return cleaned_text, removed_items\n",
    "    \n",
    "    # Apply function to 'text' column and store the removed items\n",
    "    removed_data = []\n",
    "    def process_text(row):\n",
    "        cleaned_text, removed_items = remove_currency_and_numbers_with_logging(row)\n",
    "        removed_data.extend(removed_items)\n",
    "        return cleaned_text\n",
    "\n",
    "    # Use .loc to modify the values in the DataFrame\n",
    "    bbc.loc[:, 'text'] = bbc['text'].apply(process_text)\n",
    "\n",
    "    # Stored the list of removed items in variable\n",
    "    removed_data = list(set(removed_data)) \n",
    "\n",
    "    print(f\"Number of removed words: {len(removed_data)}\")\n",
    "    print(\"Removed words:\", removed_data)"
   ]
  },
  {
   "cell_type": "markdown",
   "id": "2f37b48f",
   "metadata": {},
   "source": [
    "Eliminate 5 rare words:"
   ]
  },
  {
   "cell_type": "code",
   "execution_count": 53,
   "id": "0f5ae9c4",
   "metadata": {
    "ExecuteTime": {
     "end_time": "2024-12-11T04:46:22.445639Z",
     "start_time": "2024-12-11T04:46:22.274844Z"
    }
   },
   "outputs": [
    {
     "name": "stdout",
     "output_type": "stream",
     "text": [
      "Number of common words: 8790\n",
      "Number of words deleted: 17375\n"
     ]
    }
   ],
   "source": [
    "\n",
    "from collections import Counter\n",
    "\n",
    "if 'text' in bbc.columns:\n",
    "    # Count the frequency of words\n",
    "    all_words = ' '.join(bbc['text']).split()\n",
    "    word_counts = Counter(all_words)\n",
    "\n",
    "    # Filter out words that appear 5 or more times\n",
    "    common_words = {word for word, count in word_counts.items() if count >= 5}\n",
    "    print(f\"Number of common words: {len(common_words)}\")\n",
    "\n",
    "    # List of removed words (rare words)\n",
    "    removed_words = {word for word in word_counts.keys() if word not in common_words}\n",
    "    print(f\"Number of words deleted: {len(removed_words)}\")\n",
    "\n",
    "    bbc.loc[:, 'text'] = bbc['text'].apply(lambda x: ' '.join([word for word in x.split() if word in common_words]))"
   ]
  },
  {
   "cell_type": "markdown",
   "id": "7cc2a0e4",
   "metadata": {},
   "source": [
    "Removes hyphens (-) that are not connected to words"
   ]
  },
  {
   "cell_type": "code",
   "execution_count": 54,
   "id": "e9a7df88",
   "metadata": {
    "ExecuteTime": {
     "end_time": "2024-12-11T04:46:22.601229Z",
     "start_time": "2024-12-11T04:46:22.447578Z"
    }
   },
   "outputs": [
    {
     "name": "stdout",
     "output_type": "stream",
     "text": [
      "                                                   text          topic\n",
      "0     dallaglio man end controversy lawrence dallagl...          sport\n",
      "1     best person legal job best person job appoint ...       politics\n",
      "2     viewers able shape tv imagine edit titanic wat...           tech\n",
      "3     fox attack blair tory lie tony blair lie take ...       politics\n",
      "4     microsoft debut security tool microsoft releas...           tech\n",
      "...                                                 ...            ...\n",
      "2220  michael film signal retirement singer george m...  entertainment\n",
      "2221  ray charles studio museum museum dedicate care...  entertainment\n",
      "2222  chancellor rally labour voters gordon brown is...       politics\n",
      "2223  oscar nominees gear leonardo dicaprio jamie fo...  entertainment\n",
      "2224  california set fin spyware makers computer pro...           tech\n",
      "\n",
      "[2225 rows x 2 columns]\n"
     ]
    }
   ],
   "source": [
    "if 'text' in bbc.columns:\n",
    "    def clean_text(text):\n",
    "        # Remove hyphens that are not attached to words\n",
    "        cleaned_text = re.sub(r'(?<=\\s)-(?=\\s)', '', text)\n",
    "        cleaned_text = re.sub(r'\\s+', ' ', cleaned_text).strip()\n",
    "        return cleaned_text\n",
    "    \n",
    "    # Apply the function to the 'text' column\n",
    "    bbc.loc[:, 'text'] = bbc['text'].apply(clean_text)\n",
    "print(bbc)\n"
   ]
  },
  {
   "cell_type": "markdown",
   "id": "8ff72de7",
   "metadata": {},
   "source": [
    "This script identifies, inspects, and removes duplicate rows from the bbc DataFrame:"
   ]
  },
  {
   "cell_type": "code",
   "execution_count": 55,
   "id": "54eb8a6f",
   "metadata": {
    "ExecuteTime": {
     "end_time": "2024-12-11T04:46:22.647540Z",
     "start_time": "2024-12-11T04:46:22.602230Z"
    }
   },
   "outputs": [
    {
     "name": "stdout",
     "output_type": "stream",
     "text": [
      "Duplicate group: 2d metal slug offer retro fun like drill sergeant past metal slug today gamers slick visuals fancy 2d consider retro release years ago frantic shooter end year yes include halo simply choose 2d level video game blast encounter toughest game likely play enemies live pile pressure players battle soldier zombies giant alien mention huge boss guard level gameplay pepper moments genius fan robotic note title refer instead vast array vehicles offer game stuff bizarre hardware tank jet offer iraq justice joy thank ultra control tough crack addictive mere metal slug cheap slice fry man say course ignore lack do visual modern time blockbuster title offer fresh paint favour real innovation metal slug fresh air era xbox gate eye\n",
      "                                                   text topic\n",
      "1325  2d metal slug offer retro fun like drill serge...  tech\n",
      "1314  2d metal slug offer retro fun like drill serge...  tech\n",
      "Duplicate group: apple attack source row civil liberties group electronic frontier foundation eff join legal fight online journalists apple apple want reporters reveal source use stories leak information forthcoming products include mac mini eff represent reporters ask california superior court stop apple pursue source argue journalists protect american constitution eff say case threaten basic freedoms press apple particularly keen source information unreleased product ask journalists e-mail providers hand communications relevant confront issue reporter privilege apple go journalist isps e-mail say eff lawyer kurt undermine fundamental amendment right protect reporters court let apple away expose gain reporters potential confidential source deter provide information media public lose vital independent news analysis commentary say case begin december apple ask local californian court journalists reveal source article publish websites apple send request information internet service provider publisher jason look far corporations prevent information publish case examine online journalists privilege protections write newspapers magazines eff gain powerful ally legal battle apple include professor tom dean journalism school university california dan well-known silicon valley journalist apple immediately available comment\n",
      "                                                   text topic\n",
      "1380  apple attack source row civil liberties group ...  tech\n",
      "1200  apple attack source row civil liberties group ...  tech\n",
      "Duplicate group: apple ipod family expand market apple expand ipod family release generation digital music players latest challenge grow digital music gadget market include ipod mini model hold compare previous company hop dominant place digital music market say gold colour version mini drop version add ipod photo family latest model longer battery life price cut average original ipod take early lead digital music player market thank large storage capacity simple design million portable players sell million apple ipods analysts agree success integration itunes online store give company share legal download music market mike mcguire research director analyst gartner tell bbc news website apple good job seal market competition far create seamless package think idea product design function software impressive say add threat present creative devices real sony ratchet market message advertise say creative upbeat creative zen players ship end year say model like creative zen micro photo summer 5gb memory board digital music players gadget choice young americans accord recent research pew internet american life project adults million people own digital music player sort sales legally download songs rise tenfold accord record industry million track buy online europe months ifpi industry body say popularity portable music players growth analysts say ease use growth music service available net continue drive trend portable music players people start use novel ways combine automatic function net function automatically distribute diy radio show call podcast competition mobile phone operators keen offer stream service powerful sophisticate handsets accord mr mcguire research suggest people like idea build huge libraries music high-capacity storage devices like ipods creative mobiles capacity issue ease portability mobile music mr mcguire say apple ensure keep foot mobile music door recent deal motorola produce version itunes motorola phone\n",
      "                                                   text topic\n",
      "210   apple ipod family expand market apple expand i...  tech\n",
      "1712  apple ipod family expand market apple expand i...  tech\n",
      "Duplicate group: apple unveil low-cost mac mini apple unveil new low-cost macintosh computer mass bill mac mini chief executive steve job show new machine annual macworld speech san francisco macintosh sell uk describe job important mac apple mr job unveil ipod shuffle new music player use cheaper flash memory hard drive use expensive ipods new computer shift company new territory traditionally firm know design firm mass-market manufacturer mac mini come monitor keyboard mouse second version larger hard drive sell machine available january describe job bring display keyboard mouse attempt win windows pc customers mr job say appeal people think change operate systems people think switch excuse say newest affordable mac new computer subject speculation weeks people surprise announcement analysts say sensible january apple sue website publish say specifications new computer ian harris deputy editor uk magazine mac format say machine appeal consumers purchase ipod want taste mac like see ipod harris add everybody think apple happy remain niche maker luxury computers move market dominate low margin manufacturers like dell bold show apple keen capitalise mass market success ipod mac mini appeal pc users look attractive fuss computer new ipod shuffle come versions offer storage uk second gigabyte storage go sale tuesday music player display play songs shuffle smaller ipod hold songs say mr job mr job tell delegate macworld ipod market share digital music players\n",
      "                                                  text topic\n",
      "675  apple unveil low-cost mac mini apple unveil ne...  tech\n",
      "396  apple unveil low-cost mac mini apple unveil ne...  tech\n",
      "Duplicate group: ask jeeves join web log market ask jeeves buy bloglines website improve way handle content web journals blog bloglines site hugely popular give users place read search share blog interest ask jeeves say plan change bloglines use million article archive round index web ask jeeves pay bloglines reveal bloglines popular let users build list blog want follow have visit journal site individually make use technology know really simple syndication rss blog adopt let sit know new entries journals acquisition follow similar move search sit google acquire labs makers blogger software msn introduce blog yahoo tweak technology better job handle blog entries jim lanzone vice president search properties ask jeeves say do acquire bloglines just blog publish world say ask jeeves interest help people information look help write universe readers vastly larger universe writers say mr lanzone say acquisition sit ask jeeves service let people customise web experience build personal collection useful link search engines discover information time rss ideal way track monitor sit say help drive information entries blog portals ask jeeves operate instant sweep change bloglines say mr lanzone intent time figure right business model try right away say mr lanzone add ask jeeves help organise database 300m blog entries bloglines hold net index technology able search blogosphere corpus information useful right say mr lanzone rumour acquisition break weblog say get hint ask jeeves\n",
      "                                                   text topic\n",
      "1415  ask jeeves join web log market ask jeeves buy ...  tech\n",
      "1639  ask jeeves join web log market ask jeeves buy ...  tech\n",
      "Duplicate data: 107\n"
     ]
    },
    {
     "data": {
      "text/html": [
       "<div>\n",
       "<style scoped>\n",
       "    .dataframe tbody tr th:only-of-type {\n",
       "        vertical-align: middle;\n",
       "    }\n",
       "\n",
       "    .dataframe tbody tr th {\n",
       "        vertical-align: top;\n",
       "    }\n",
       "\n",
       "    .dataframe thead th {\n",
       "        text-align: right;\n",
       "    }\n",
       "</style>\n",
       "<table border=\"1\" class=\"dataframe\">\n",
       "  <thead>\n",
       "    <tr style=\"text-align: right;\">\n",
       "      <th></th>\n",
       "      <th>text</th>\n",
       "      <th>topic</th>\n",
       "    </tr>\n",
       "  </thead>\n",
       "  <tbody>\n",
       "    <tr>\n",
       "      <th>0</th>\n",
       "      <td>dallaglio man end controversy lawrence dallagl...</td>\n",
       "      <td>sport</td>\n",
       "    </tr>\n",
       "    <tr>\n",
       "      <th>1</th>\n",
       "      <td>best person legal job best person job appoint ...</td>\n",
       "      <td>politics</td>\n",
       "    </tr>\n",
       "    <tr>\n",
       "      <th>2</th>\n",
       "      <td>viewers able shape tv imagine edit titanic wat...</td>\n",
       "      <td>tech</td>\n",
       "    </tr>\n",
       "    <tr>\n",
       "      <th>3</th>\n",
       "      <td>fox attack blair tory lie tony blair lie take ...</td>\n",
       "      <td>politics</td>\n",
       "    </tr>\n",
       "    <tr>\n",
       "      <th>4</th>\n",
       "      <td>microsoft debut security tool microsoft releas...</td>\n",
       "      <td>tech</td>\n",
       "    </tr>\n",
       "    <tr>\n",
       "      <th>...</th>\n",
       "      <td>...</td>\n",
       "      <td>...</td>\n",
       "    </tr>\n",
       "    <tr>\n",
       "      <th>2219</th>\n",
       "      <td>rapper cent end protege feud rapper cent end p...</td>\n",
       "      <td>entertainment</td>\n",
       "    </tr>\n",
       "    <tr>\n",
       "      <th>2220</th>\n",
       "      <td>michael film signal retirement singer george m...</td>\n",
       "      <td>entertainment</td>\n",
       "    </tr>\n",
       "    <tr>\n",
       "      <th>2221</th>\n",
       "      <td>ray charles studio museum museum dedicate care...</td>\n",
       "      <td>entertainment</td>\n",
       "    </tr>\n",
       "    <tr>\n",
       "      <th>2222</th>\n",
       "      <td>chancellor rally labour voters gordon brown is...</td>\n",
       "      <td>politics</td>\n",
       "    </tr>\n",
       "    <tr>\n",
       "      <th>2223</th>\n",
       "      <td>oscar nominees gear leonardo dicaprio jamie fo...</td>\n",
       "      <td>entertainment</td>\n",
       "    </tr>\n",
       "  </tbody>\n",
       "</table>\n",
       "<p>2118 rows × 2 columns</p>\n",
       "</div>"
      ],
      "text/plain": [
       "                                                   text          topic\n",
       "0     dallaglio man end controversy lawrence dallagl...          sport\n",
       "1     best person legal job best person job appoint ...       politics\n",
       "2     viewers able shape tv imagine edit titanic wat...           tech\n",
       "3     fox attack blair tory lie tony blair lie take ...       politics\n",
       "4     microsoft debut security tool microsoft releas...           tech\n",
       "...                                                 ...            ...\n",
       "2219  rapper cent end protege feud rapper cent end p...  entertainment\n",
       "2220  michael film signal retirement singer george m...  entertainment\n",
       "2221  ray charles studio museum museum dedicate care...  entertainment\n",
       "2222  chancellor rally labour voters gordon brown is...       politics\n",
       "2223  oscar nominees gear leonardo dicaprio jamie fo...  entertainment\n",
       "\n",
       "[2118 rows x 2 columns]"
      ]
     },
     "execution_count": 55,
     "metadata": {},
     "output_type": "execute_result"
    }
   ],
   "source": [
    "# Find duplicate rows\n",
    "duplicate_rows = bbc[bbc.duplicated(subset=['text'], keep=False)]\n",
    "\n",
    "# Print duplicate datas\n",
    "grouped_duplicates = duplicate_rows.sort_values(by=['text']).groupby('text')\n",
    "for idx, (group, rows) in enumerate(grouped_duplicates):\n",
    "    if idx >= 5:\n",
    "        break\n",
    "    print(f\"Duplicate group: {group}\")\n",
    "    print(rows)\n",
    "\n",
    "# Check total duplicated rows \n",
    "print(\"Duplicate data:\", bbc.duplicated().sum())\n",
    "\n",
    "# Start cleaning the data by removing duplicate rows\n",
    "bbc = bbc.drop_duplicates()\n",
    "\n",
    "bbc"
   ]
  },
  {
   "cell_type": "markdown",
   "id": "c0950b5d",
   "metadata": {},
   "source": [
    "Save the cleaned dataset to a new CSV file:"
   ]
  },
  {
   "cell_type": "code",
   "execution_count": 56,
   "id": "f903cfe39a1b1dbd",
   "metadata": {
    "ExecuteTime": {
     "end_time": "2024-12-11T04:48:01.196762Z",
     "start_time": "2024-12-11T04:48:00.998578Z"
    }
   },
   "outputs": [],
   "source": [
    "bbc.to_csv('bbc_cleaned.csv', index=False)"
   ]
  }
 ],
 "metadata": {
  "kernelspec": {
   "display_name": "Python 3",
   "language": "python",
   "name": "python3"
  },
  "language_info": {
   "codemirror_mode": {
    "name": "ipython",
    "version": 3
   },
   "file_extension": ".py",
   "mimetype": "text/x-python",
   "name": "python",
   "nbconvert_exporter": "python",
   "pygments_lexer": "ipython3",
   "version": "3.12.5"
  }
 },
 "nbformat": 4,
 "nbformat_minor": 5
}
