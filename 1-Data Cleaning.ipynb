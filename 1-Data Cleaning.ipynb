{
 "cells": [
  {
   "cell_type": "code",
   "execution_count": 1,
   "id": "initial_id",
   "metadata": {},
   "outputs": [
    {
     "name": "stdout",
     "output_type": "stream",
     "text": [
      "(2225, 2)\n",
      "<class 'pandas.core.frame.DataFrame'>\n",
      "RangeIndex: 2225 entries, 0 to 2224\n",
      "Data columns (total 2 columns):\n",
      " #   Column  Non-Null Count  Dtype \n",
      "---  ------  --------------  ----- \n",
      " 0   text    2225 non-null   object\n",
      " 1   topic   2225 non-null   object\n",
      "dtypes: object(2)\n",
      "memory usage: 34.9+ KB\n",
      "None\n",
      "                                                text     topic\n",
      "0  Dallaglio his own man to the end\\r\\n\\r\\nContro...     sport\n",
      "1  Best person' for top legal job\\r\\n\\r\\nThe \"bes...  politics\n",
      "2  Viewers to be able to shape TV\\r\\n\\r\\nImagine ...      tech\n",
      "3  Fox attacks Blair's Tory 'lies'\\r\\n\\r\\nTony Bl...  politics\n",
      "4  Microsoft debuts security tools\\r\\n\\r\\nMicroso...      tech\n"
     ]
    }
   ],
   "source": [
    "import pandas as pd\n",
    "from sklearn.feature_extraction.text import ENGLISH_STOP_WORDS\n",
    "\n",
    "bbc = pd.read_csv('bbc.csv')\n",
    "bbc.head()\n",
    "print(bbc.shape)\n",
    "print(bbc.info())\n",
    "print(bbc.head())   "
   ]
  },
  {
   "cell_type": "code",
   "execution_count": 2,
   "id": "502c2cb063dcdb9",
   "metadata": {
    "ExecuteTime": {
     "end_time": "2024-11-28T13:23:15.410788Z",
     "start_time": "2024-11-28T13:23:15.382759Z"
    }
   },
   "outputs": [
    {
     "name": "stdout",
     "output_type": "stream",
     "text": [
      "Missing data: text     0\n",
      "topic    0\n",
      "dtype: int64\n",
      "Duplicate data: 98\n",
      "Unique values in the 'topic' column: ['sport' 'politics' 'tech' 'business' 'entertainment']\n"
     ]
    }
   ],
   "source": [
    "# Check for missing data and print the total number of missing values for each column\n",
    "print(\"Missing data:\", bbc.isnull().sum())\n",
    "\n",
    "# Check for duplicate rows in the dataset and print the total number of duplicate rows\n",
    "print(\"Duplicate data:\", bbc.duplicated().sum())\n",
    "\n",
    "# Display the unique values of the 'topic' column to examine the different categories\n",
    "print(\"Unique values in the 'topic' column:\", bbc['topic'].unique())"
   ]
  },
  {
   "cell_type": "markdown",
   "id": "4bbd030f",
   "metadata": {},
   "source": [
    "- There are 98 duplicate rows in the dataset.\n",
    "- There is no missing data.\n",
    "- There are 5 unique values in the 'topic' column, and none of them are incorrect or inconsistent.\n",
    "- Therefore, we only need to remove the duplicate rows."
   ]
  },
  {
   "cell_type": "code",
   "execution_count": 3,
   "id": "b4beee372adae4ae",
   "metadata": {
    "ExecuteTime": {
     "end_time": "2024-11-28T13:23:15.440950Z",
     "start_time": "2024-11-28T13:23:15.412788Z"
    }
   },
   "outputs": [
    {
     "name": "stdout",
     "output_type": "stream",
     "text": [
      "                                                text     topic\n",
      "0  Dallaglio his own man to the end\\r\\n\\r\\nContro...     sport\n",
      "1  Best person' for top legal job\\r\\n\\r\\nThe \"bes...  politics\n",
      "2  Viewers to be able to shape TV\\r\\n\\r\\nImagine ...      tech\n",
      "3  Fox attacks Blair's Tory 'lies'\\r\\n\\r\\nTony Bl...  politics\n",
      "4  Microsoft debuts security tools\\r\\n\\r\\nMicroso...      tech\n"
     ]
    }
   ],
   "source": [
    "# Start cleaning the data by removing duplicate rows\n",
    "bbc = bbc.drop_duplicates()\n",
    "\n",
    "# Display summary statistics of the cleaned dataset\n",
    "bbc.describe()\n",
    "print(bbc.head())\n"
   ]
  },
  {
   "cell_type": "code",
   "execution_count": 4,
   "id": "7dd0b663",
   "metadata": {},
   "outputs": [
    {
     "name": "stdout",
     "output_type": "stream",
     "text": [
      "                                                text     topic\n",
      "0  dallaglio his own man to the end\\r\\n\\r\\ncontro...     sport\n",
      "1  best person' for top legal job\\r\\n\\r\\nthe \"bes...  politics\n",
      "2  viewers to be able to shape tv\\r\\n\\r\\nimagine ...      tech\n",
      "3  fox attacks blair's tory 'lies'\\r\\n\\r\\ntony bl...  politics\n",
      "4  microsoft debuts security tools\\r\\n\\r\\nmicroso...      tech\n"
     ]
    }
   ],
   "source": [
    "bbc[\"text\"] = bbc[\"text\"].str.lower()\n",
    "print(bbc.head())"
   ]
  },
  {
   "cell_type": "code",
   "execution_count": 5,
   "id": "c56d21fb",
   "metadata": {},
   "outputs": [
    {
     "name": "stdout",
     "output_type": "stream",
     "text": [
      "                                                text     topic\n",
      "0  dallaglio his own man to the end\\r\\n\\r\\ncontro...     sport\n",
      "1  best person for top legal job\\r\\n\\r\\nthe best ...  politics\n",
      "2  viewers to be able to shape tv\\r\\n\\r\\nimagine ...      tech\n",
      "3  fox attacks blairs tory lies\\r\\n\\r\\ntony blair...  politics\n",
      "4  microsoft debuts security tools\\r\\n\\r\\nmicroso...      tech\n"
     ]
    }
   ],
   "source": [
    "# Loại bỏ dấu câu và ký tự đặc biệt\n",
    "bbc[\"text\"] = bbc[\"text\"].str.replace(r\"[;!?,.()\\\"']\", \"\", regex=True)\n",
    "\n",
    "print(bbc.head())\n"
   ]
  },
  {
   "cell_type": "code",
   "execution_count": 6,
   "id": "b31917a0",
   "metadata": {
    "ExecuteTime": {
     "end_time": "2024-11-28T13:23:15.595963Z",
     "start_time": "2024-11-28T13:23:15.442920Z"
    }
   },
   "outputs": [
    {
     "data": {
      "text/html": [
       "<div>\n",
       "<style scoped>\n",
       "    .dataframe tbody tr th:only-of-type {\n",
       "        vertical-align: middle;\n",
       "    }\n",
       "\n",
       "    .dataframe tbody tr th {\n",
       "        vertical-align: top;\n",
       "    }\n",
       "\n",
       "    .dataframe thead th {\n",
       "        text-align: right;\n",
       "    }\n",
       "</style>\n",
       "<table border=\"1\" class=\"dataframe\">\n",
       "  <thead>\n",
       "    <tr style=\"text-align: right;\">\n",
       "      <th></th>\n",
       "      <th>text</th>\n",
       "      <th>topic</th>\n",
       "    </tr>\n",
       "  </thead>\n",
       "  <tbody>\n",
       "    <tr>\n",
       "      <th>0</th>\n",
       "      <td>dallaglio man end controversy lawrence dallagl...</td>\n",
       "      <td>sport</td>\n",
       "    </tr>\n",
       "    <tr>\n",
       "      <th>1</th>\n",
       "      <td>best person legal job best person job appointe...</td>\n",
       "      <td>politics</td>\n",
       "    </tr>\n",
       "    <tr>\n",
       "      <th>2</th>\n",
       "      <td>viewers able shape tv imagine editing titanic ...</td>\n",
       "      <td>tech</td>\n",
       "    </tr>\n",
       "    <tr>\n",
       "      <th>3</th>\n",
       "      <td>fox attacks blairs tory lies tony blair lied t...</td>\n",
       "      <td>politics</td>\n",
       "    </tr>\n",
       "    <tr>\n",
       "      <th>4</th>\n",
       "      <td>microsoft debuts security tools microsoft rele...</td>\n",
       "      <td>tech</td>\n",
       "    </tr>\n",
       "  </tbody>\n",
       "</table>\n",
       "</div>"
      ],
      "text/plain": [
       "                                                text     topic\n",
       "0  dallaglio man end controversy lawrence dallagl...     sport\n",
       "1  best person legal job best person job appointe...  politics\n",
       "2  viewers able shape tv imagine editing titanic ...      tech\n",
       "3  fox attacks blairs tory lies tony blair lied t...  politics\n",
       "4  microsoft debuts security tools microsoft rele...      tech"
      ]
     },
     "execution_count": 6,
     "metadata": {},
     "output_type": "execute_result"
    }
   ],
   "source": [
    "# Create set of stop words from sklearn\n",
    "stop_words = set(ENGLISH_STOP_WORDS)\n",
    "\n",
    "# This function is use for removing stop words in text \n",
    "def remove_stopwords(text):\n",
    "    words = text.split()\n",
    "    filtered_words = [word for word in words if word.lower() not in stop_words]\n",
    "    return ' '.join(filtered_words)\n",
    "\n",
    "bbc.loc[:, 'text'] = bbc['text'].apply(remove_stopwords)\n",
    "\n",
    "bbc.head()"
   ]
  },
  {
   "cell_type": "code",
   "execution_count": 7,
   "id": "f86319e9",
   "metadata": {},
   "outputs": [
    {
     "name": "stdout",
     "output_type": "stream",
     "text": [
      "                                                text     topic\n",
      "0  dallaglio man end controversy lawrence dallagl...     sport\n",
      "1  best person legal job best person job appoint ...  politics\n",
      "2  viewers able shape tv imagine edit titanic wat...      tech\n",
      "3  fox attack blairs tory lie tony blair lie take...  politics\n",
      "4  microsoft debut security tool microsoft releas...      tech\n"
     ]
    }
   ],
   "source": [
    "import nltk\n",
    "from nltk.stem import WordNetLemmatizer\n",
    "\n",
    "# Tạo lemmatizer\n",
    "lemmatizer = WordNetLemmatizer()\n",
    "\n",
    "# Ví dụ dữ liệu\n",
    "bbc[\"text\"] = bbc[\"text\"].apply(lambda x: ' '.join([lemmatizer.lemmatize(word, 'v') for word in x.split()]))\n",
    "\n",
    "print(bbc.head())\n"
   ]
  },
  {
   "cell_type": "code",
   "execution_count": 8,
   "id": "f903cfe39a1b1dbd",
   "metadata": {
    "ExecuteTime": {
     "end_time": "2024-11-28T13:23:15.672841Z",
     "start_time": "2024-11-28T13:23:15.597965Z"
    }
   },
   "outputs": [],
   "source": [
    "# Save the cleaned dataset to a new CSV file\n",
    "bbc.to_csv('bbc_cleaned.csv', index=False)"
   ]
  }
 ],
 "metadata": {
  "kernelspec": {
   "display_name": "Python 3",
   "language": "python",
   "name": "python3"
  },
  "language_info": {
   "codemirror_mode": {
    "name": "ipython",
    "version": 3
   },
   "file_extension": ".py",
   "mimetype": "text/x-python",
   "name": "python",
   "nbconvert_exporter": "python",
   "pygments_lexer": "ipython3",
   "version": "3.12.5"
  }
 },
 "nbformat": 4,
 "nbformat_minor": 5
}
