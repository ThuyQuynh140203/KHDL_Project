{
 "cells": [
  {
   "cell_type": "code",
   "execution_count": 43,
   "id": "initial_id",
   "metadata": {
    "ExecuteTime": {
     "end_time": "2024-12-11T04:46:15.897024Z",
     "start_time": "2024-12-11T04:46:14.774432Z"
    }
   },
   "outputs": [
    {
     "name": "stdout",
     "output_type": "stream",
     "text": [
      "(2225, 2)\n",
      "<class 'pandas.core.frame.DataFrame'>\n",
      "RangeIndex: 2225 entries, 0 to 2224\n",
      "Data columns (total 2 columns):\n",
      " #   Column  Non-Null Count  Dtype \n",
      "---  ------  --------------  ----- \n",
      " 0   text    2225 non-null   object\n",
      " 1   topic   2225 non-null   object\n",
      "dtypes: object(2)\n",
      "memory usage: 34.9+ KB\n",
      "None\n",
      "                                                text     topic\n",
      "0  Dallaglio his own man to the end\\r\\n\\r\\nContro...     sport\n",
      "1  Best person' for top legal job\\r\\n\\r\\nThe \"bes...  politics\n",
      "2  Viewers to be able to shape TV\\r\\n\\r\\nImagine ...      tech\n",
      "3  Fox attacks Blair's Tory 'lies'\\r\\n\\r\\nTony Bl...  politics\n",
      "4  Microsoft debuts security tools\\r\\n\\r\\nMicroso...      tech\n"
     ]
    }
   ],
   "source": [
    "import pandas as pd\n",
    "from sklearn.feature_extraction.text import ENGLISH_STOP_WORDS\n",
    "\n",
    "bbc = pd.read_csv('bbc.csv')\n",
    "bbc.head()\n",
    "print(bbc.shape)\n",
    "print(bbc.info())\n",
    "print(bbc.head())   "
   ]
  },
  {
   "cell_type": "code",
   "execution_count": 44,
   "id": "502c2cb063dcdb9",
   "metadata": {
    "ExecuteTime": {
     "end_time": "2024-12-11T04:46:15.927255Z",
     "start_time": "2024-12-11T04:46:15.902024Z"
    }
   },
   "outputs": [
    {
     "name": "stdout",
     "output_type": "stream",
     "text": [
      "Missing data: text     0\n",
      "topic    0\n",
      "dtype: int64\n",
      "Duplicate data: 98\n",
      "Unique values in the 'topic' column: ['sport' 'politics' 'tech' 'business' 'entertainment']\n"
     ]
    }
   ],
   "source": [
    "# Check for missing data and print the total number of missing values for each column\n",
    "print(\"Missing data:\", bbc.isnull().sum())\n",
    "\n",
    "# Check for duplicate rows in the dataset and print the total number of duplicate rows\n",
    "print(\"Duplicate data:\", bbc.duplicated().sum())\n",
    "\n",
    "# Display the unique values of the 'topic' column to examine the different categories\n",
    "print(\"Unique values in the 'topic' column:\", bbc['topic'].unique())\n"
   ]
  },
  {
   "cell_type": "markdown",
   "id": "4bbd030f",
   "metadata": {},
   "source": [
    "- There are 98 duplicate rows in the dataset.\n",
    "- There is no missing data.\n",
    "- There are 5 unique values in the 'topic' column, and none of them are incorrect or inconsistent.\n",
    "- Therefore, we only need to remove the duplicate rows."
   ]
  },
  {
   "cell_type": "code",
   "execution_count": 45,
   "id": "b4beee372adae4ae",
   "metadata": {
    "ExecuteTime": {
     "end_time": "2024-12-11T04:46:15.957874Z",
     "start_time": "2024-12-11T04:46:15.929310Z"
    }
   },
   "outputs": [
    {
     "name": "stdout",
     "output_type": "stream",
     "text": [
      "                                                text     topic\n",
      "0  Dallaglio his own man to the end\\r\\n\\r\\nContro...     sport\n",
      "1  Best person' for top legal job\\r\\n\\r\\nThe \"bes...  politics\n",
      "2  Viewers to be able to shape TV\\r\\n\\r\\nImagine ...      tech\n",
      "3  Fox attacks Blair's Tory 'lies'\\r\\n\\r\\nTony Bl...  politics\n",
      "4  Microsoft debuts security tools\\r\\n\\r\\nMicroso...      tech\n"
     ]
    }
   ],
   "source": [
    "# Display summary statistics of the cleaned dataset\n",
    "bbc.describe()\n",
    "print(bbc.head())\n"
   ]
  },
  {
   "cell_type": "markdown",
   "id": "d421c2da",
   "metadata": {},
   "source": [
    "Converts all the text in the 'text' column of the bbc DataFrame to lowercase."
   ]
  },
  {
   "cell_type": "code",
   "execution_count": 46,
   "id": "7dd0b663",
   "metadata": {
    "ExecuteTime": {
     "end_time": "2024-12-11T04:46:15.989419Z",
     "start_time": "2024-12-11T04:46:15.960382Z"
    }
   },
   "outputs": [
    {
     "name": "stdout",
     "output_type": "stream",
     "text": [
      "                                                text     topic\n",
      "0  dallaglio his own man to the end\\r\\n\\r\\ncontro...     sport\n",
      "1  best person' for top legal job\\r\\n\\r\\nthe \"bes...  politics\n",
      "2  viewers to be able to shape tv\\r\\n\\r\\nimagine ...      tech\n",
      "3  fox attacks blair's tory 'lies'\\r\\n\\r\\ntony bl...  politics\n",
      "4  microsoft debuts security tools\\r\\n\\r\\nmicroso...      tech\n"
     ]
    }
   ],
   "source": [
    "bbc[\"text\"] = bbc[\"text\"].str.lower()\n",
    "print(bbc.head())"
   ]
  },
  {
   "cell_type": "markdown",
   "id": "ad5dbe88",
   "metadata": {},
   "source": [
    "\n",
    "Remove the possessive suffix \"'s\" from the words in the 'text' column of the bbc DataFrame"
   ]
  },
  {
   "cell_type": "code",
   "execution_count": 47,
   "id": "e2777f7d",
   "metadata": {
    "ExecuteTime": {
     "end_time": "2024-12-11T04:46:16.020627Z",
     "start_time": "2024-12-11T04:46:15.990421Z"
    }
   },
   "outputs": [
    {
     "data": {
      "text/html": [
       "<div>\n",
       "<style scoped>\n",
       "    .dataframe tbody tr th:only-of-type {\n",
       "        vertical-align: middle;\n",
       "    }\n",
       "\n",
       "    .dataframe tbody tr th {\n",
       "        vertical-align: top;\n",
       "    }\n",
       "\n",
       "    .dataframe thead th {\n",
       "        text-align: right;\n",
       "    }\n",
       "</style>\n",
       "<table border=\"1\" class=\"dataframe\">\n",
       "  <thead>\n",
       "    <tr style=\"text-align: right;\">\n",
       "      <th></th>\n",
       "      <th>text</th>\n",
       "      <th>topic</th>\n",
       "    </tr>\n",
       "  </thead>\n",
       "  <tbody>\n",
       "    <tr>\n",
       "      <th>0</th>\n",
       "      <td>dallaglio his own man to the end\\r\\n\\r\\ncontro...</td>\n",
       "      <td>sport</td>\n",
       "    </tr>\n",
       "    <tr>\n",
       "      <th>1</th>\n",
       "      <td>best person' for top legal job\\r\\n\\r\\nthe \"bes...</td>\n",
       "      <td>politics</td>\n",
       "    </tr>\n",
       "    <tr>\n",
       "      <th>2</th>\n",
       "      <td>viewers to be able to shape tv\\r\\n\\r\\nimagine ...</td>\n",
       "      <td>tech</td>\n",
       "    </tr>\n",
       "    <tr>\n",
       "      <th>3</th>\n",
       "      <td>fox attacks blair tory 'lies'\\r\\n\\r\\ntony blai...</td>\n",
       "      <td>politics</td>\n",
       "    </tr>\n",
       "    <tr>\n",
       "      <th>4</th>\n",
       "      <td>microsoft debuts security tools\\r\\n\\r\\nmicroso...</td>\n",
       "      <td>tech</td>\n",
       "    </tr>\n",
       "    <tr>\n",
       "      <th>...</th>\n",
       "      <td>...</td>\n",
       "      <td>...</td>\n",
       "    </tr>\n",
       "    <tr>\n",
       "      <th>2220</th>\n",
       "      <td>michael film signals 'retirement'\\r\\n\\r\\nsinge...</td>\n",
       "      <td>entertainment</td>\n",
       "    </tr>\n",
       "    <tr>\n",
       "      <th>2221</th>\n",
       "      <td>ray charles studio becomes museum\\r\\n\\r\\na mus...</td>\n",
       "      <td>entertainment</td>\n",
       "    </tr>\n",
       "    <tr>\n",
       "      <th>2222</th>\n",
       "      <td>chancellor rallies labour voters\\r\\n\\r\\ngordon...</td>\n",
       "      <td>politics</td>\n",
       "    </tr>\n",
       "    <tr>\n",
       "      <th>2223</th>\n",
       "      <td>oscar nominees gear up for lunch\\r\\n\\r\\nleonar...</td>\n",
       "      <td>entertainment</td>\n",
       "    </tr>\n",
       "    <tr>\n",
       "      <th>2224</th>\n",
       "      <td>california sets fines for spyware\\r\\n\\r\\nthe m...</td>\n",
       "      <td>tech</td>\n",
       "    </tr>\n",
       "  </tbody>\n",
       "</table>\n",
       "<p>2225 rows × 2 columns</p>\n",
       "</div>"
      ],
      "text/plain": [
       "                                                   text          topic\n",
       "0     dallaglio his own man to the end\\r\\n\\r\\ncontro...          sport\n",
       "1     best person' for top legal job\\r\\n\\r\\nthe \"bes...       politics\n",
       "2     viewers to be able to shape tv\\r\\n\\r\\nimagine ...           tech\n",
       "3     fox attacks blair tory 'lies'\\r\\n\\r\\ntony blai...       politics\n",
       "4     microsoft debuts security tools\\r\\n\\r\\nmicroso...           tech\n",
       "...                                                 ...            ...\n",
       "2220  michael film signals 'retirement'\\r\\n\\r\\nsinge...  entertainment\n",
       "2221  ray charles studio becomes museum\\r\\n\\r\\na mus...  entertainment\n",
       "2222  chancellor rallies labour voters\\r\\n\\r\\ngordon...       politics\n",
       "2223  oscar nominees gear up for lunch\\r\\n\\r\\nleonar...  entertainment\n",
       "2224  california sets fines for spyware\\r\\n\\r\\nthe m...           tech\n",
       "\n",
       "[2225 rows x 2 columns]"
      ]
     },
     "execution_count": 47,
     "metadata": {},
     "output_type": "execute_result"
    }
   ],
   "source": [
    "bbc.loc[:, \"text\"] = bbc[\"text\"].str.replace(\"'s\", \"\", regex=True)\n",
    "bbc"
   ]
  },
  {
   "cell_type": "markdown",
   "id": "b8c944dc",
   "metadata": {},
   "source": [
    "Remove special characters from the 'text' column in the bbc DataFrame"
   ]
  },
  {
   "cell_type": "code",
   "execution_count": 48,
   "id": "c56d21fb",
   "metadata": {
    "ExecuteTime": {
     "end_time": "2024-12-11T04:46:16.066779Z",
     "start_time": "2024-12-11T04:46:16.021629Z"
    }
   },
   "outputs": [
    {
     "data": {
      "text/html": [
       "<div>\n",
       "<style scoped>\n",
       "    .dataframe tbody tr th:only-of-type {\n",
       "        vertical-align: middle;\n",
       "    }\n",
       "\n",
       "    .dataframe tbody tr th {\n",
       "        vertical-align: top;\n",
       "    }\n",
       "\n",
       "    .dataframe thead th {\n",
       "        text-align: right;\n",
       "    }\n",
       "</style>\n",
       "<table border=\"1\" class=\"dataframe\">\n",
       "  <thead>\n",
       "    <tr style=\"text-align: right;\">\n",
       "      <th></th>\n",
       "      <th>text</th>\n",
       "      <th>topic</th>\n",
       "    </tr>\n",
       "  </thead>\n",
       "  <tbody>\n",
       "    <tr>\n",
       "      <th>0</th>\n",
       "      <td>dallaglio his own man to the end\\r\\n\\r\\ncontro...</td>\n",
       "      <td>sport</td>\n",
       "    </tr>\n",
       "    <tr>\n",
       "      <th>1</th>\n",
       "      <td>best person for top legal job\\r\\n\\r\\nthe best ...</td>\n",
       "      <td>politics</td>\n",
       "    </tr>\n",
       "    <tr>\n",
       "      <th>2</th>\n",
       "      <td>viewers to be able to shape tv\\r\\n\\r\\nimagine ...</td>\n",
       "      <td>tech</td>\n",
       "    </tr>\n",
       "    <tr>\n",
       "      <th>3</th>\n",
       "      <td>fox attacks blair tory lies\\r\\n\\r\\ntony blair ...</td>\n",
       "      <td>politics</td>\n",
       "    </tr>\n",
       "    <tr>\n",
       "      <th>4</th>\n",
       "      <td>microsoft debuts security tools\\r\\n\\r\\nmicroso...</td>\n",
       "      <td>tech</td>\n",
       "    </tr>\n",
       "    <tr>\n",
       "      <th>...</th>\n",
       "      <td>...</td>\n",
       "      <td>...</td>\n",
       "    </tr>\n",
       "    <tr>\n",
       "      <th>2220</th>\n",
       "      <td>michael film signals retirement\\r\\n\\r\\nsinger ...</td>\n",
       "      <td>entertainment</td>\n",
       "    </tr>\n",
       "    <tr>\n",
       "      <th>2221</th>\n",
       "      <td>ray charles studio becomes museum\\r\\n\\r\\na mus...</td>\n",
       "      <td>entertainment</td>\n",
       "    </tr>\n",
       "    <tr>\n",
       "      <th>2222</th>\n",
       "      <td>chancellor rallies labour voters\\r\\n\\r\\ngordon...</td>\n",
       "      <td>politics</td>\n",
       "    </tr>\n",
       "    <tr>\n",
       "      <th>2223</th>\n",
       "      <td>oscar nominees gear up for lunch\\r\\n\\r\\nleonar...</td>\n",
       "      <td>entertainment</td>\n",
       "    </tr>\n",
       "    <tr>\n",
       "      <th>2224</th>\n",
       "      <td>california sets fines for spyware\\r\\n\\r\\nthe m...</td>\n",
       "      <td>tech</td>\n",
       "    </tr>\n",
       "  </tbody>\n",
       "</table>\n",
       "<p>2225 rows × 2 columns</p>\n",
       "</div>"
      ],
      "text/plain": [
       "                                                   text          topic\n",
       "0     dallaglio his own man to the end\\r\\n\\r\\ncontro...          sport\n",
       "1     best person for top legal job\\r\\n\\r\\nthe best ...       politics\n",
       "2     viewers to be able to shape tv\\r\\n\\r\\nimagine ...           tech\n",
       "3     fox attacks blair tory lies\\r\\n\\r\\ntony blair ...       politics\n",
       "4     microsoft debuts security tools\\r\\n\\r\\nmicroso...           tech\n",
       "...                                                 ...            ...\n",
       "2220  michael film signals retirement\\r\\n\\r\\nsinger ...  entertainment\n",
       "2221  ray charles studio becomes museum\\r\\n\\r\\na mus...  entertainment\n",
       "2222  chancellor rallies labour voters\\r\\n\\r\\ngordon...       politics\n",
       "2223  oscar nominees gear up for lunch\\r\\n\\r\\nleonar...  entertainment\n",
       "2224  california sets fines for spyware\\r\\n\\r\\nthe m...           tech\n",
       "\n",
       "[2225 rows x 2 columns]"
      ]
     },
     "execution_count": 48,
     "metadata": {},
     "output_type": "execute_result"
    }
   ],
   "source": [
    "bbc[\"text\"] = bbc[\"text\"].str.replace(r\"[;!?,.:()\\\"']\", \"\", regex=True)\n",
    "bbc"
   ]
  },
  {
   "cell_type": "markdown",
   "id": "b15a537d",
   "metadata": {},
   "source": [
    "Remove stop words from the 'text' column in the bbc DataFrame."
   ]
  },
  {
   "cell_type": "code",
   "execution_count": 49,
   "id": "b31917a0",
   "metadata": {
    "ExecuteTime": {
     "end_time": "2024-12-11T04:46:16.235726Z",
     "start_time": "2024-12-11T04:46:16.068298Z"
    }
   },
   "outputs": [
    {
     "data": {
      "text/html": [
       "<div>\n",
       "<style scoped>\n",
       "    .dataframe tbody tr th:only-of-type {\n",
       "        vertical-align: middle;\n",
       "    }\n",
       "\n",
       "    .dataframe tbody tr th {\n",
       "        vertical-align: top;\n",
       "    }\n",
       "\n",
       "    .dataframe thead th {\n",
       "        text-align: right;\n",
       "    }\n",
       "</style>\n",
       "<table border=\"1\" class=\"dataframe\">\n",
       "  <thead>\n",
       "    <tr style=\"text-align: right;\">\n",
       "      <th></th>\n",
       "      <th>text</th>\n",
       "      <th>topic</th>\n",
       "    </tr>\n",
       "  </thead>\n",
       "  <tbody>\n",
       "    <tr>\n",
       "      <th>0</th>\n",
       "      <td>dallaglio man end controversy lawrence dallagl...</td>\n",
       "      <td>sport</td>\n",
       "    </tr>\n",
       "    <tr>\n",
       "      <th>1</th>\n",
       "      <td>best person legal job best person job appointe...</td>\n",
       "      <td>politics</td>\n",
       "    </tr>\n",
       "    <tr>\n",
       "      <th>2</th>\n",
       "      <td>viewers able shape tv imagine editing titanic ...</td>\n",
       "      <td>tech</td>\n",
       "    </tr>\n",
       "    <tr>\n",
       "      <th>3</th>\n",
       "      <td>fox attacks blair tory lies tony blair lied to...</td>\n",
       "      <td>politics</td>\n",
       "    </tr>\n",
       "    <tr>\n",
       "      <th>4</th>\n",
       "      <td>microsoft debuts security tools microsoft rele...</td>\n",
       "      <td>tech</td>\n",
       "    </tr>\n",
       "  </tbody>\n",
       "</table>\n",
       "</div>"
      ],
      "text/plain": [
       "                                                text     topic\n",
       "0  dallaglio man end controversy lawrence dallagl...     sport\n",
       "1  best person legal job best person job appointe...  politics\n",
       "2  viewers able shape tv imagine editing titanic ...      tech\n",
       "3  fox attacks blair tory lies tony blair lied to...  politics\n",
       "4  microsoft debuts security tools microsoft rele...      tech"
      ]
     },
     "execution_count": 49,
     "metadata": {},
     "output_type": "execute_result"
    }
   ],
   "source": [
    "# Create set of stop words from sklearn\n",
    "stop_words = set(ENGLISH_STOP_WORDS)\n",
    "\n",
    "# This function is use for removing stop words in text \n",
    "def remove_stopwords(text):\n",
    "    words = text.split()\n",
    "    filtered_words = [word for word in words if word.lower() not in stop_words]\n",
    "    return ' '.join(filtered_words)\n",
    "\n",
    "bbc.loc[:, 'text'] = bbc['text'].apply(remove_stopwords)\n",
    "\n",
    "bbc.head()"
   ]
  },
  {
   "cell_type": "markdown",
   "id": "09a8b3b0",
   "metadata": {},
   "source": [
    "Remove specific abbreviations like '&' and '/' from the 'text' column and ordinal number suffixes"
   ]
  },
  {
   "cell_type": "code",
   "execution_count": 50,
   "id": "d2a99325",
   "metadata": {
    "ExecuteTime": {
     "end_time": "2024-12-11T04:46:16.487492Z",
     "start_time": "2024-12-11T04:46:16.238809Z"
    }
   },
   "outputs": [
    {
     "data": {
      "text/html": [
       "<div>\n",
       "<style scoped>\n",
       "    .dataframe tbody tr th:only-of-type {\n",
       "        vertical-align: middle;\n",
       "    }\n",
       "\n",
       "    .dataframe tbody tr th {\n",
       "        vertical-align: top;\n",
       "    }\n",
       "\n",
       "    .dataframe thead th {\n",
       "        text-align: right;\n",
       "    }\n",
       "</style>\n",
       "<table border=\"1\" class=\"dataframe\">\n",
       "  <thead>\n",
       "    <tr style=\"text-align: right;\">\n",
       "      <th></th>\n",
       "      <th>text</th>\n",
       "      <th>topic</th>\n",
       "    </tr>\n",
       "  </thead>\n",
       "  <tbody>\n",
       "    <tr>\n",
       "      <th>0</th>\n",
       "      <td>dallaglio man end controversy lawrence dallagl...</td>\n",
       "      <td>sport</td>\n",
       "    </tr>\n",
       "    <tr>\n",
       "      <th>1</th>\n",
       "      <td>best person legal job best person job appointe...</td>\n",
       "      <td>politics</td>\n",
       "    </tr>\n",
       "    <tr>\n",
       "      <th>2</th>\n",
       "      <td>viewers able shape tv imagine editing titanic ...</td>\n",
       "      <td>tech</td>\n",
       "    </tr>\n",
       "    <tr>\n",
       "      <th>3</th>\n",
       "      <td>fox attacks blair tory lies tony blair lied to...</td>\n",
       "      <td>politics</td>\n",
       "    </tr>\n",
       "    <tr>\n",
       "      <th>4</th>\n",
       "      <td>microsoft debuts security tools microsoft rele...</td>\n",
       "      <td>tech</td>\n",
       "    </tr>\n",
       "    <tr>\n",
       "      <th>...</th>\n",
       "      <td>...</td>\n",
       "      <td>...</td>\n",
       "    </tr>\n",
       "    <tr>\n",
       "      <th>2220</th>\n",
       "      <td>michael film signals retirement singer george ...</td>\n",
       "      <td>entertainment</td>\n",
       "    </tr>\n",
       "    <tr>\n",
       "      <th>2221</th>\n",
       "      <td>ray charles studio museum museum dedicated car...</td>\n",
       "      <td>entertainment</td>\n",
       "    </tr>\n",
       "    <tr>\n",
       "      <th>2222</th>\n",
       "      <td>chancellor rallies labour voters gordon brown ...</td>\n",
       "      <td>politics</td>\n",
       "    </tr>\n",
       "    <tr>\n",
       "      <th>2223</th>\n",
       "      <td>oscar nominees gear lunch leonardo dicaprio ja...</td>\n",
       "      <td>entertainment</td>\n",
       "    </tr>\n",
       "    <tr>\n",
       "      <th>2224</th>\n",
       "      <td>california sets fines spyware makers computer ...</td>\n",
       "      <td>tech</td>\n",
       "    </tr>\n",
       "  </tbody>\n",
       "</table>\n",
       "<p>2225 rows × 2 columns</p>\n",
       "</div>"
      ],
      "text/plain": [
       "                                                   text          topic\n",
       "0     dallaglio man end controversy lawrence dallagl...          sport\n",
       "1     best person legal job best person job appointe...       politics\n",
       "2     viewers able shape tv imagine editing titanic ...           tech\n",
       "3     fox attacks blair tory lies tony blair lied to...       politics\n",
       "4     microsoft debuts security tools microsoft rele...           tech\n",
       "...                                                 ...            ...\n",
       "2220  michael film signals retirement singer george ...  entertainment\n",
       "2221  ray charles studio museum museum dedicated car...  entertainment\n",
       "2222  chancellor rallies labour voters gordon brown ...       politics\n",
       "2223  oscar nominees gear lunch leonardo dicaprio ja...  entertainment\n",
       "2224  california sets fines spyware makers computer ...           tech\n",
       "\n",
       "[2225 rows x 2 columns]"
      ]
     },
     "execution_count": 50,
     "metadata": {},
     "output_type": "execute_result"
    }
   ],
   "source": [
    "import re\n",
    "\n",
    "def remove_abbreviations_and_slash(text):\n",
    "    abbreviations = r'\\b(&|/|\\b\\d+(st|nd|rd|th|s|m|p)\\b)\\b'\n",
    "    cleaned_text = re.sub(abbreviations, '', text)\n",
    "    # Remove extra spaces after clean\n",
    "    cleaned_text = re.sub(r'\\s+', ' ', cleaned_text).strip()\n",
    "    return cleaned_text\n",
    "\n",
    "# Apply the function to the 'text' column in the DataFrame\n",
    "bbc.loc[:,'text'] = bbc['text'].apply(remove_abbreviations_and_slash)\n",
    "bbc"
   ]
  },
  {
   "cell_type": "markdown",
   "id": "506f7ffa",
   "metadata": {},
   "source": [
    "Convert words to their base or root form"
   ]
  },
  {
   "cell_type": "code",
   "execution_count": 51,
   "id": "f86319e9",
   "metadata": {
    "ExecuteTime": {
     "end_time": "2024-12-11T04:46:21.886201Z",
     "start_time": "2024-12-11T04:46:16.489584Z"
    }
   },
   "outputs": [
    {
     "data": {
      "text/html": [
       "<div>\n",
       "<style scoped>\n",
       "    .dataframe tbody tr th:only-of-type {\n",
       "        vertical-align: middle;\n",
       "    }\n",
       "\n",
       "    .dataframe tbody tr th {\n",
       "        vertical-align: top;\n",
       "    }\n",
       "\n",
       "    .dataframe thead th {\n",
       "        text-align: right;\n",
       "    }\n",
       "</style>\n",
       "<table border=\"1\" class=\"dataframe\">\n",
       "  <thead>\n",
       "    <tr style=\"text-align: right;\">\n",
       "      <th></th>\n",
       "      <th>text</th>\n",
       "      <th>topic</th>\n",
       "    </tr>\n",
       "  </thead>\n",
       "  <tbody>\n",
       "    <tr>\n",
       "      <th>0</th>\n",
       "      <td>dallaglio man end controversy lawrence dallagl...</td>\n",
       "      <td>sport</td>\n",
       "    </tr>\n",
       "    <tr>\n",
       "      <th>1</th>\n",
       "      <td>best person legal job best person job appoint ...</td>\n",
       "      <td>politics</td>\n",
       "    </tr>\n",
       "    <tr>\n",
       "      <th>2</th>\n",
       "      <td>viewers able shape tv imagine edit titanic wat...</td>\n",
       "      <td>tech</td>\n",
       "    </tr>\n",
       "    <tr>\n",
       "      <th>3</th>\n",
       "      <td>fox attack blair tory lie tony blair lie take ...</td>\n",
       "      <td>politics</td>\n",
       "    </tr>\n",
       "    <tr>\n",
       "      <th>4</th>\n",
       "      <td>microsoft debut security tool microsoft releas...</td>\n",
       "      <td>tech</td>\n",
       "    </tr>\n",
       "    <tr>\n",
       "      <th>...</th>\n",
       "      <td>...</td>\n",
       "      <td>...</td>\n",
       "    </tr>\n",
       "    <tr>\n",
       "      <th>2220</th>\n",
       "      <td>michael film signal retirement singer george m...</td>\n",
       "      <td>entertainment</td>\n",
       "    </tr>\n",
       "    <tr>\n",
       "      <th>2221</th>\n",
       "      <td>ray charles studio museum museum dedicate care...</td>\n",
       "      <td>entertainment</td>\n",
       "    </tr>\n",
       "    <tr>\n",
       "      <th>2222</th>\n",
       "      <td>chancellor rally labour voters gordon brown is...</td>\n",
       "      <td>politics</td>\n",
       "    </tr>\n",
       "    <tr>\n",
       "      <th>2223</th>\n",
       "      <td>oscar nominees gear lunch leonardo dicaprio ja...</td>\n",
       "      <td>entertainment</td>\n",
       "    </tr>\n",
       "    <tr>\n",
       "      <th>2224</th>\n",
       "      <td>california set fin spyware makers computer pro...</td>\n",
       "      <td>tech</td>\n",
       "    </tr>\n",
       "  </tbody>\n",
       "</table>\n",
       "<p>2225 rows × 2 columns</p>\n",
       "</div>"
      ],
      "text/plain": [
       "                                                   text          topic\n",
       "0     dallaglio man end controversy lawrence dallagl...          sport\n",
       "1     best person legal job best person job appoint ...       politics\n",
       "2     viewers able shape tv imagine edit titanic wat...           tech\n",
       "3     fox attack blair tory lie tony blair lie take ...       politics\n",
       "4     microsoft debut security tool microsoft releas...           tech\n",
       "...                                                 ...            ...\n",
       "2220  michael film signal retirement singer george m...  entertainment\n",
       "2221  ray charles studio museum museum dedicate care...  entertainment\n",
       "2222  chancellor rally labour voters gordon brown is...       politics\n",
       "2223  oscar nominees gear lunch leonardo dicaprio ja...  entertainment\n",
       "2224  california set fin spyware makers computer pro...           tech\n",
       "\n",
       "[2225 rows x 2 columns]"
      ]
     },
     "execution_count": 51,
     "metadata": {},
     "output_type": "execute_result"
    }
   ],
   "source": [
    "from nltk.stem import WordNetLemmatizer\n",
    "\n",
    "lemmatizer = WordNetLemmatizer()\n",
    "bbc[\"text\"] = bbc[\"text\"].apply(lambda x: ' '.join([lemmatizer.lemmatize(word, 'v') for word in x.split()]))\n",
    "bbc"
   ]
  },
  {
   "cell_type": "markdown",
   "id": "78c1480d",
   "metadata": {},
   "source": [
    "\n",
    "Remove currency symbols, numbers, and other specified patterns from the 'text' column of the bbc DataFrame."
   ]
  },
  {
   "cell_type": "code",
   "execution_count": 52,
   "id": "8a671607",
   "metadata": {
    "ExecuteTime": {
     "end_time": "2024-12-11T04:46:22.273750Z",
     "start_time": "2024-12-11T04:46:21.889466Z"
    }
   },
   "outputs": [
    {
     "name": "stdout",
     "output_type": "stream",
     "text": [
      "Number of removed words: 1768\n",
      "Removed words: ['â£10849', '$105bn', '$52bn', '130000', '420000', '$412bn', '38', '$12944', '041', '6932', '3367', '128000', '14000', '1723', '79', '$23bn', '225', '2002', 'â£113bn', 'â£469', '$1704', '2054', 'â£522000', '1440', '2501', '86', 'â£12bn', '143929', '$29bn', '$35bn', 'â£165bn', '206900', '22579', '$1552bn', '$336bn', 'â£55000', 'â£167bn', '257', 'â£3620', '1960', '1174060', '$68bn', '796', '973', '$4451bn', '381769', '3220', '$550000', '78', '220', '1692', 'â£25', '0845', '109', '$7000', '217', '575', '2700', 'â£99', 'â£1200', 'â£168', '5500', '$1048', '12800', '90573', 'â£34', '2003', 'â£600', '0100', '120', '6630', '2004', '994', '222', '191', '1375', '27', '3500', '793000', '$467', 'â£65000', '250000', '0710', '$103bn', 'â£17320', '55000', 'â£2500', '10416', '40052308090', '1891', '$200bn', '022', '51075', '$2724', '500000', '1911', '6100', '34', '06', '$1708bn', '1942', 'â£35', '$311bn', '$4000', '2600', '$74500', '449', '1200', '677', '172', '$33bn', '1947', '957', '027', '1044', '$144bn', 'â£340000', 'â£170', '233', '$800bn', '1546', '$13218', '357', '3400', '115', '$937bn', '379', '$10305', '$422bn', '28', '$48', '92', '1993', '12600', 'â£72bn', 'â£51bn', '166', '$94', '1830', 'â£71bn', '1955', 'â£58bn', '$4212', 'â£157bn', '200203', '1500', '1915', '$38', '$54bn', '34978', '987', 'â£267000', 'â£52000', '787', '207', '800000', '780', '1515', '7000', '35', '024', '305775', '200607', '106000', 'â£277bn', 'â£11500', '1965', '$4230', '656', '$33', '1910', '185', '85', '$125', 'â£118', '128', '$406', '0400', '$500bn', '$148', '36000', 'â£149bn', '947', '163000', 'â£7000', '596', '1444', '20012', '18', '$9bn', '$5115', '$135', '267', 'â£26bn', 'â£5', '1997', '12500', '$26500', '3539', '2008', '3141', 'â£21000', 'â£10bn', 'â£317bn', '417', '$277', '73989', '$187bn', '$177600', 'â£', 'â£4895', '$63bn', '554', '19800', '58', '89', '1770', '159', 'â£39bn', '750000', 'â£17730', '$160bn', '440700', '7613', '1125', '1466', 'â£227bn331bn', '$447bn', '45', '$2863', '74142', '08', '2009', 'â£40000', 'â£69', '$13509', '$100', '$186bn', '469', '136069', '$336', '$25000', '$234000', '30', '464000', 'â£91bn', '224', '0700', '05', '$27bn', '4646', '74678', '104', 'â£53bn', '988', '1978', '305', '$799', '030', '76', '$14bn', '1629', '301', '400', 'â£254bn', 'â£517bn', '$085', '$184bn', '10255', '2094', '25', '2500', '$850bn', '137', '227000', '961', '37', '$4710', 'â£293000', 'â£25bn', '1330', '7610', '$488bn', '3997', 'â£37bn', '1975', '420', '1983', '$32bn', 'â£178906', 'â£85', '0530', 'â£132', '13', '1660', '$189', '200506', 'â£560', '286', '53000', '160', '$563', '$808', '268', '1606', '785', '$58bn', '1600', '227', '8661', '140', '36185', 'â£50000', 'â£63', '900000', '717', 'â£54', '59', '1961', '3056', '10517', '$40000', '5300', 'â£3226', '62000', '297', 'â£2000', '206', 'â£23bn', '22', 'â£535', '90000', '340', '2368', '84', '$2000', '$332', '003', '806', '211', 'â£139544', '$100bn', '$13666', 'â£775', 'â£525000', '2014', '1904', '89000', '$1834bn', 'â£3650', 'â£161840', '14738', '708', '07', 'â£6000', '$327bn', '34586', 'â£105', '$17255', '965000', '27000', '97', 'â£64bn', '11000', '$512bn', '1976', 'â£106bn', '1900', 'â£27bn', '$141bn', '$258', 'â£14', '999', '1959', '$325bn', '$720', '4500', '0630', '3601', 'â£40', '73', 'â£882bn', '66000', '922', '$19bn', '$28bn', '$164', 'â£484bn', '74', '635173', '4797', '$348bn', '88', '$218', 'â£135bn', '21718', '$62bn', '537', '$150', 'â£3bn', '131', 'â£519bn', '157000', 'â£80000', '12667', '106', 'â£330000', '28000', '$30', '190000', '$476', '$14850', '$106', '42093', '160000', '56000', '1991', '$13636', 'â£630', 'â£44bn', '175', '240', '1115', '$31bn', '$66bn', '$107bn', '$35', 'â£750000', '$284bn', '423', 'â£16000', '$31', '5200', '376', '$96bn', '436', 'â£120000', 'â£928bn', '0', '205', 'â£85bn', '1925', '1921', '56', '156', '74053', '607', '125', '0730', '401', '$12974', '1985', '427', '600000', '120000', '1148876', 'â£44914', '6500', '281', '71000', 'â£48bn', '$25', '$2300', '$188', '328', '95', '370', '$162', '11', '870', '23600', '$15', 'â£293264', '258', '180000', '$1399bn', '190', '717000', '911', '125508', '311000', 'â£485', '235', '$111bn', '$75000', '67', '$115bn', '1670', '$46bn', '126', '339', '4025', '7', '$15000', '136', 'â£170bn', '777', '43305', '1474', 'â£187', '110000', '4000', '$13270', 'â£125', 'â£264', 'â£400', '615', 'â£59000', 'â£42bn', '$142bn', 'â£111314', '04', '$32500', 'â£55bn', '$4445', '$13', '360000', '51', 'â£799000', '535', '20673', '13187', '165', 'â£57bn', '$450', '1963', 'â£5bn', '555', '3420', 'â£53400', '$87bn', '$1756bn', '2400', 'â£2659bn', '2020', '$1000', '1727', '1986', 'â£375bn', '$47', '9796', '161', '1988', '$24', '3230', '280000', '$50bn', 'â£560000', '687', 'â£2116bn', '1946', '$458', '22953', '$1000bn', '6962', '105', '276', '399', 'â£63081', '144', '20645', '$18bn', '600', 'â£950000', '45000', '771', 'â£53', '$4132', '324', '$818bn', '500', '90500', '76200', 'â£5001and', 'â£188bn', '$500', '$6bn', 'â£111', '$30bn', '3305', '5557', '199', '94', '851', '13000', 'â£6bn', 'â£68', '124', '0619', '1400', '$200000', '$197bn', '$102bn', '1237', 'â£104bn', 'â£22bn', '1957', '$132', 'â£8170', 'â£35bn', '5907', '4300', '2238', '103', '625', '35000', '0800', '275', '19924', '$3122', '505', '169000', '$10', '$855bn', '1689', '833', 'â£31bn', '135', '155465', 'â£306814', '244', '145', '149', '296000', 'â£14bn', '1155', '1038548', 'â£38bn', '310', '1405', '150000', '110', '$60bn', 'â£3999', '$4193bn', '090', '700', '5800', '$41350', '102', '$13652', '$196bn', '130', '889', 'â£145bn', '$4015', '176', '1935', '$3', '$915000', '179', 'â£32bn', '$717', '$5143', 'â£870', '200405', 'â£138', '1928', '2900', '0469', '$3920', '198000', '70', '$20bn', '9300', '$675bn', '$24000', '3293', '564', '2011', '2200', '1132', 'â£155bn', '$140', 'â£263000', 'â£38', 'â£10545', '19', 'â£286bn', '102975', '1088', '$595', '$5309', '$625', '514', '1992', '$17bn', 'â£100000', 'â£189733', 'â£180226', '1300', '$248bn', '1030', '247', 'â£199bn', 'â£048', '4987', 'â£115000', '48', '1834', '$94bn', 'â£828bn', 'â£10000', '$638bn', 'â£135', '8', '147', 'â£26', '1427', 'â£39000', 'â£4bn', '1980', '$3865', '$23000', '2745', '3300', '$956bn', '4200', 'â£187bn', '570', '$600000', '$4864', '0870', 'â£229', '94000', '117', 'â£611000', '25000', '$286', '82', '$50', '$100000', '192', '162', '1801', '138', 'â£13700', '1958', '3322', 'â£180444', '$74bn', 'â£11bn', '1934', '2050', '9033', '509', '$599', '47000', '$85', '940000', 'â£179bn', '1022', 'â£52590', 'â£391bn', 'â£61bn', '550', '527', 'â£70', '1100', '389', 'â£312bn', 'â£21', 'â£19bn', '32000', '1966', '5808', 'â£180', '533', '677000', 'â£266582', '3217', '113', '2007', '5216', '47111', '542000', 'â£220', '55', '186', 'â£15000', 'â£399', '81000', 'â£335bn', '801', 'â£11724929', '40', '942', '1941', '1893', '14160', '$280bn', '4796', '15', 'â£11', '520000', 'â£125bn', '1056', '12011', '$580', '1972', '2940', '5196', '1962', '72000', '2005', '5037', '168', '101', '2006', '£', '747', 'â£6', 'â£180126', '31000', '5', 'â£45001', '489', '$132bn', '0200', '1974', '4341', '$399', '830', '1650', 'â£33', '1695', '511', '100000', 'â£96bn', 'â£108bn', '200', '1218', '271', 'â£130000', '90', '118', 'â£129', '22000', '1725', 'â£162086', '$185bn', '$635', '80', '1025', '1981', '4875', '85000', '400000', 'â£105bn', '1215', 'â£5390', '$11000', '666', '20170', '$4974', '$10bn', '$291', '$22bn', '277', 'â£480000', '39', '200001', 'â£205000', '1922', 'â£7960', '2048', 'â£133', '1943', '$3494bn', '15000', '2101', '289', 'â£1588bn', '$13bn', '440000', '1700', '1912', '$220bn', '816', '$190', 'â£999', '300', 'â£19', '287', '242', 'â£27000', '$42bn', '1979', '107', 'â£182920', 'â£22', '$18', '32', '1324', '$190bn', '885000', '$11bn', '$5', '114', '10453', '$64bn', '6', 'â£94', '831', '645000', '193', '$53', '$40', '$106mâ', '142', '1984', '31', '$80bn', '1888', '$21bn', 'â£77800', '1956', '$48bn', 'â£2060', '$254bn', '83000', 'â£3000', '03', 'â£71433', '10000', '20034', '$170', 'â£16bn', '196', '28041', '4668', '$1354', '$232bn', '$368bn', 'â£1400', 'â£298bn', '$156bn', '$93bn', '1906', 'â£215bn', 'â£535000', '1337', '2530', '$6717bn', '182', 'â£500000', 'â£600000', 'â£12000', '$130', '84143', '20002001', '1964', 'â£425000', '64280', '$41bn', 'â£158bn', 'â£60', '14', 'â£889bn', '856600', '311764', '42', '740', '10276', '1642', 'â£4250', 'â£450', '1441', '530', '$1205bn', '146000', '$377bn', '226', '6798000', 'â£76bn', '38153', '$099', '$45bn', '155000', '$1233', '622', '$544', 'â£324bn', '1967', '5686', '46', 'â£192713', '53', '$2015', 'â£1140', 'â£143000', '007', '9276', '$115', 'â£25000', '581', 'â£134bn', '612', '$235bn', '104000', '713', '662', 'â£75', '91', '$', '$250000', 'â£2450', '$1807bn', '1497', '782', '$1890', '3028', '2881', '507', '$283bn', 'â£363bn', '$150000', '$40bn', '1908', 'â£50', 'â£21bn', 'â£390', '50', 'â£2', '1758', '44000', '$25bn', '1319', '518', '61', '$113bn', 'â£925', 'â£140bn', '050505', '067', 'â£81bn', 'â£788439', 'â£507', '$82', '189', '3026', '36', '4645', '002', 'â£680', '1728', '$631bn', 'â£499', '00051', '54', '123', '8954', '$5567', '1701', '783', '5125', 'â£250', 'â£12556', 'â£17bn', '251', 'â£60bn', '60000', 'â£200', '0900', '17', '487939', 'â£177', 'â£16', '028', 'â£268bn', '199899', 'â£15690', '3000', '$246bn', '798', '43856', '$104bn', 'â£116542', 'â£750', '2115', '828', '1050', 'â£820000', '2340', '2030', '29603', 'â£5351bn', '1313', '025', 'â£13', 'â£053', '148', '2046', '397', '10', 'â£15bn', '476', 'â£173', '$175bn', '497', '$230bn', 'â£320', '1977', 'â£30', '1230', '553', '$258bn', '$24bn', '$15bn', 'â£5000', '96000', '$8bn', '150', '915', '387500', '$824', '1973', '2367', '12900', '$365bn', '3', 'â£82bn', '000', '115000', '$60', 'â£1700', '$97bn', '10476', '2000', '20', '$613bn', '375', '$103500', '5050', '372', 'â£350', '365', '8200', '136000', 'â£50bn', '17815', '140000', 'â£300000', '$7bn', '661', '$206bn', '1250', '813200', '$425', '$5005bn', 'â£131961', '1675', '$499', '134', '1000', '492', '$152', '$327', 'â£13500', '454', '1987', '$86bn', 'â£518bn', '12', '$10000', '350', '5298', '$13006', '163', 'â£7455', '33', '750', 'â£230bn', '20210', '1774', '230', '1998', '$34bn', '2234', '578', 'â£690000', '01', '93', 'â£152', '737', 'â£325417', '1865', '1971', '4464', '$13280', 'â£1500', '$26bn', '$125000', '175000', '$1300', '$3000', '187', '1924', 'â£262825', '1033', '$1364', '$65', 'â£500', 'â£29', '$7500', '$427bn', 'â£46998', '813', '$5139', '6900', '37000', '1938', '$2bn', '3600', '$4438', '800', 'â£936bn', '25772', 'â£292000', 'â£23000', 'â£75000', '$20', 'â£538bn', '17000', '471', '$8', '1982', '228', '$1', '$193bn', '1084766', '173', '101115', '75000', '1000000000', '$110000', '$12bn', '464', '473', '0001', '34587', '1937', '69', '360', '$289bn', 'â£11000', '$16bn', 'â£486000', '386', 'â£57', '404', '3586', '322', '449603', '$180', '1870', '151', '178000', 'â£87bn', 'â£150000', '572900', '1008', 'â£800', 'â£520', '48000', '6600', '1954', '178', 'â£54bn', 'â£505', '10528', '1761', 'â£12700', '$19094', '66', '920000', '$275bn', '81', '272', '127', '$162bn', '4493', 'â£339', 'â£133000', '1487', '5700', '146', '817', '0130', 'â£62bn', '1731', '$322', 'â£195000', '203', '99', '$26', '$84bn', 'â£45bn', '0950', '171', '318', '623', '1989', '929', '26', '09', '1952', '3910', '$47bn', '64', '49', 'â£537bn', 'â£255bn', 'â£100', 'â£190329', 'â£98', '840', '167', '23500', '001', '243', '12000', 'â£10', '776', '153000', '5000', '273', '1940', '312000', '$85bn', 'â£85000', '670993', '164', '521', 'â£30000', '20445', 'â£275', '$4bn', '58000', '993', 'â£152bn', '20152', '%', '$109bn', '2022', '0227', '1968', '$098', '229', '80000', '$515', '1831', '576', '141', '27700', '727', '1995', '216', '16', '5785', 'â£340', '601', '1800', 'â£130', '1430', '0300', 'â£279bn', 'â£36bn', '153', '24', 'â£139', '112000', '121', '$459bn', '1796', '$44bn', 'â£20000', 'â£28bn', '23000', '$2040', '8000', '1149', '975', '$149', '270', '$178bn', '$5088', '$280', 'â£38660', '2013', '$120bn', '1815', '246570', '$76', 'â£700', '2755', '1130', '19989', '385', '20000', 'â£907000', '7500', '1746', '758', '056', '$1435', 'â£8', '34604', '98', '569072', '$4209bn', '1920', '1953', '$4325', '1', '1994', '63000', '760', '2158', '$4148', '185000', '29', '425', '337000', '560', '43134', '34882', '$600', '2572', '119', '1990', '$257', '735', '$126', '$1765', '1776', '0605', '14800', '80600', '200000', 'â£400000', '4525', '$746bn', '77000', '349', '290000', 'â£591000', '2850', '1944', '865', '24997', '$166bn', '30000', 'â£218bn', '659', '41911', '50000', '15087', '680', '2012', '3803', 'â£125000', '1948', 'â£4610849', '$12', '7710', '219', '$120', 'â£275000', '87', '189000', '63', '$38bn', '667', '33527', '$143bn', '666189', '02', '$4862', '2100', '$3bn', '$14', '900', '1857', 'â£171', 'â£23', 'â£250000', '5345', 'â£1', '151000', 'â£2669bn', '$13516', '133000', '250', '158', '23575', '108', 'â£26000', 'â£1560', '6650', '262', 'â£10499', '1917', '3807', '40000', '089', '$150bn', '639', '700000', '$5934bn', '456', 'â£425', 'â£1000', 'â£2bn', '133', '139000', '$234bn', '$18923', '920', 'â£1793', '1945', 'â£35000', '83', '592', '512', '$50000', '1687', '65', '2852', '$5700', 'â£94bn', '26000', '4591', 'â£410', '$417', '2025', '$176', '1905', '1080', '440', '87000', '1950', 'â£22000', '$128bn', 'â£8000', 'â£8bn', '538000', '2010', '7600', '1939', '52', '$45', '$658bn', '282000', '605', '$437bn', '18000', '199293', 'â£34bn', '475', '748', '41', '1903', 'â£163748', '72', '$124bn', '62', 'â£300', '7072', '2107', 'â£269bn', '77', '1751000', '4', '$500000', '384', '256', '$2115', '$1026bn', '109000', 'â£29000', '2018', '79000', '1999', '9', '180', '85130', '44', '$1bn', '$300bn', '81122', '125000', '299', '201', 'â£152879', '265', '95000', '£1145bn', '6230', '$435bn', 'â£053bn', '112', 'â£4', '$18832', '$537bn', '$480000', '$250', '367000', 'â£1bn', '20032004', '260000', '75', '70000', '68', '$200', '12575', 'â£13bn', '27595', '$49bn', 'â£248bn', '$110', '7800', '132', '280', '$180bn', '1929', 'â£318', '188', 'â£10575', '100', '2300', 'â£211', '$1558bn', '325000', '2001', '2019', '50430', 'â£404000', 'â£24bn', '1812', '525', '1951', '157', 'â£6500', 'â£46bn', '13040', '$183', '1970', '5950', '47', '283000', '4483', 'â£1950', '81428', '10500', '71', '2172', '43', 'â£18bn', 'â£187971', '1871', 'â£197bn', '$58', 'â£5001', '$555bn', '483', 'â£289bn', '$60000', '137000', '78000', '$2', '$929', '$12573', '10360', 'â£29bn', 'â£20', '1930', '$37bn', '$129', '14832', '767', '985', '1070', '6000', '23', '$239850', '1875', 'â£30800', '$13667', '9000', '59000', 'â£3', '$63', '720', 'â£1040', '21', 'â£78', '1996', '111', 'â£4745', '674', '82000', '8500', '1927', '105000', 'â£28000', '$99', '14055', '10227', '1848', '$295bn', 'â£169bn', '2', '12300', 'â£140', '84000', '529', '$434bn', '$133', '10137', 'â£52', '586', '595', '1969', '1949', '$75bn', '2088', 'â£43bn', 'â£1050', '645', '96', '902', '3248', '$4', '$5303', '$12871', '$1044', '170', '325', '$30000', '$2146bnâ', '$5bn', '$75', '38000', '$187', '590', '474000', '57', 'â£60000', '955', 'â£75bn', 'â£9000', '$119bn', 'â£564bn', '2015', '300000', 'â£10280', '184', '$17', '60', '$4965bn', '4751', '213', '354', '$72bn', '8177', '129', '1936']\n"
     ]
    }
   ],
   "source": [
    "\n",
    "if 'text' in bbc.columns:\n",
    "    def remove_currency_and_numbers_with_logging(text):\n",
    "        removed_items = re.findall(r'\\b\\d+\\b|\\$\\w*|%\\w*|₫\\w*|â£\\w*|£\\w*|â\\w*', text)\n",
    "        cleaned_text = re.sub(r'\\b\\d+\\b|\\$\\w*|%\\w*|₫\\w*|â£\\w*|£\\w*|â\\w*', '', text)\n",
    "        cleaned_text = re.sub(r'\\s+', ' ', cleaned_text).strip()\n",
    "        return cleaned_text, removed_items\n",
    "    \n",
    "    # Apply function to 'text' column and store the removed items\n",
    "    removed_data = []\n",
    "    def process_text(row):\n",
    "        cleaned_text, removed_items = remove_currency_and_numbers_with_logging(row)\n",
    "        removed_data.extend(removed_items)\n",
    "        return cleaned_text\n",
    "\n",
    "    # Use .loc to modify the values in the DataFrame\n",
    "    bbc.loc[:, 'text'] = bbc['text'].apply(process_text)\n",
    "\n",
    "    # Stored the list of removed items in variable\n",
    "    removed_data = list(set(removed_data)) \n",
    "\n",
    "    print(f\"Number of removed words: {len(removed_data)}\")\n",
    "    print(\"Removed words:\", removed_data)"
   ]
  },
  {
   "cell_type": "markdown",
   "id": "2f37b48f",
   "metadata": {},
   "source": [
    "Eliminate rare words"
   ]
  },
  {
   "cell_type": "code",
   "execution_count": 53,
   "id": "0f5ae9c4",
   "metadata": {
    "ExecuteTime": {
     "end_time": "2024-12-11T04:46:22.445639Z",
     "start_time": "2024-12-11T04:46:22.274844Z"
    }
   },
   "outputs": [
    {
     "name": "stdout",
     "output_type": "stream",
     "text": [
      "Number of common words: 8753\n",
      "Number of words deleted: 17124\n"
     ]
    }
   ],
   "source": [
    "\n",
    "from collections import Counter\n",
    "\n",
    "if 'text' in bbc.columns:\n",
    "    # Count the frequency of words\n",
    "    all_words = ' '.join(bbc['text']).split()\n",
    "    word_counts = Counter(all_words)\n",
    "\n",
    "    # Filter out words that appear 5 or more times\n",
    "    common_words = {word for word, count in word_counts.items() if count >= 5}\n",
    "    print(f\"Number of common words: {len(common_words)}\")\n",
    "\n",
    "    # List of removed words (rare words)\n",
    "    removed_words = {word for word in word_counts.keys() if word not in common_words}\n",
    "    print(f\"Number of words deleted: {len(removed_words)}\")\n",
    "\n",
    "    bbc.loc[:, 'text'] = bbc['text'].apply(lambda x: ' '.join([word for word in x.split() if word in common_words]))"
   ]
  },
  {
   "cell_type": "markdown",
   "id": "7cc2a0e4",
   "metadata": {},
   "source": [
    "Remove redundant hyphens (-)"
   ]
  },
  {
   "cell_type": "code",
   "execution_count": 54,
   "id": "e9a7df88",
   "metadata": {
    "ExecuteTime": {
     "end_time": "2024-12-11T04:46:22.601229Z",
     "start_time": "2024-12-11T04:46:22.447578Z"
    }
   },
   "outputs": [
    {
     "name": "stdout",
     "output_type": "stream",
     "text": [
      "                                                   text          topic\n",
      "0     dallaglio man end controversy lawrence dallagl...          sport\n",
      "1     best person legal job best person job appoint ...       politics\n",
      "2     viewers able shape tv imagine edit titanic wat...           tech\n",
      "3     fox attack blair tory lie tony blair lie take ...       politics\n",
      "4     microsoft debut security tool microsoft releas...           tech\n",
      "...                                                 ...            ...\n",
      "2220  michael film signal retirement singer george m...  entertainment\n",
      "2221  ray charles studio museum museum dedicate care...  entertainment\n",
      "2222  chancellor rally labour voters gordon brown is...       politics\n",
      "2223  oscar nominees gear leonardo dicaprio jamie fo...  entertainment\n",
      "2224  california set fin spyware makers computer pro...           tech\n",
      "\n",
      "[2225 rows x 2 columns]\n"
     ]
    }
   ],
   "source": [
    "if 'text' in bbc.columns:\n",
    "    def clean_text(text):\n",
    "        # Remove hyphens that are not attached to words\n",
    "        cleaned_text = re.sub(r'(?<=\\s)-(?=\\s)', '', text)\n",
    "        cleaned_text = re.sub(r'\\s+', ' ', cleaned_text).strip()\n",
    "        return cleaned_text\n",
    "    \n",
    "    # Apply the function to the 'text' column\n",
    "    bbc.loc[:, 'text'] = bbc['text'].apply(clean_text)\n",
    "print(bbc)\n"
   ]
  },
  {
   "cell_type": "markdown",
   "id": "8ff72de7",
   "metadata": {},
   "source": [
    " Inspects, and removes duplicate rows from the bbc DataFrame"
   ]
  },
  {
   "cell_type": "code",
   "execution_count": 55,
   "id": "54eb8a6f",
   "metadata": {
    "ExecuteTime": {
     "end_time": "2024-12-11T04:46:22.647540Z",
     "start_time": "2024-12-11T04:46:22.602230Z"
    }
   },
   "outputs": [
    {
     "name": "stdout",
     "output_type": "stream",
     "text": [
      "Duplicate group: 2d metal slug offer retro fun like drill sergeant past metal slug today gamers slick visuals fancy 2d consider retro release years ago frantic shooter end year yes include halo simply choose 2d level video game blast encounter toughest game likely play enemies live pile pressure players battle soldier zombies giant alien mention huge boss guard level gameplay pepper moments genius fan robotic note title refer instead vast array vehicles offer game stuff bizarre hardware tank jet offer iraq justice joy thank ultra control tough crack addictive mere metal slug cheap slice fry man say course ignore lack do visual modern time blockbuster title offer fresh paint favour real innovation metal slug fresh air era xbox gate eye\n",
      "                                                   text topic\n",
      "1325  2d metal slug offer retro fun like drill serge...  tech\n",
      "1314  2d metal slug offer retro fun like drill serge...  tech\n",
      "Duplicate group: apple attack source row civil liberties group electronic frontier foundation eff join legal fight online journalists apple apple want reporters reveal source use stories leak information forthcoming products include mac mini eff represent reporters ask california superior court stop apple pursue source argue journalists protect american constitution eff say case threaten basic freedoms press apple particularly keen source information unreleased product ask journalists e-mail providers hand communications relevant confront issue reporter privilege apple go journalist isps e-mail say eff lawyer kurt undermine fundamental amendment right protect reporters court let apple away expose gain reporters potential confidential source deter provide information media public lose vital independent news analysis commentary say case begin december apple ask local californian court journalists reveal source article publish websites apple send request information internet service provider publisher jason look far corporations prevent information publish case examine online journalists privilege protections write newspapers magazines eff gain powerful ally legal battle apple include professor tom dean journalism school university california dan well-known silicon valley journalist apple immediately available comment\n",
      "                                                   text topic\n",
      "1380  apple attack source row civil liberties group ...  tech\n",
      "1200  apple attack source row civil liberties group ...  tech\n",
      "Duplicate group: apple ipod family expand market apple expand ipod family release generation digital music players latest challenge grow digital music gadget market include ipod mini model hold compare previous company hop dominant place digital music market say gold colour version mini drop version add ipod photo family latest model longer battery life price cut average original ipod take early lead digital music player market thank large storage capacity simple design million portable players sell million apple ipods analysts agree success integration itunes online store give company share legal download music market mike mcguire research director analyst gartner tell bbc news website apple good job seal market competition far create seamless package think idea product design function software impressive say add threat present creative devices real sony ratchet market message advertise say creative upbeat creative zen players ship end year say model like creative zen micro photo summer 5gb memory board digital music players gadget choice young americans accord recent research pew internet american life project adults million people own digital music player sort sales legally download songs rise tenfold accord record industry million track buy online europe months ifpi industry body say popularity portable music players growth analysts say ease use growth music service available net continue drive trend portable music players people start use novel ways combine automatic function net function automatically distribute diy radio show call podcast competition mobile phone operators keen offer stream service powerful sophisticate handsets accord mr mcguire research suggest people like idea build huge libraries music high-capacity storage devices like ipods creative mobiles capacity issue ease portability mobile music mr mcguire say apple ensure keep foot mobile music door recent deal motorola produce version itunes motorola phone\n",
      "                                                   text topic\n",
      "210   apple ipod family expand market apple expand i...  tech\n",
      "1712  apple ipod family expand market apple expand i...  tech\n",
      "Duplicate group: apple unveil low-cost mac mini apple unveil new low-cost macintosh computer mass bill mac mini chief executive steve job show new machine annual macworld speech san francisco macintosh sell uk describe job important mac apple mr job unveil ipod shuffle new music player use cheaper flash memory hard drive use expensive ipods new computer shift company new territory traditionally firm know design firm mass-market manufacturer mac mini come monitor keyboard mouse second version larger hard drive sell machine available january describe job bring display keyboard mouse attempt win windows pc customers mr job say appeal people think change operate systems people think switch excuse say newest affordable mac new computer subject speculation weeks people surprise announcement analysts say sensible january apple sue website publish say specifications new computer ian harris deputy editor uk magazine mac format say machine appeal consumers purchase ipod want taste mac like see ipod harris add everybody think apple happy remain niche maker luxury computers move market dominate low margin manufacturers like dell bold show apple keen capitalise mass market success ipod mac mini appeal pc users look attractive fuss computer new ipod shuffle come versions offer storage uk second gigabyte storage go sale tuesday music player display play songs shuffle smaller ipod hold songs say mr job mr job tell delegate macworld ipod market share digital music players\n",
      "                                                  text topic\n",
      "675  apple unveil low-cost mac mini apple unveil ne...  tech\n",
      "396  apple unveil low-cost mac mini apple unveil ne...  tech\n",
      "Duplicate group: ask jeeves join web log market ask jeeves buy bloglines website improve way handle content web journals blog bloglines site hugely popular give users place read search share blog interest ask jeeves say plan change bloglines use million article archive round index web ask jeeves pay bloglines reveal bloglines popular let users build list blog want follow have visit journal site individually make use technology know really simple syndication rss blog adopt let sit know new entries journals acquisition follow similar move search sit google acquire labs makers blogger software msn introduce blog yahoo tweak technology better job handle blog entries jim lanzone vice president search properties ask jeeves say do acquire bloglines just blog publish world say ask jeeves interest help people information look help write universe readers vastly larger universe writers say mr lanzone say acquisition sit ask jeeves service let people customise web experience build personal collection useful link search engines discover information time rss ideal way track monitor sit say help drive information entries blog portals ask jeeves operate instant sweep change bloglines say mr lanzone intent time figure right business model try right away say mr lanzone add ask jeeves help organise database blog entries bloglines hold net index technology able search blogosphere corpus information useful right say mr lanzone rumour acquisition break weblog say get hint ask jeeves\n",
      "                                                   text topic\n",
      "1415  ask jeeves join web log market ask jeeves buy ...  tech\n",
      "1639  ask jeeves join web log market ask jeeves buy ...  tech\n",
      "Duplicate data: 107\n"
     ]
    },
    {
     "data": {
      "text/html": [
       "<div>\n",
       "<style scoped>\n",
       "    .dataframe tbody tr th:only-of-type {\n",
       "        vertical-align: middle;\n",
       "    }\n",
       "\n",
       "    .dataframe tbody tr th {\n",
       "        vertical-align: top;\n",
       "    }\n",
       "\n",
       "    .dataframe thead th {\n",
       "        text-align: right;\n",
       "    }\n",
       "</style>\n",
       "<table border=\"1\" class=\"dataframe\">\n",
       "  <thead>\n",
       "    <tr style=\"text-align: right;\">\n",
       "      <th></th>\n",
       "      <th>text</th>\n",
       "      <th>topic</th>\n",
       "    </tr>\n",
       "  </thead>\n",
       "  <tbody>\n",
       "    <tr>\n",
       "      <th>0</th>\n",
       "      <td>dallaglio man end controversy lawrence dallagl...</td>\n",
       "      <td>sport</td>\n",
       "    </tr>\n",
       "    <tr>\n",
       "      <th>1</th>\n",
       "      <td>best person legal job best person job appoint ...</td>\n",
       "      <td>politics</td>\n",
       "    </tr>\n",
       "    <tr>\n",
       "      <th>2</th>\n",
       "      <td>viewers able shape tv imagine edit titanic wat...</td>\n",
       "      <td>tech</td>\n",
       "    </tr>\n",
       "    <tr>\n",
       "      <th>3</th>\n",
       "      <td>fox attack blair tory lie tony blair lie take ...</td>\n",
       "      <td>politics</td>\n",
       "    </tr>\n",
       "    <tr>\n",
       "      <th>4</th>\n",
       "      <td>microsoft debut security tool microsoft releas...</td>\n",
       "      <td>tech</td>\n",
       "    </tr>\n",
       "    <tr>\n",
       "      <th>...</th>\n",
       "      <td>...</td>\n",
       "      <td>...</td>\n",
       "    </tr>\n",
       "    <tr>\n",
       "      <th>2219</th>\n",
       "      <td>rapper cent end protege feud rapper cent end p...</td>\n",
       "      <td>entertainment</td>\n",
       "    </tr>\n",
       "    <tr>\n",
       "      <th>2220</th>\n",
       "      <td>michael film signal retirement singer george m...</td>\n",
       "      <td>entertainment</td>\n",
       "    </tr>\n",
       "    <tr>\n",
       "      <th>2221</th>\n",
       "      <td>ray charles studio museum museum dedicate care...</td>\n",
       "      <td>entertainment</td>\n",
       "    </tr>\n",
       "    <tr>\n",
       "      <th>2222</th>\n",
       "      <td>chancellor rally labour voters gordon brown is...</td>\n",
       "      <td>politics</td>\n",
       "    </tr>\n",
       "    <tr>\n",
       "      <th>2223</th>\n",
       "      <td>oscar nominees gear leonardo dicaprio jamie fo...</td>\n",
       "      <td>entertainment</td>\n",
       "    </tr>\n",
       "  </tbody>\n",
       "</table>\n",
       "<p>2118 rows × 2 columns</p>\n",
       "</div>"
      ],
      "text/plain": [
       "                                                   text          topic\n",
       "0     dallaglio man end controversy lawrence dallagl...          sport\n",
       "1     best person legal job best person job appoint ...       politics\n",
       "2     viewers able shape tv imagine edit titanic wat...           tech\n",
       "3     fox attack blair tory lie tony blair lie take ...       politics\n",
       "4     microsoft debut security tool microsoft releas...           tech\n",
       "...                                                 ...            ...\n",
       "2219  rapper cent end protege feud rapper cent end p...  entertainment\n",
       "2220  michael film signal retirement singer george m...  entertainment\n",
       "2221  ray charles studio museum museum dedicate care...  entertainment\n",
       "2222  chancellor rally labour voters gordon brown is...       politics\n",
       "2223  oscar nominees gear leonardo dicaprio jamie fo...  entertainment\n",
       "\n",
       "[2118 rows x 2 columns]"
      ]
     },
     "execution_count": 55,
     "metadata": {},
     "output_type": "execute_result"
    }
   ],
   "source": [
    "# Find duplicate rows\n",
    "duplicate_rows = bbc[bbc.duplicated(subset=['text'], keep=False)]\n",
    "\n",
    "# Print duplicate datas\n",
    "grouped_duplicates = duplicate_rows.sort_values(by=['text']).groupby('text')\n",
    "for idx, (group, rows) in enumerate(grouped_duplicates):\n",
    "    if idx >= 5:\n",
    "        break\n",
    "    print(f\"Duplicate group: {group}\")\n",
    "    print(rows)\n",
    "\n",
    "# Check total duplicated rows \n",
    "print(\"Duplicate data:\", bbc.duplicated().sum())\n",
    "\n",
    "# Start cleaning the data by removing duplicate rows\n",
    "bbc = bbc.drop_duplicates()\n",
    "\n",
    "bbc"
   ]
  },
  {
   "cell_type": "markdown",
   "id": "c0950b5d",
   "metadata": {},
   "source": [
    "Save the cleaned dataset to a new CSV file:"
   ]
  },
  {
   "cell_type": "code",
   "execution_count": 56,
   "id": "f903cfe39a1b1dbd",
   "metadata": {
    "ExecuteTime": {
     "end_time": "2024-12-11T04:48:01.196762Z",
     "start_time": "2024-12-11T04:48:00.998578Z"
    }
   },
   "outputs": [],
   "source": [
    "bbc.to_csv('bbc_cleaned.csv', index=False)"
   ]
  }
 ],
 "metadata": {
  "kernelspec": {
   "display_name": "Python 3",
   "language": "python",
   "name": "python3"
  },
  "language_info": {
   "codemirror_mode": {
    "name": "ipython",
    "version": 3
   },
   "file_extension": ".py",
   "mimetype": "text/x-python",
   "name": "python",
   "nbconvert_exporter": "python",
   "pygments_lexer": "ipython3",
   "version": "3.12.7"
  }
 },
 "nbformat": 4,
 "nbformat_minor": 5
}
