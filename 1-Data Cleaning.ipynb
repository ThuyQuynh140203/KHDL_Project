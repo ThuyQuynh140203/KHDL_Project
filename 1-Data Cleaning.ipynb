{
 "cells": [
  {
   "cell_type": "code",
   "execution_count": 121,
   "id": "initial_id",
   "metadata": {
    "ExecuteTime": {
     "end_time": "2024-12-11T04:46:15.897024Z",
     "start_time": "2024-12-11T04:46:14.774432Z"
    }
   },
   "outputs": [
    {
     "name": "stdout",
     "output_type": "stream",
     "text": [
      "(2225, 2)\n",
      "<class 'pandas.core.frame.DataFrame'>\n",
      "RangeIndex: 2225 entries, 0 to 2224\n",
      "Data columns (total 2 columns):\n",
      " #   Column  Non-Null Count  Dtype \n",
      "---  ------  --------------  ----- \n",
      " 0   text    2225 non-null   object\n",
      " 1   topic   2225 non-null   object\n",
      "dtypes: object(2)\n",
      "memory usage: 34.9+ KB\n",
      "None\n",
      "                                                text     topic\n",
      "0  Dallaglio his own man to the end\\r\\n\\r\\nContro...     sport\n",
      "1  Best person' for top legal job\\r\\n\\r\\nThe \"bes...  politics\n",
      "2  Viewers to be able to shape TV\\r\\n\\r\\nImagine ...      tech\n",
      "3  Fox attacks Blair's Tory 'lies'\\r\\n\\r\\nTony Bl...  politics\n",
      "4  Microsoft debuts security tools\\r\\n\\r\\nMicroso...      tech\n"
     ]
    },
    {
     "name": "stderr",
     "output_type": "stream",
     "text": [
      "[nltk_data] Downloading package punkt to c:\\Users\\nthuy\\AppData\\Local\\\n",
      "[nltk_data]     Programs\\Python\\Python312\\lib\\nltk_data...\n",
      "[nltk_data]   Package punkt is already up-to-date!\n",
      "[nltk_data] Downloading package wordnet to c:\\Users\\nthuy\\AppData\\Loca\n",
      "[nltk_data]     l\\Programs\\Python\\Python312\\lib\\nltk_data...\n",
      "[nltk_data]   Package wordnet is already up-to-date!\n"
     ]
    }
   ],
   "source": [
    "import nltk\n",
    "import pandas as pd\n",
    "from sklearn.feature_extraction.text import ENGLISH_STOP_WORDS\n",
    "nltk.download('punkt')\n",
    "nltk.download('wordnet')\n",
    "\n",
    "bbc = pd.read_csv('bbc.csv')\n",
    "bbc.head()\n",
    "print(bbc.shape)\n",
    "print(bbc.info())\n",
    "print(bbc.head())   "
   ]
  },
  {
   "cell_type": "code",
   "execution_count": 122,
   "id": "502c2cb063dcdb9",
   "metadata": {
    "ExecuteTime": {
     "end_time": "2024-12-11T04:46:15.927255Z",
     "start_time": "2024-12-11T04:46:15.902024Z"
    }
   },
   "outputs": [
    {
     "name": "stdout",
     "output_type": "stream",
     "text": [
      "Missing data: text     0\n",
      "topic    0\n",
      "dtype: int64\n",
      "Duplicate data: 98\n",
      "Unique values in the 'topic' column: ['sport' 'politics' 'tech' 'business' 'entertainment']\n"
     ]
    }
   ],
   "source": [
    "# Check for missing data and print the total number of missing values for each column\n",
    "print(\"Missing data:\", bbc.isnull().sum())\n",
    "\n",
    "# Check for duplicate rows in the dataset and print the total number of duplicate rows\n",
    "print(\"Duplicate data:\", bbc.duplicated().sum())\n",
    "\n",
    "# Display the unique values of the 'topic' column to examine the different categories\n",
    "print(\"Unique values in the 'topic' column:\", bbc['topic'].unique())\n"
   ]
  },
  {
   "cell_type": "markdown",
   "id": "4bbd030f",
   "metadata": {},
   "source": [
    "- There are 98 duplicate rows in the dataset.\n",
    "- There is no missing data.\n",
    "- There are 5 unique values in the 'topic' column, and none of them are incorrect or inconsistent.\n",
    "- Therefore, we only need to remove the duplicate rows."
   ]
  },
  {
   "cell_type": "code",
   "execution_count": 123,
   "id": "b4beee372adae4ae",
   "metadata": {
    "ExecuteTime": {
     "end_time": "2024-12-11T04:46:15.957874Z",
     "start_time": "2024-12-11T04:46:15.929310Z"
    }
   },
   "outputs": [
    {
     "name": "stdout",
     "output_type": "stream",
     "text": [
      "                                                text     topic\n",
      "0  Dallaglio his own man to the end\\r\\n\\r\\nContro...     sport\n",
      "1  Best person' for top legal job\\r\\n\\r\\nThe \"bes...  politics\n",
      "2  Viewers to be able to shape TV\\r\\n\\r\\nImagine ...      tech\n",
      "3  Fox attacks Blair's Tory 'lies'\\r\\n\\r\\nTony Bl...  politics\n",
      "4  Microsoft debuts security tools\\r\\n\\r\\nMicroso...      tech\n"
     ]
    }
   ],
   "source": [
    "# Display summary statistics of the cleaned dataset\n",
    "bbc.describe()\n",
    "print(bbc.head())\n"
   ]
  },
  {
   "cell_type": "code",
   "execution_count": 124,
   "id": "7dd0b663",
   "metadata": {
    "ExecuteTime": {
     "end_time": "2024-12-11T04:46:15.989419Z",
     "start_time": "2024-12-11T04:46:15.960382Z"
    }
   },
   "outputs": [
    {
     "name": "stdout",
     "output_type": "stream",
     "text": [
      "                                                text     topic\n",
      "0  dallaglio his own man to the end\\r\\n\\r\\ncontro...     sport\n",
      "1  best person' for top legal job\\r\\n\\r\\nthe \"bes...  politics\n",
      "2  viewers to be able to shape tv\\r\\n\\r\\nimagine ...      tech\n",
      "3  fox attacks blair's tory 'lies'\\r\\n\\r\\ntony bl...  politics\n",
      "4  microsoft debuts security tools\\r\\n\\r\\nmicroso...      tech\n"
     ]
    }
   ],
   "source": [
    "bbc[\"text\"] = bbc[\"text\"].str.lower()\n",
    "print(bbc.head())"
   ]
  },
  {
   "cell_type": "code",
   "execution_count": 125,
   "id": "e2777f7d",
   "metadata": {
    "ExecuteTime": {
     "end_time": "2024-12-11T04:46:16.020627Z",
     "start_time": "2024-12-11T04:46:15.990421Z"
    }
   },
   "outputs": [
    {
     "data": {
      "text/html": [
       "<div>\n",
       "<style scoped>\n",
       "    .dataframe tbody tr th:only-of-type {\n",
       "        vertical-align: middle;\n",
       "    }\n",
       "\n",
       "    .dataframe tbody tr th {\n",
       "        vertical-align: top;\n",
       "    }\n",
       "\n",
       "    .dataframe thead th {\n",
       "        text-align: right;\n",
       "    }\n",
       "</style>\n",
       "<table border=\"1\" class=\"dataframe\">\n",
       "  <thead>\n",
       "    <tr style=\"text-align: right;\">\n",
       "      <th></th>\n",
       "      <th>text</th>\n",
       "      <th>topic</th>\n",
       "    </tr>\n",
       "  </thead>\n",
       "  <tbody>\n",
       "    <tr>\n",
       "      <th>0</th>\n",
       "      <td>dallaglio his own man to the end\\r\\n\\r\\ncontro...</td>\n",
       "      <td>sport</td>\n",
       "    </tr>\n",
       "    <tr>\n",
       "      <th>1</th>\n",
       "      <td>best person' for top legal job\\r\\n\\r\\nthe \"bes...</td>\n",
       "      <td>politics</td>\n",
       "    </tr>\n",
       "    <tr>\n",
       "      <th>2</th>\n",
       "      <td>viewers to be able to shape tv\\r\\n\\r\\nimagine ...</td>\n",
       "      <td>tech</td>\n",
       "    </tr>\n",
       "    <tr>\n",
       "      <th>3</th>\n",
       "      <td>fox attacks blair tory 'lies'\\r\\n\\r\\ntony blai...</td>\n",
       "      <td>politics</td>\n",
       "    </tr>\n",
       "    <tr>\n",
       "      <th>4</th>\n",
       "      <td>microsoft debuts security tools\\r\\n\\r\\nmicroso...</td>\n",
       "      <td>tech</td>\n",
       "    </tr>\n",
       "    <tr>\n",
       "      <th>...</th>\n",
       "      <td>...</td>\n",
       "      <td>...</td>\n",
       "    </tr>\n",
       "    <tr>\n",
       "      <th>2220</th>\n",
       "      <td>michael film signals 'retirement'\\r\\n\\r\\nsinge...</td>\n",
       "      <td>entertainment</td>\n",
       "    </tr>\n",
       "    <tr>\n",
       "      <th>2221</th>\n",
       "      <td>ray charles studio becomes museum\\r\\n\\r\\na mus...</td>\n",
       "      <td>entertainment</td>\n",
       "    </tr>\n",
       "    <tr>\n",
       "      <th>2222</th>\n",
       "      <td>chancellor rallies labour voters\\r\\n\\r\\ngordon...</td>\n",
       "      <td>politics</td>\n",
       "    </tr>\n",
       "    <tr>\n",
       "      <th>2223</th>\n",
       "      <td>oscar nominees gear up for lunch\\r\\n\\r\\nleonar...</td>\n",
       "      <td>entertainment</td>\n",
       "    </tr>\n",
       "    <tr>\n",
       "      <th>2224</th>\n",
       "      <td>california sets fines for spyware\\r\\n\\r\\nthe m...</td>\n",
       "      <td>tech</td>\n",
       "    </tr>\n",
       "  </tbody>\n",
       "</table>\n",
       "<p>2225 rows × 2 columns</p>\n",
       "</div>"
      ],
      "text/plain": [
       "                                                   text          topic\n",
       "0     dallaglio his own man to the end\\r\\n\\r\\ncontro...          sport\n",
       "1     best person' for top legal job\\r\\n\\r\\nthe \"bes...       politics\n",
       "2     viewers to be able to shape tv\\r\\n\\r\\nimagine ...           tech\n",
       "3     fox attacks blair tory 'lies'\\r\\n\\r\\ntony blai...       politics\n",
       "4     microsoft debuts security tools\\r\\n\\r\\nmicroso...           tech\n",
       "...                                                 ...            ...\n",
       "2220  michael film signals 'retirement'\\r\\n\\r\\nsinge...  entertainment\n",
       "2221  ray charles studio becomes museum\\r\\n\\r\\na mus...  entertainment\n",
       "2222  chancellor rallies labour voters\\r\\n\\r\\ngordon...       politics\n",
       "2223  oscar nominees gear up for lunch\\r\\n\\r\\nleonar...  entertainment\n",
       "2224  california sets fines for spyware\\r\\n\\r\\nthe m...           tech\n",
       "\n",
       "[2225 rows x 2 columns]"
      ]
     },
     "execution_count": 125,
     "metadata": {},
     "output_type": "execute_result"
    }
   ],
   "source": [
    "bbc.loc[:, \"text\"] = bbc[\"text\"].str.replace(\"'s\", \"\", regex=True)\n",
    "bbc"
   ]
  },
  {
   "cell_type": "code",
   "execution_count": 126,
   "id": "c56d21fb",
   "metadata": {
    "ExecuteTime": {
     "end_time": "2024-12-11T04:46:16.066779Z",
     "start_time": "2024-12-11T04:46:16.021629Z"
    }
   },
   "outputs": [
    {
     "data": {
      "text/html": [
       "<div>\n",
       "<style scoped>\n",
       "    .dataframe tbody tr th:only-of-type {\n",
       "        vertical-align: middle;\n",
       "    }\n",
       "\n",
       "    .dataframe tbody tr th {\n",
       "        vertical-align: top;\n",
       "    }\n",
       "\n",
       "    .dataframe thead th {\n",
       "        text-align: right;\n",
       "    }\n",
       "</style>\n",
       "<table border=\"1\" class=\"dataframe\">\n",
       "  <thead>\n",
       "    <tr style=\"text-align: right;\">\n",
       "      <th></th>\n",
       "      <th>text</th>\n",
       "      <th>topic</th>\n",
       "    </tr>\n",
       "  </thead>\n",
       "  <tbody>\n",
       "    <tr>\n",
       "      <th>0</th>\n",
       "      <td>dallaglio his own man to the end\\r\\n\\r\\ncontro...</td>\n",
       "      <td>sport</td>\n",
       "    </tr>\n",
       "    <tr>\n",
       "      <th>1</th>\n",
       "      <td>best person for top legal job\\r\\n\\r\\nthe best ...</td>\n",
       "      <td>politics</td>\n",
       "    </tr>\n",
       "    <tr>\n",
       "      <th>2</th>\n",
       "      <td>viewers to be able to shape tv\\r\\n\\r\\nimagine ...</td>\n",
       "      <td>tech</td>\n",
       "    </tr>\n",
       "    <tr>\n",
       "      <th>3</th>\n",
       "      <td>fox attacks blair tory lies\\r\\n\\r\\ntony blair ...</td>\n",
       "      <td>politics</td>\n",
       "    </tr>\n",
       "    <tr>\n",
       "      <th>4</th>\n",
       "      <td>microsoft debuts security tools\\r\\n\\r\\nmicroso...</td>\n",
       "      <td>tech</td>\n",
       "    </tr>\n",
       "    <tr>\n",
       "      <th>...</th>\n",
       "      <td>...</td>\n",
       "      <td>...</td>\n",
       "    </tr>\n",
       "    <tr>\n",
       "      <th>2220</th>\n",
       "      <td>michael film signals retirement\\r\\n\\r\\nsinger ...</td>\n",
       "      <td>entertainment</td>\n",
       "    </tr>\n",
       "    <tr>\n",
       "      <th>2221</th>\n",
       "      <td>ray charles studio becomes museum\\r\\n\\r\\na mus...</td>\n",
       "      <td>entertainment</td>\n",
       "    </tr>\n",
       "    <tr>\n",
       "      <th>2222</th>\n",
       "      <td>chancellor rallies labour voters\\r\\n\\r\\ngordon...</td>\n",
       "      <td>politics</td>\n",
       "    </tr>\n",
       "    <tr>\n",
       "      <th>2223</th>\n",
       "      <td>oscar nominees gear up for lunch\\r\\n\\r\\nleonar...</td>\n",
       "      <td>entertainment</td>\n",
       "    </tr>\n",
       "    <tr>\n",
       "      <th>2224</th>\n",
       "      <td>california sets fines for spyware\\r\\n\\r\\nthe m...</td>\n",
       "      <td>tech</td>\n",
       "    </tr>\n",
       "  </tbody>\n",
       "</table>\n",
       "<p>2225 rows × 2 columns</p>\n",
       "</div>"
      ],
      "text/plain": [
       "                                                   text          topic\n",
       "0     dallaglio his own man to the end\\r\\n\\r\\ncontro...          sport\n",
       "1     best person for top legal job\\r\\n\\r\\nthe best ...       politics\n",
       "2     viewers to be able to shape tv\\r\\n\\r\\nimagine ...           tech\n",
       "3     fox attacks blair tory lies\\r\\n\\r\\ntony blair ...       politics\n",
       "4     microsoft debuts security tools\\r\\n\\r\\nmicroso...           tech\n",
       "...                                                 ...            ...\n",
       "2220  michael film signals retirement\\r\\n\\r\\nsinger ...  entertainment\n",
       "2221  ray charles studio becomes museum\\r\\n\\r\\na mus...  entertainment\n",
       "2222  chancellor rallies labour voters\\r\\n\\r\\ngordon...       politics\n",
       "2223  oscar nominees gear up for lunch\\r\\n\\r\\nleonar...  entertainment\n",
       "2224  california sets fines for spyware\\r\\n\\r\\nthe m...           tech\n",
       "\n",
       "[2225 rows x 2 columns]"
      ]
     },
     "execution_count": 126,
     "metadata": {},
     "output_type": "execute_result"
    }
   ],
   "source": [
    "# Loại bỏ các ký tự đặc biệt trong cột 'text'\n",
    "bbc[\"text\"] = bbc[\"text\"].str.replace(r\"[;!?,.:()\\\"']\", \"\", regex=True)\n",
    "bbc"
   ]
  },
  {
   "cell_type": "code",
   "execution_count": 127,
   "id": "b31917a0",
   "metadata": {
    "ExecuteTime": {
     "end_time": "2024-12-11T04:46:16.235726Z",
     "start_time": "2024-12-11T04:46:16.068298Z"
    }
   },
   "outputs": [
    {
     "data": {
      "text/html": [
       "<div>\n",
       "<style scoped>\n",
       "    .dataframe tbody tr th:only-of-type {\n",
       "        vertical-align: middle;\n",
       "    }\n",
       "\n",
       "    .dataframe tbody tr th {\n",
       "        vertical-align: top;\n",
       "    }\n",
       "\n",
       "    .dataframe thead th {\n",
       "        text-align: right;\n",
       "    }\n",
       "</style>\n",
       "<table border=\"1\" class=\"dataframe\">\n",
       "  <thead>\n",
       "    <tr style=\"text-align: right;\">\n",
       "      <th></th>\n",
       "      <th>text</th>\n",
       "      <th>topic</th>\n",
       "    </tr>\n",
       "  </thead>\n",
       "  <tbody>\n",
       "    <tr>\n",
       "      <th>0</th>\n",
       "      <td>dallaglio man end controversy lawrence dallagl...</td>\n",
       "      <td>sport</td>\n",
       "    </tr>\n",
       "    <tr>\n",
       "      <th>1</th>\n",
       "      <td>best person legal job best person job appointe...</td>\n",
       "      <td>politics</td>\n",
       "    </tr>\n",
       "    <tr>\n",
       "      <th>2</th>\n",
       "      <td>viewers able shape tv imagine editing titanic ...</td>\n",
       "      <td>tech</td>\n",
       "    </tr>\n",
       "    <tr>\n",
       "      <th>3</th>\n",
       "      <td>fox attacks blair tory lies tony blair lied to...</td>\n",
       "      <td>politics</td>\n",
       "    </tr>\n",
       "    <tr>\n",
       "      <th>4</th>\n",
       "      <td>microsoft debuts security tools microsoft rele...</td>\n",
       "      <td>tech</td>\n",
       "    </tr>\n",
       "  </tbody>\n",
       "</table>\n",
       "</div>"
      ],
      "text/plain": [
       "                                                text     topic\n",
       "0  dallaglio man end controversy lawrence dallagl...     sport\n",
       "1  best person legal job best person job appointe...  politics\n",
       "2  viewers able shape tv imagine editing titanic ...      tech\n",
       "3  fox attacks blair tory lies tony blair lied to...  politics\n",
       "4  microsoft debuts security tools microsoft rele...      tech"
      ]
     },
     "execution_count": 127,
     "metadata": {},
     "output_type": "execute_result"
    }
   ],
   "source": [
    "# Create set of stop words from sklearn\n",
    "stop_words = set(ENGLISH_STOP_WORDS)\n",
    "\n",
    "# This function is use for removing stop words in text \n",
    "def remove_stopwords(text):\n",
    "    words = text.split()\n",
    "    filtered_words = [word for word in words if word.lower() not in stop_words]\n",
    "    return ' '.join(filtered_words)\n",
    "\n",
    "bbc.loc[:, 'text'] = bbc['text'].apply(remove_stopwords)\n",
    "\n",
    "bbc.head()"
   ]
  },
  {
   "cell_type": "code",
   "execution_count": 128,
   "id": "d2a99325",
   "metadata": {
    "ExecuteTime": {
     "end_time": "2024-12-11T04:46:16.487492Z",
     "start_time": "2024-12-11T04:46:16.238809Z"
    }
   },
   "outputs": [
    {
     "data": {
      "text/html": [
       "<div>\n",
       "<style scoped>\n",
       "    .dataframe tbody tr th:only-of-type {\n",
       "        vertical-align: middle;\n",
       "    }\n",
       "\n",
       "    .dataframe tbody tr th {\n",
       "        vertical-align: top;\n",
       "    }\n",
       "\n",
       "    .dataframe thead th {\n",
       "        text-align: right;\n",
       "    }\n",
       "</style>\n",
       "<table border=\"1\" class=\"dataframe\">\n",
       "  <thead>\n",
       "    <tr style=\"text-align: right;\">\n",
       "      <th></th>\n",
       "      <th>text</th>\n",
       "      <th>topic</th>\n",
       "    </tr>\n",
       "  </thead>\n",
       "  <tbody>\n",
       "    <tr>\n",
       "      <th>0</th>\n",
       "      <td>dallaglio man end controversy lawrence dallagl...</td>\n",
       "      <td>sport</td>\n",
       "    </tr>\n",
       "    <tr>\n",
       "      <th>1</th>\n",
       "      <td>best person legal job best person job appointe...</td>\n",
       "      <td>politics</td>\n",
       "    </tr>\n",
       "    <tr>\n",
       "      <th>2</th>\n",
       "      <td>viewers able shape tv imagine editing titanic ...</td>\n",
       "      <td>tech</td>\n",
       "    </tr>\n",
       "    <tr>\n",
       "      <th>3</th>\n",
       "      <td>fox attacks blair tory lies tony blair lied to...</td>\n",
       "      <td>politics</td>\n",
       "    </tr>\n",
       "    <tr>\n",
       "      <th>4</th>\n",
       "      <td>microsoft debuts security tools microsoft rele...</td>\n",
       "      <td>tech</td>\n",
       "    </tr>\n",
       "    <tr>\n",
       "      <th>...</th>\n",
       "      <td>...</td>\n",
       "      <td>...</td>\n",
       "    </tr>\n",
       "    <tr>\n",
       "      <th>2220</th>\n",
       "      <td>michael film signals retirement singer george ...</td>\n",
       "      <td>entertainment</td>\n",
       "    </tr>\n",
       "    <tr>\n",
       "      <th>2221</th>\n",
       "      <td>ray charles studio museum museum dedicated car...</td>\n",
       "      <td>entertainment</td>\n",
       "    </tr>\n",
       "    <tr>\n",
       "      <th>2222</th>\n",
       "      <td>chancellor rallies labour voters gordon brown ...</td>\n",
       "      <td>politics</td>\n",
       "    </tr>\n",
       "    <tr>\n",
       "      <th>2223</th>\n",
       "      <td>oscar nominees gear lunch leonardo dicaprio ja...</td>\n",
       "      <td>entertainment</td>\n",
       "    </tr>\n",
       "    <tr>\n",
       "      <th>2224</th>\n",
       "      <td>california sets fines spyware makers computer ...</td>\n",
       "      <td>tech</td>\n",
       "    </tr>\n",
       "  </tbody>\n",
       "</table>\n",
       "<p>2225 rows × 2 columns</p>\n",
       "</div>"
      ],
      "text/plain": [
       "                                                   text          topic\n",
       "0     dallaglio man end controversy lawrence dallagl...          sport\n",
       "1     best person legal job best person job appointe...       politics\n",
       "2     viewers able shape tv imagine editing titanic ...           tech\n",
       "3     fox attacks blair tory lies tony blair lied to...       politics\n",
       "4     microsoft debuts security tools microsoft rele...           tech\n",
       "...                                                 ...            ...\n",
       "2220  michael film signals retirement singer george ...  entertainment\n",
       "2221  ray charles studio museum museum dedicated car...  entertainment\n",
       "2222  chancellor rallies labour voters gordon brown ...       politics\n",
       "2223  oscar nominees gear lunch leonardo dicaprio ja...  entertainment\n",
       "2224  california sets fines spyware makers computer ...           tech\n",
       "\n",
       "[2225 rows x 2 columns]"
      ]
     },
     "execution_count": 128,
     "metadata": {},
     "output_type": "execute_result"
    }
   ],
   "source": [
    "import re\n",
    "\n",
    "# Hàm để loại bỏ các từ viết tắt như \"&\", \"/\",\":\"\n",
    "def remove_abbreviations_and_slash(text):\n",
    "    abbreviations = r'\\b(&|/)\\b'\n",
    "    cleaned_text = re.sub(abbreviations, '', text)\n",
    "    # Loại bỏ khoảng trắng thừa sau khi xóa\n",
    "    cleaned_text = re.sub(r'\\s+', ' ', cleaned_text).strip()\n",
    "    return cleaned_text\n",
    "\n",
    "# Áp dụng hàm cho cột 'text' trong DataFrame\n",
    "bbc.loc[:,'text'] = bbc['text'].apply(remove_abbreviations_and_slash)\n",
    "bbc"
   ]
  },
  {
   "cell_type": "code",
   "execution_count": 129,
   "id": "f86319e9",
   "metadata": {
    "ExecuteTime": {
     "end_time": "2024-12-11T04:46:21.886201Z",
     "start_time": "2024-12-11T04:46:16.489584Z"
    }
   },
   "outputs": [
    {
     "data": {
      "text/html": [
       "<div>\n",
       "<style scoped>\n",
       "    .dataframe tbody tr th:only-of-type {\n",
       "        vertical-align: middle;\n",
       "    }\n",
       "\n",
       "    .dataframe tbody tr th {\n",
       "        vertical-align: top;\n",
       "    }\n",
       "\n",
       "    .dataframe thead th {\n",
       "        text-align: right;\n",
       "    }\n",
       "</style>\n",
       "<table border=\"1\" class=\"dataframe\">\n",
       "  <thead>\n",
       "    <tr style=\"text-align: right;\">\n",
       "      <th></th>\n",
       "      <th>text</th>\n",
       "      <th>topic</th>\n",
       "    </tr>\n",
       "  </thead>\n",
       "  <tbody>\n",
       "    <tr>\n",
       "      <th>0</th>\n",
       "      <td>dallaglio man end controversy lawrence dallagl...</td>\n",
       "      <td>sport</td>\n",
       "    </tr>\n",
       "    <tr>\n",
       "      <th>1</th>\n",
       "      <td>best person legal job best person job appoint ...</td>\n",
       "      <td>politics</td>\n",
       "    </tr>\n",
       "    <tr>\n",
       "      <th>2</th>\n",
       "      <td>viewers able shape tv imagine edit titanic wat...</td>\n",
       "      <td>tech</td>\n",
       "    </tr>\n",
       "    <tr>\n",
       "      <th>3</th>\n",
       "      <td>fox attack blair tory lie tony blair lie take ...</td>\n",
       "      <td>politics</td>\n",
       "    </tr>\n",
       "    <tr>\n",
       "      <th>4</th>\n",
       "      <td>microsoft debut security tool microsoft releas...</td>\n",
       "      <td>tech</td>\n",
       "    </tr>\n",
       "    <tr>\n",
       "      <th>...</th>\n",
       "      <td>...</td>\n",
       "      <td>...</td>\n",
       "    </tr>\n",
       "    <tr>\n",
       "      <th>2220</th>\n",
       "      <td>michael film signal retirement singer george m...</td>\n",
       "      <td>entertainment</td>\n",
       "    </tr>\n",
       "    <tr>\n",
       "      <th>2221</th>\n",
       "      <td>ray charles studio museum museum dedicate care...</td>\n",
       "      <td>entertainment</td>\n",
       "    </tr>\n",
       "    <tr>\n",
       "      <th>2222</th>\n",
       "      <td>chancellor rally labour voters gordon brown is...</td>\n",
       "      <td>politics</td>\n",
       "    </tr>\n",
       "    <tr>\n",
       "      <th>2223</th>\n",
       "      <td>oscar nominees gear lunch leonardo dicaprio ja...</td>\n",
       "      <td>entertainment</td>\n",
       "    </tr>\n",
       "    <tr>\n",
       "      <th>2224</th>\n",
       "      <td>california set fin spyware makers computer pro...</td>\n",
       "      <td>tech</td>\n",
       "    </tr>\n",
       "  </tbody>\n",
       "</table>\n",
       "<p>2225 rows × 2 columns</p>\n",
       "</div>"
      ],
      "text/plain": [
       "                                                   text          topic\n",
       "0     dallaglio man end controversy lawrence dallagl...          sport\n",
       "1     best person legal job best person job appoint ...       politics\n",
       "2     viewers able shape tv imagine edit titanic wat...           tech\n",
       "3     fox attack blair tory lie tony blair lie take ...       politics\n",
       "4     microsoft debut security tool microsoft releas...           tech\n",
       "...                                                 ...            ...\n",
       "2220  michael film signal retirement singer george m...  entertainment\n",
       "2221  ray charles studio museum museum dedicate care...  entertainment\n",
       "2222  chancellor rally labour voters gordon brown is...       politics\n",
       "2223  oscar nominees gear lunch leonardo dicaprio ja...  entertainment\n",
       "2224  california set fin spyware makers computer pro...           tech\n",
       "\n",
       "[2225 rows x 2 columns]"
      ]
     },
     "execution_count": 129,
     "metadata": {},
     "output_type": "execute_result"
    }
   ],
   "source": [
    "from nltk.stem import WordNetLemmatizer\n",
    "\n",
    "# Tạo lemmatizer\n",
    "lemmatizer = WordNetLemmatizer()\n",
    "bbc[\"text\"] = bbc[\"text\"].apply(lambda x: ' '.join([lemmatizer.lemmatize(word, 'v') for word in x.split()]))\n",
    "bbc"
   ]
  },
  {
   "cell_type": "code",
   "execution_count": 130,
   "id": "8a671607",
   "metadata": {
    "ExecuteTime": {
     "end_time": "2024-12-11T04:46:22.273750Z",
     "start_time": "2024-12-11T04:46:21.889466Z"
    }
   },
   "outputs": [
    {
     "name": "stdout",
     "output_type": "stream",
     "text": [
      "Số lượng từ bị xóa: 2287\n",
      "Các mục bị loại bỏ: ['387500', 'â£546m', 'â£205000', '$5934bn', 'â£514m', '48000', 'â£910m', '5037', '999', '$152', '10416', '$13666', 'â£39000', 'â£27473m', '79000', '$20bn', '1989', 'â£188bn', '1008', 'â£519bn', '027', '48', '537', '$4584m', '$13652', 'â£115m', '$7782m', 'â£264m', '623', '$52bn', 'â£65m', '23500', 'â£374m', '111', '$16bn', 'â£52590', '203', '$4974', '833', 'â£11724929', '267', '5298', 'â£76m', '$46bn', '$107bn', '322', '271', '83000', 'â£230bn', '$125m', '0870', '6962', 'â£1m', '$187bn', '$1756bn', '$13006', '$800m', 'â£30m', 'â£64bn', '1997', '206900', 'â£161m', '$93bn', '28041', '$148', 'â£135', '08', '158', 'â£1500', 'â£266582', '$408m', '265', '107', '2115', '$32m', '828', 'â£13bn', '3367', 'â£191m', '1951', '$186bn', 'â£3921m', '$103500', '4000', '$613bn', '1474', '1944', '0227', '2940', 'â£324bn', '771', '12', 'â£572m', '1930', 'â£79m', '9300', '$119bn', '219', '487939', 'â£152', '$280bn', '$504m', '$170', '164', '440700', 'â£44m', '44', 'â£51bn', '$587m', '3910', '250000', 'â£23m', '500000', '$13516', 'â£750m', '$1354', '0710', 'â£134m', '$110', '$216m', 'â£30000', '$155m', '$370m', '9', 'â£8', 'â£907000', '2172', '$30000', 'â£60000', '800', '150', '505', '21718', 'â£138m', 'â£25', '$48m', '$459bn', 'â£29000', '$137m', '354', '190000', 'â£645m', 'â£281m', 'â£130', '$956bn', '1758', '$365bn', '169000', 'â£306814', '$5143', '8000', '$30m', 'â£88m', '$1000bn', '5196', '$289bn', '178', '1687', '$348bn', '$3576m', 'â£479m', 'â£91bn', 'â£118', '$7000', '$239850', '$204m', '74142', '1904', 'â£47m', 'â£538bn', '1893', 'â£815m', '301', '95', '3293', '$27m', 'â£38', '124', '2400', '$178bn', 'â£23bn', '$4230', 'â£3620', 'â£129', '$4bn', '157000', '36185', 'â£30', '283000', '176', 'â£71433', 'â£1', 'â£999', 'â£680m', '727', '$234bn', 'â£307m', '19800', '$560m', '2020', 'â£104m', 'â£420m', '$1765', '185', 'â£485m', 'â£213m', '5300', '1911', '3141', 'â£170m', '0845', '$13', '$4864', '$23bn', 'â£108bn', '1230', '1692', '6', '$600000', '155000', '$429m', 'â£86m', 'â£77800', '$291', 'â£63', 'â£548m', '$184m', '$15000', 'â£265m', '3305', '$5139', 'â£140', '0400', '15000', 'â£507', '1977', 'â£94m', 'â£198m', 'â£180226', '1970', '4', 'â£33', '136069', 'â£341m', 'â£15bn', '134', '500', '$500bn', 'â£2', 'â£451m', '$779m', 'â£55m', '$93m', '76', '75000', '6230', '10528', '$381m', '050505', '7072', '$1552bn', '1132', '$40m', '473', '$34m', '$17m', '367000', '$52761m', '680', 'â£799000', '$580', 'â£340000', '420', '090', 'â£143000', '1670', '955', '464000', '965000', '$50bn', '52', '$14m', '74', '$124bn', '$177m', '151', '125000', 'â£61bn', '4025', '167', '$113bn', '$68bn', '$1558bn', '$31bn', '192', '$25bn', '$13636', '3586', 'â£952m', 'â£7455', '119', '$499', '88', '$161m', 'â£335bn', 'â£525000', '$82', '2101', '67', '$15', '43', 'â£458m', 'â£4m', '$133m', '$599', '141', 'â£419m', 'â£42m', '2900', '$12974', 'â£199bn', '497', '1927', 'â£52', '$447m', 'â£325417', 'â£125000', 'â£8m', '8177', '10517', '59', '$8059m', '22579', '17815', '1952', '106', '225', 'â£125bn', '1937', 'â£156m', '70', '105', '165', '$28m', 'â£75000', '$2300', '$45bn', '187', 'â£133', 'â£532m', '125508', '1466', '2001', '47111', 'â£74m', '$11m', '289', '$175bn', '7', '1033', '793000', '6900', 'â£722m', '199293', 'â£225m', '20002001', '180', '$', '$150', '2000', 'â£947m', 'â£340m', '947', '$147m', 'â£723m', '3600', 'â£363bn', '2025', '$929', '1080', 'â£76bn', '1830', 'â£89m', 'â£106m', '144', '$206bn', '6798000', 'â£29bn', '713', '7600', '90000', '$240m', '$32bn', '42', '911', 'â£400', '1629', '12600', '85', 'â£137m', '163', '131', '856600', 'â£80m', '$42bn', '104000', '$5309', '27700', 'â£320', '81428', '243', '$60000', 'â£149m', '11000', 'â£707m', '993', 'â£5390', 'â£43bn', '2600', 'â£10575', '99', '102', '$40bn', 'â£96bn', '370', 'â£500000', '2015', '$360m', '1324', '$3122', '$258bn', 'â£154m', '2013', '1870', '2238', '0001', '$717', '$18m', '69', '1980', '404', '15', '$4445', '$5567', 'â£20m', '$435bn', '296000', 'â£53m', '168', 'â£290m', '$13m', 'â£885m', '512', '58000', '$190', 'â£2427m', 'â£85', '$220bn', 'â£12bn', 'â£399', 'â£114m', '806', 'â£535000', '$476', 'â£155m', '$26', 'â£2932m', '$17', 'â£264', 'â£16', '130000', 'â£230m', 'â£35000', '1912', '19', 'â£291m', '108', '1865', '994', 'â£83m', '$697m', 'â£27000', '$325bn', '127', '1962', '09', 'â£132', 'â£111', '645000', '533', '3026', '1956', '$500', '$720', '5700', 'â£518bn', '06', 'â£275m', '74678', '$18', '$339m', '607', '2745', '$3494bn', 'â£936bn', 'â£180444', '$375m', '$9358m', '$630m', '$163m', '207', '$1205bn', 'â£104bn', '73989', 'â£385m', '1149', '$141bn', '747', '81', '13187', 'â£931m', 'â£44914', '110', 'â£2659bn', '708', 'â£197bn', 'â£700m', 'â£267000', '717000', '1215', 'â£38bn', 'â£16bn', '$26m', '$257', 'â£25000', '735', '1942', '1660', '56', '$874m', '$2146bnâ', '586', 'â£120m', 'â£38660', '228', '14000', 'â£50m', '973', '$318m', '$99', '$250', '$50000', '$95m', 'â£6000', 'â£46998', '282000', '$39m', 'â£400m', '$3920', '78', '213', '3000', '$1044', '$246bn', 'â£59000', 'â£21bn', '3803', '$12', '3601', '276', '782', '0130', 'â£499m', '163000', '$3000', '$327bn', '273', 'â£169bn', '089', 'â£537bn', '$855bn', '581', '1922', '449603', '$31', '1300', '$125', 'â£115000', '$25', '311764', '$1219m', 'â£206m', '570', '$189', '661', '2007', '145', '339', '12900', '1935', '£546m', 'â£70', '53000', 'â£801m', '14160', '2006', 'â£182920', 'â£775', '760', '$937bn', 'â£364m', '106000', '299', '12800', '1920', '101', '961', 'â£285m', '471', '1689', '2100', '14055', '$285m', '538000', '$177600', '03', '1022', 'â£85bn', '$22m', '$510m', '1330', '$1300', '$4', '$549m', '365', '$85bn', '$417', '96000', 'â£1793', '605', '1960', 'â£558m', '123', '140', 'â£12m', '2009', 'â£280m', '2', '$37bn', 'â£550m', '$196bn', '63000', 'â£600000', '109000', '5557', '$563', '758', '$13bn', '29603', '$900m', 'â£980m', '72000', 'â£44bn', '200506', 'â£165m', '20445', '1487', '1974', '80600', '985', '£158m', '20673', '22000', '132', '1905', '400', '100000', '10453', '83', '$104m', 'â£68m', 'â£18m', '35000', 'â£3000', '$66m', '178000', '29', '$164', '1917', '73', '23', '$86bn', '2755', '$412bn', '1650', '700000', '425', '$184bn', 'â£35bn', '$112m', '$232bn', 'â£3788m', '05', 'â£1825m', 'â£63081', '$903m', '$24bn', '$200m', 'â£889bn', '$336bn', 'â£168m', 'â£2450', '$86m', '454', '$234000', '$301m', '$24m', 'â£120000', 'â£52000', 'â£5001and', '376', '18', 'â£522000', 'â£1200', '$21bn', 'â£167bn', 'â£516m', '$1834bn', '5345', 'â£24bn', '2088', '12000', '$450', 'â£133000', '38000', '44000', '240', 'â£146m', '$631bn', '988', 'â£2m', '$259m', 'â£55000', 'â£152879', '$47bn', 'â£64m', '$280', 'â£313m', 'â£100000', '007', '$9bn', '93', 'â£1356m', '$10000', '175000', '349', 'â£82bn', '067', 'â£1400', 'â£13500', '$140m', '1964', '46', '20', '385', 'â£106bn', '831', '137', 'â£581m', 'â£6500', '$48', '1084766', '1497', '1642', '$6bn', '$245m', '$376m', 'â£97m', '10000', 'â£800m', 'â£339', '6600', 'â£286bn', '80', 'â£178906', '$35bn', 'â£3m', '796', 'â£750', '0300', '389', 'â£322m', '$200bn', '0900', '$434m', '0950', '$1863m', '1979', '785', 'â£950000', 'â£27bn', '553', '$1935m', '13000', '6100', '$186m', 'â£774m', '700', '$35', '3997', '258', '19989', '$76m', '$47m', '$127m', 'â£424m', '159', '$480000', '$569m', '$984m', 'â£828bn', '$150bn', '27', '$3533m', '50430', '5050', '1987', '$1', '$10', 'â£133m', '7500', '$128bn', 'â£3226', '$950m', '140000', '$400m', '900000', '$18bn', '20152', '$13667', 'â£10545', 'â£28m', 'â£30800', '$107m', '20645', '$260m', '350', '$53m', '120', '0730', 'â£26bn', '7610', '$144m', 'â£268bn', '337000', '$4862', '$4209bn', '$500000', '2008', 'â£50bn', '1945', '$85m', '$638bn', 'â£3650', '$4015', 'â£11', '1961', '$1102m', '43305', 'â£11000', '$881m', '01', '2340', '270', '161', 'â£128m', '$166bn', 'â£2bn', '1981', '22', '36000', '1440', 'â£573m', '34978', 'â£29', 'â£19m', 'â£40000', '2300', 'â£65000', '1947', '$5700', 'â£6bn', '870', '$600', '153', 'â£46bn', 'â£486000', 'â£600m', '$8m', 'â£15690', '024', 'â£512m', '509', 'â£99m', '$281m', 'â£4815m', 'â£211', 'â£16000', '305775', 'â£53', '1444', '$300m', '564', 'â£50', '$176', 'â£277bn', '3500', 'â£5351bn', '$4438', 'â£485', '$20', '$230bn', '1972', 'â£567m', '25772', 'â£42bn', '230', 'â£520', 'â£22m', '11', '$254bn', '193', '$676m', 'â£234m', '$846m', '50', '281', 'â£300m', 'â£60', 'â£377m', 'â£505', '$5088', '$838m', '1941', '325000', '464', '$2040', 'â£196m', '2368', '$3865', '150000', 'â£2500', '$94m', '$22bn', 'â£60m', '666189', '$915000', '3539', 'â£5bn', '677000', '817', '$351m', '$36m', '246570', 'â£3', '000', 'â£39m', '1', 'â£275000', '74053', 'â£134bn', '2094', '507', '10360', '$824', '190', '$1085m', '6500', '85000', '$102bn', '$512bn', '$156bn', 'â£4024m', 'â£352m', 'â£857m', 'â£24m', 'â£390', '$901m', '149', 'â£100m', '160000', '200203', 'â£248bn', 'â£13700', '$861m', '$118m', 'â£55bn', '8954', 'â£535', '1237', '89000', '$550m', '$648m', '7710', '$30bn', '$467', '$24000', 'â£94bn', 'â£410', '$250m', '15087', 'â£28bn', '1812', 'â£105m', 'â£398m', '$13280', 'â£379m', '$427m', '601', '188', 'â£306m', '82', '1731', 'â£100', '865', 'â£54', 'â£187971', 'â£145bn', '200405', 'â£2885m', '5907', '71000', 'â£591000', '9033', 'â£17m', '$7bn', 'â£19bn', '$750m', '7613', 'â£2308m', 'â£245m', '$600m', '2107', '056', '78000', '1700', '$336', '$327m', '$436m', '1921', '$286', '$185bn', '777', '4500', '84000', 'â£266m', 'â£312bn', '31000', '360', '70000', '$200', '4751', '1900', '$1233', '94', '$291m', 'â£32bn', '25000', '133', '$305m', '2850', '191', '$12573', 'â£928bn', '32000', 'â£41m', '$328m', 'â£52m', '$140', '$480m', '670993', '5808', '2048', '$111m', 'â£165bn', '$2015', 'â£131961', '$9m', 'â£103m', 'â£340', '025', '$38bn', 'â£161840', '1857', 'â£5000', '1982', '$4212', '117', '$325m', 'â£12556', '19924', '$49bn', 'â£1164m', '318', '$1791m', '$5303', '235', '290000', '1936', 'â£105', '55', '$387m', '$162', '957', '$818bn', '$75m', 'â£2116bn', '$41m', '10500', 'â£43m', '156', 'â£53400', '$3bn', '$125000', '41', '3420', 'â£192m', 'â£140bn', '20034', '1965', '$149', 'â£178m', '2700', '26', '$746bn', '10227', 'â£119m', 'â£499', '$232m', '667', 'â£71bn', 'â£14', 'â£053', '$437bn', '155465', '$197bn', '$734m', '65', '$109bn', '84', '77', '60000', '30000', '2046', 'â£7000', '$515', '2500', 'â£190m', '10476', 'â£690m', '$5005bn', '474000', '$143bn', 'â£297m', '14738', '$120bn', '79', 'â£18375m', '1337', 'â£255bn', 'â£171', 'â£13', '469', '$63', '1800', 'â£28000', 'â£293264', '115', '196', 'â£57bn', 'â£1000', '199', '$365m', '2002', '$4193bn', 'â£529m', '1891', '$640m', '$431m', 'â£37bn', '$26500', '1954', '$544', '53', '36', '449', '90500', '$10305', '3217', 'â£4610849', '$37m', 'â£21000', '2530', '666', '$100000', '227000', '$5498m', 'â£4', '$428m', '$639m', '1969', 'â£820000', '$63bn', '527', '$2', '$1048', '$495m', '$162bn', '297', '$2724', '38153', '1125', '1441', '$625', '198000', '118', '00051', '400000', 'â£5001', '028', '1871', 'â£1bn', '27595', '120000', 'â£933m', '$675bn', 'â£45001', '$12871', 'â£300000', '$447bn', '$434bn', '3807', 'â£51m', 'â£350', '87', '$135m', '2050', '$49m', 'â£560', '262', '554', '645', '1728', '1155', '$190bn', '$14850', '$2054m', '357', '130', 'â£7m', '$808', '384', '242', '$98m', 'â£2802m', '38', '173', '10276', '4483', '560', 'â£27m', 'â£13m', '5686', '$7m', '96', '440000', '622', '20170', 'â£870', '1050', '$91m', 'â£20', '$26bn', 'â£15m', '$4000', '272', '427', '5500', '$6717bn', '476', 'â£14m', '13040', '217', 'â£1140', '4796', '813', '$18923', '$799', '277', '310', '$20m', '592', 'â£194m', '1949', '1025', '2200', 'â£111m', '201', 'â£237m', '3322', '3', 'â£391bn', '$5', '1044', 'â£160m', '62000', 'â£75m', 'â£400000', '$193bn', 'â£053bn', '2014', '$458', 'â£1152m', 'â£173', '$38', 'â£162m', 'â£788439', '737', '1056', '17', 'â£19', 'â£73m', '$1704', '$249m', '12011', '$18832', '399', '137000', '$28bn', '0700', 'â£520m', '81122', 'â£882bn', 'â£10bn', '142', '$75bn', '3230', '$188', 'â£90m', '$45m', '$75000', '151000', '5800', '555', '$1588m', '$100', '1727', '$136m', '$111bn', 'â£308m', '5', '126', '$1364', '$17255', 'â£34', '1985', '1875', '2158', '$115', 'â£633m', 'â£309m', '$153m', 'â£62bn', 'â£26', 'â£170', '$62bn', 'â£456m', '$230m', '798', '2012', 'â£254bn', '$133', 'â£1700', '115000', '$4710', '133000', '003', '$540m', '251', '287', '205', '58', 'â£720m', '$11000', 'â£425m', 'â£680', '$40000', '717', 'â£4895', '041', '1924', '489', '1915', 'â£215m', '324', 'â£23000', '28000', '$660m', '1500', 'â£111314', 'â£318', 'â£10', '885000', '$72m', '767', '1831', '114', '529', '$145m', 'â£949m', '572900', '2018', '6000', '80000', '101115', 'â£72bn', '530', 'â£17bn', '$300bn', '227', '$33', '37', 'â£8bn', '34882', '$294m', '275', 'â£1950', 'â£530m', '417', '24997', '136000', '$151m', '$284bn', '2367', '$320m', '45000', 'â£958m', '1928', '175', 'â£425', 'â£298bn', 'â£9m', '1995', 'â£99', '$72bn', '$5m', '$277', '$468m', 'â£686m', '112000', '915', '$341m', '$87bn', '$29bn', '$180bn', '18000', '$13270', '1834', 'â£11500', 'â£960m', '$16m', 'â£263000', 'â£180', '830', '$241m', '64280', '1313', '20012', 'â£98', '$48bn', 'â£429m', '521', '$6484m', '0619', 'â£80000', 'â£49m', '77000', 'â£644m', '1888', '595', 'â£248m', 'â£9000', '$146m', '4525', '518', '4200', '$644m', '121', '1975', '172', 'â£4507m', '940000', '$89m', '1776', '$515m', 'â£117m', 'â£11bn', 'â£45m', '002', '720', '$41350', '1946', 'â£350m', '97', '$106mâ', '$75', '$74m', '135', '200000', '45', '311000', '687', '1546', '102975', '20032004', 'â£78', 'â£12700', '105000', '90', 'â£560000', 'â£110m', '63', '$1435', 'â£336m', '$175m', '4987', 'â£2585m', '9276', '268', '1751000', '$142bn', '2005', '$103m', '$715m', '475', '43134', 'â£75bn', '17000', 'â£15000', '1761', '244', '6630', '95000', 'â£428m', '375', 'â£168', 'â£658m', 'â£187', '1801', '$21m', '206', '$565m', '$17bn', '1375', '138', '456', '401', '$336m', 'â£1040', '$132', '$84bn', '0630', '$406', '$105bn', '54', 'â£304m', '1000', 'â£6m', '62', 'â£5', 'â£157m', '$248bn', '1427', 'â£279bn', '$4m', '39', '£1145bn', '$12bn', 'â£370m', '112', 'â£330000', '$725m', 'â£22', '$761m', '37000', 'â£250000', '$550000', 'â£25m', '113', '$141m', '59000', '1174060', 'â£500m', '$130', '$1807bn', '1996', '$150000', '34604', '635173', '100', '$555bn', '30', '1984', '615', '$104bn', '$122m', 'â£2060', '$3', '$2619m', '40', '35', 'â£568m', 'â£175m', '2022', 'â£450', '776', 'â£691m', 'â£480000', 'â£66m', 'â£95m', 'â£152bn', '$850m', 'â£139', '3028', '674', '233', '1973', '26000', '136', '$331m', '$218', '987', '$3939m', '$13218', '$635', 'â£34bn', '$181m', '3056', '10', '1999', '1250', '1966', 'â£200', '600000', 'â£98m', '7800', 'â£10m', 'â£700', '$1399bn', '42093', '1938', '1925', 'â£3999', 'â£10000', '179', 'â£152m', 'â£2000', '$800bn', '1070', '1774', 'â£170bn', '$30', '$142m', 'â£17730', 'â£157bn', '1405', '$27bn', '12300', 'â£300', '$332', '68', '492', '103', '$1658m', '8661', '$144bn', '$5bn', '$1890', '1038548', '20000', 'â£8000', '$4451bn', '34', 'â£228m', '1998', '659', '$11bn', '$13509', '1319', '$368bn', '$1000', '34587', 'â£35', 'â£60bn', '87000', 'â£10280', '247', '780', '2010', '1903', 'â£1588bn', '27000', '47000', '92', '$94bn', '157', 'â£325m', '748', 'â£162086', 'â£187bn', '1218', 'â£347m', '1430', '$208m', 'â£349m', 'â£293000', 'â£4250', 'â£81bn', '4591', '25', 'â£564bn', '24', 'â£357m', '1088', '$357m', '$284m', 'â£468m', '260000', '66000', 'â£158bn', '800000', '2852', 'â£135m', '10137', '920', 'â£18bn', '$532m', '535', '47', '$180', '372', '$171m', '$103bn', 'â£483m', '1675', '$46m', '170', '2054', 'â£163748', 'â£130m', '1770', '$60m', '750000', '022', '$77m', '250', '$2000', '0200', '82000', 'â£45bn', 'â£5m', 'â£130000', 'â£227bn331bn', '4341', '31', '$52m', 'â£84m', 'â£827m', '1695', '$80bn', 'â£610m', '$33bn', '$126', 'â£250m', '1958', 'â£69', '$4325', '184', '12500', '14', 'â£173m', '56000', '75', 'â£68', '942', '43856', 'â£269bn', '$191m', 'â£177', 'â£484bn', '0469', '4797', '440', '1993', '4493', '$106', 'â£750000', 'â£72m', '900', '4875', '$38m', '922', '51075', '199899', '$41bn', '04', '$12944', '$53', 'â£190329', 'â£275', 'â£113bn', '32', '1943', '148', '$90m', '1130', '$701m', '$4132', '28', '$56m', '590', 'â£048', 'â£220', '3400', '1959', '$1m', 'â£220m', '5216', '23575', '1815', '840', '180000', 'â£150000', '1991', '$850bn', '5000', '171', '2004', 'â£232m', '$156m', '578', '576', 'â£277m', '$677m', '520000', 'â£375bn', 'â£22bn', '94000', '2030', '2501', 'â£600', '1983', '$15m', '$311bn', '61', '2881', '$58bn', '$65', 'â£135bn', '12575', 'â£833m', '166', 'â£70m', '$47', 'â£611000', '$5115', '10255', 'â£125', '$54bn', '182', 'â£46m', '436', '9000', 'â£527m', '$187m', 'â£155bn', 'â£36bn', '$646m', '851', '1986', '902', 'â£189733', '$275bn', '1940', '300000', '677', 'â£250', 'â£40m', '423', 'â£127m', '21', '813200', '16', 'â£67m', '3220', 'â£21m', '1967', '1963', '14832', '$295bn', '$128m', '511', 'â£138', '$768m', '328', '$66bn', '$537bn', 'â£48m', 'â£25bn', '6932', '71', '$345m', '596', '975', 'â£139544', 'â£292000', '$2m', '280000', '386', '$183', 'â£94', '$8bn', '639', '$584m', 'â£56m', '8200', '$427bn', '129', '12667', '$176m', '6650', '$100m', '$717m', '0800', '$115bn', 'â£10499', '$655m', 'â£289bn', '$2115', 'â£404000', '189000', '381769', '147', '1906', '514', '50000', 'â£109m', 'â£149bn', '41911', '$23000', '420000', 'â£77m', '542000', '$618m', 'â£6', '0530', '2234', '$60', '$74500', '257', '783', '76200', 'â£125m', '162', '$14bn', 'â£200m', 'â£500', '$54m', 'â£2669bn', '$443m', 'â£140m', '1910', '$150m', '$120m', '4645', 'â£389m', '$2bn', '8500', '9796', '030', '125', '305', '$200000', '$4148', '211', 'â£31bn', '$34bn', '300', '128', '$50', '$135', '$7500', '$098', '575', 'â£517bn', '23000', '1929', '13', '$58', '1000000000', '%', '569072', '$138m', '02', '$732m', '33', '$2598m', 'â£17320', 'â£218bn', '1606', '110000', 'â£54bn', '$19094', 'â£40', 'â£469', '340', '189', '200', '$327', 'â£335m', '1953', '$227m', '$5816m', 'â£287m', '153000', '66', 'â£26m', '$195m', '1908', '$110000', 'â£808m', 'â£118m', '200607', '$500m', 'â£12000', '801', '20210', '$1254m', '$235bn', '550', 'â£8170', '$60bn', '1990', 'â£153m', 'â£4745', '$44bn', '14800', '$1bn', 'â£4454m', '256', '$595', '4300', 'â£35m', '5125', 'â£50000', '1988', 'â£10849', '86', '$68m', 'â£231m', '216', '$322', '104', '$168m', '816', 'â£800', '600', '$70m', '1948', '49', '2572', '72', '1100', '90573', 'â£229', '4464', '929', '1976', '146', '740', '222', '920000', '$129', 'â£425000', '$35m', '$10bn', '483', '1030', 'â£1560', '$1026bn', 'â£20000', '64', '$100bn', '139000', '$1708bn', '1992', 'â£328m', '2011', '1955', '$546m', '$492m', 'â£925', 'â£116542', '$250000', 'â£371m', '$25m', 'â£195000', 'â£63m', 'â£59m', '4646', '787', 'â£272m', 'â£14bn', '$80m', 'â£3bn', '229', '51', '0605', '40000', '1971', 'â£236m', 'â£61m', '109', 'â£62m', '2019', '85130', 'â£690000', '1746', '312000', 'â£21', 'â£295m', '23600', '1200', '1939', '$160bn', '$422bn', '2003', '$85', 'â£48bn', '$399', '1796', '612', '$94', '128000', '1950', '1600', 'â£1050', '22953', '81000', '$19bn', '1701', '$50m', '1968', '4668', '1994', 'â£57', 'â£407m', 'â£102m', 'â£23', '$132bn', 'â£58bn', '$694m', '662', 'â£192713', '$42m', '146000', '$337m', '$488bn', 'â£53bn', '$143m', 'â£179bn', '57', '226', '$658bn', 'â£75', '$96bn', '$25000', 'â£215bn', '$15bn', '$97bn', '$377bn', '1957', '1848', '$65m', '1725', 'â£7960', '98', '0100', '$220m', '1148876', '525', '$2863', '$470m', '1515', '5950', 'â£39bn', '1400', '89', '5200', '91', '5785', '07', 'â£630', 'â£900m', '$085', '40052308090', '1115', '60', '$960m', 'â£317bn', '$576m', '$14', 'â£85000', '$258', '7000', '656', '$76', '143929', '33527', '220', 'â£1953m', '379', 'â£736m', 'â£861m', '$302m', '0', '$8', '200001', '$793m', '750', 'â£180126', '$74bn', '360000', '$24', '$45', '8', 'â£4bn', 'â£87bn', '$64bn', '325', 'â£11m', '$099', '280', '001', '186', '625', '$4965bn', '$700m', '84143', '397', '$110m', 'â£105bn', '$40', '286', 'â£415m', 'â£150m', '55000', 'â£26000', 'â£262825', '$187', '$120', 'â£384m', '$425', '3248', '1723', '$283bn', '$32500', '185000', '1978', '889', '224', '3300', '34586', '1934', 'â£22000', '160', '$10m']\n"
     ]
    }
   ],
   "source": [
    "\n",
    "if 'text' in bbc.columns:\n",
    "    # Hàm để loại bỏ số và đơn vị tiền tệ\n",
    "    def remove_currency_and_numbers_with_logging(text):\n",
    "        removed_items = re.findall(r'\\b\\d+\\b|\\$\\w*|%\\w*|₫\\w*|â£\\w*|£\\w*|â\\w*', text)\n",
    "        cleaned_text = re.sub(r'\\b\\d+\\b|\\$\\w*|%\\w*|₫\\w*|â£\\w*|£\\w*|â\\w*', '', text)\n",
    "        cleaned_text = re.sub(r'\\s+', ' ', cleaned_text).strip()\n",
    "        return cleaned_text, removed_items\n",
    "    \n",
    "    # Áp dụng hàm cho cột 'text' và lưu lại các mục bị loại bỏ\n",
    "    removed_data = []\n",
    "    def process_text(row):\n",
    "        cleaned_text, removed_items = remove_currency_and_numbers_with_logging(row)\n",
    "        removed_data.extend(removed_items)\n",
    "        return cleaned_text\n",
    "\n",
    "    # Sử dụng .loc để thay đổi giá trị trong DataFrame\n",
    "    bbc.loc[:, 'text'] = bbc['text'].apply(process_text)\n",
    "\n",
    "    # Lưu danh sách các mục bị loại bỏ vào một biến\n",
    "    removed_data = list(set(removed_data)) \n",
    "\n",
    "    # Xuất danh sách các mục bị loại bỏ\n",
    "    print(f\"Số lượng từ bị xóa: {len(removed_data)}\")\n",
    "    print(\"Các mục bị loại bỏ:\", removed_data)"
   ]
  },
  {
   "cell_type": "code",
   "execution_count": 131,
   "id": "0f5ae9c4",
   "metadata": {
    "ExecuteTime": {
     "end_time": "2024-12-11T04:46:22.445639Z",
     "start_time": "2024-12-11T04:46:22.274844Z"
    }
   },
   "outputs": [
    {
     "name": "stdout",
     "output_type": "stream",
     "text": [
      "Số lượng từ phổ biến: 8790\n",
      "Số lượng từ bị xóa: 17375\n"
     ]
    }
   ],
   "source": [
    "\n",
    "from collections import Counter\n",
    "\n",
    "# Kiểm tra sự tồn tại của cột 'text'\n",
    "if 'text' in bbc.columns:\n",
    "    # Đếm tần suất của các từ\n",
    "    all_words = ' '.join(bbc['text']).split()\n",
    "    word_counts = Counter(all_words)\n",
    "\n",
    "    # Lọc ra các từ xuất hiện từ 5 lần trở lên\n",
    "    common_words = {word for word, count in word_counts.items() if count >= 5}\n",
    "    \n",
    "    # In số lượng từ phổ biến\n",
    "    print(f\"Số lượng từ phổ biến: {len(common_words)}\")\n",
    "\n",
    "    # Danh sách từ bị xóa (từ hiếm gặp)\n",
    "    removed_words = {word for word in word_counts.keys() if word not in common_words}\n",
    "    \n",
    "    # In danh sách các từ hiếm gặp\n",
    "    print(f\"Số lượng từ bị xóa: {len(removed_words)}\")\n",
    "\n",
    "    bbc.loc[:, 'text'] = bbc['text'].apply(lambda x: ' '.join([word for word in x.split() if word in common_words]))"
   ]
  },
  {
   "cell_type": "code",
   "execution_count": 132,
   "id": "e9a7df88",
   "metadata": {
    "ExecuteTime": {
     "end_time": "2024-12-11T04:46:22.601229Z",
     "start_time": "2024-12-11T04:46:22.447578Z"
    }
   },
   "outputs": [
    {
     "name": "stdout",
     "output_type": "stream",
     "text": [
      "                                                   text          topic\n",
      "0     dallaglio man end controversy lawrence dallagl...          sport\n",
      "1     best person legal job best person job appoint ...       politics\n",
      "2     viewers able shape tv imagine edit titanic wat...           tech\n",
      "3     fox attack blair tory lie tony blair lie take ...       politics\n",
      "4     microsoft debut security tool microsoft releas...           tech\n",
      "...                                                 ...            ...\n",
      "2220  michael film signal retirement singer george m...  entertainment\n",
      "2221  ray charles studio museum museum dedicate care...  entertainment\n",
      "2222  chancellor rally labour voters gordon brown is...       politics\n",
      "2223  oscar nominees gear leonardo dicaprio jamie fo...  entertainment\n",
      "2224  california set fin spyware makers computer pro...           tech\n",
      "\n",
      "[2225 rows x 2 columns]\n"
     ]
    }
   ],
   "source": [
    "# Kiểm tra sự tồn tại của cột 'text'\n",
    "if 'text' in bbc.columns:\n",
    "    # Hàm để loại bỏ dấu gạch ngang '-' không liên kết với từ\n",
    "    def clean_text(text):\n",
    "        # Loại bỏ dấu gạch ngang không có từ đi kèm\n",
    "        cleaned_text = re.sub(r'(?<=\\s)-(?=\\s)', '', text)\n",
    "        cleaned_text = re.sub(r'\\s+', ' ', cleaned_text).strip()\n",
    "        return cleaned_text\n",
    "    \n",
    "    # Áp dụng hàm cho cột 'text'\n",
    "    bbc.loc[:, 'text'] = bbc['text'].apply(clean_text)\n",
    "print(bbc)\n"
   ]
  },
  {
   "cell_type": "code",
   "execution_count": 133,
   "id": "54eb8a6f",
   "metadata": {
    "ExecuteTime": {
     "end_time": "2024-12-11T04:46:22.647540Z",
     "start_time": "2024-12-11T04:46:22.602230Z"
    }
   },
   "outputs": [
    {
     "name": "stdout",
     "output_type": "stream",
     "text": [
      "Duplicate group: 2d metal slug offer retro fun like drill sergeant past metal slug today gamers slick visuals fancy 2d consider retro release years ago frantic shooter end year yes include halo simply choose 2d level video game blast encounter toughest game likely play enemies live pile pressure players battle soldier zombies giant alien mention huge boss guard level gameplay pepper moments genius fan robotic note title refer instead vast array vehicles offer game stuff bizarre hardware tank jet offer iraq justice joy thank ultra control tough crack addictive mere metal slug cheap slice fry man say course ignore lack do visual modern time blockbuster title offer fresh paint favour real innovation metal slug fresh air era xbox gate eye\n",
      "                                                   text topic\n",
      "1325  2d metal slug offer retro fun like drill serge...  tech\n",
      "1314  2d metal slug offer retro fun like drill serge...  tech\n",
      "Duplicate group: apple attack source row civil liberties group electronic frontier foundation eff join legal fight online journalists apple apple want reporters reveal source use stories leak information forthcoming products include mac mini eff represent reporters ask california superior court stop apple pursue source argue journalists protect american constitution eff say case threaten basic freedoms press apple particularly keen source information unreleased product ask journalists e-mail providers hand communications relevant confront issue reporter privilege apple go journalist isps e-mail say eff lawyer kurt undermine fundamental amendment right protect reporters court let apple away expose gain reporters potential confidential source deter provide information media public lose vital independent news analysis commentary say case begin december apple ask local californian court journalists reveal source article publish websites apple send request information internet service provider publisher jason look far corporations prevent information publish case examine online journalists privilege protections write newspapers magazines eff gain powerful ally legal battle apple include professor tom dean journalism school university california dan well-known silicon valley journalist apple immediately available comment\n",
      "                                                   text topic\n",
      "1380  apple attack source row civil liberties group ...  tech\n",
      "1200  apple attack source row civil liberties group ...  tech\n",
      "Duplicate group: apple ipod family expand market apple expand ipod family release generation digital music players latest challenge grow digital music gadget market include ipod mini model hold compare previous company hop dominant place digital music market say gold colour version mini drop version add ipod photo family latest model longer battery life price cut average original ipod take early lead digital music player market thank large storage capacity simple design million portable players sell million apple ipods analysts agree success integration itunes online store give company share legal download music market mike mcguire research director analyst gartner tell bbc news website apple good job seal market competition far create seamless package think idea product design function software impressive say add threat present creative devices real sony ratchet market message advertise say creative upbeat creative zen players ship end year say model like creative zen micro photo summer 5gb memory board digital music players gadget choice young americans accord recent research pew internet american life project adults million people own digital music player sort sales legally download songs rise tenfold accord record industry million track buy online europe months ifpi industry body say popularity portable music players growth analysts say ease use growth music service available net continue drive trend portable music players people start use novel ways combine automatic function net function automatically distribute diy radio show call podcast competition mobile phone operators keen offer stream service powerful sophisticate handsets accord mr mcguire research suggest people like idea build huge libraries music high-capacity storage devices like ipods creative mobiles capacity issue ease portability mobile music mr mcguire say apple ensure keep foot mobile music door recent deal motorola produce version itunes motorola phone\n",
      "                                                   text topic\n",
      "210   apple ipod family expand market apple expand i...  tech\n",
      "1712  apple ipod family expand market apple expand i...  tech\n",
      "Duplicate group: apple unveil low-cost mac mini apple unveil new low-cost macintosh computer mass bill mac mini chief executive steve job show new machine annual macworld speech san francisco macintosh sell uk describe job important mac apple mr job unveil ipod shuffle new music player use cheaper flash memory hard drive use expensive ipods new computer shift company new territory traditionally firm know design firm mass-market manufacturer mac mini come monitor keyboard mouse second version larger hard drive sell machine available january describe job bring display keyboard mouse attempt win windows pc customers mr job say appeal people think change operate systems people think switch excuse say newest affordable mac new computer subject speculation weeks people surprise announcement analysts say sensible january apple sue website publish say specifications new computer ian harris deputy editor uk magazine mac format say machine appeal consumers purchase ipod want taste mac like see ipod harris add everybody think apple happy remain niche maker luxury computers move market dominate low margin manufacturers like dell bold show apple keen capitalise mass market success ipod mac mini appeal pc users look attractive fuss computer new ipod shuffle come versions offer storage uk second gigabyte storage go sale tuesday music player display play songs shuffle smaller ipod hold songs say mr job mr job tell delegate macworld ipod market share digital music players\n",
      "                                                  text topic\n",
      "675  apple unveil low-cost mac mini apple unveil ne...  tech\n",
      "396  apple unveil low-cost mac mini apple unveil ne...  tech\n",
      "Duplicate group: ask jeeves join web log market ask jeeves buy bloglines website improve way handle content web journals blog bloglines site hugely popular give users place read search share blog interest ask jeeves say plan change bloglines use million article archive round index web ask jeeves pay bloglines reveal bloglines popular let users build list blog want follow have visit journal site individually make use technology know really simple syndication rss blog adopt let sit know new entries journals acquisition follow similar move search sit google acquire labs makers blogger software msn introduce blog yahoo tweak technology better job handle blog entries jim lanzone vice president search properties ask jeeves say do acquire bloglines just blog publish world say ask jeeves interest help people information look help write universe readers vastly larger universe writers say mr lanzone say acquisition sit ask jeeves service let people customise web experience build personal collection useful link search engines discover information time rss ideal way track monitor sit say help drive information entries blog portals ask jeeves operate instant sweep change bloglines say mr lanzone intent time figure right business model try right away say mr lanzone add ask jeeves help organise database 300m blog entries bloglines hold net index technology able search blogosphere corpus information useful right say mr lanzone rumour acquisition break weblog say get hint ask jeeves\n",
      "                                                   text topic\n",
      "1415  ask jeeves join web log market ask jeeves buy ...  tech\n",
      "1639  ask jeeves join web log market ask jeeves buy ...  tech\n",
      "Duplicate data: 107\n"
     ]
    }
   ],
   "source": [
    "# Find duplicate rows\n",
    "duplicate_rows = bbc[bbc.duplicated(subset=['text'], keep=False)]\n",
    "\n",
    "# Print duplicate datas\n",
    "grouped_duplicates = duplicate_rows.sort_values(by=['text']).groupby('text')\n",
    "for idx, (group, rows) in enumerate(grouped_duplicates):\n",
    "    if idx >= 5:\n",
    "        break\n",
    "    print(f\"Duplicate group: {group}\")\n",
    "    print(rows)\n",
    "\n",
    "# Check total duplicated rows \n",
    "print(\"Duplicate data:\", bbc.duplicated().sum())\n",
    "\n",
    "# Start cleaning the data by removing duplicate rows\n",
    "bbc = bbc.drop_duplicates()\n",
    "\n",
    "# print(bbc)"
   ]
  },
  {
   "cell_type": "code",
   "execution_count": 134,
   "id": "f903cfe39a1b1dbd",
   "metadata": {
    "ExecuteTime": {
     "end_time": "2024-12-11T04:48:01.196762Z",
     "start_time": "2024-12-11T04:48:00.998578Z"
    }
   },
   "outputs": [],
   "source": [
    "# Save the cleaned dataset to a new CSV file\n",
    "bbc.to_csv('bbc_cleaned.csv', index=False)"
   ]
  }
 ],
 "metadata": {
  "kernelspec": {
   "display_name": "Python 3",
   "language": "python",
   "name": "python3"
  },
  "language_info": {
   "codemirror_mode": {
    "name": "ipython",
    "version": 3
   },
   "file_extension": ".py",
   "mimetype": "text/x-python",
   "name": "python",
   "nbconvert_exporter": "python",
   "pygments_lexer": "ipython3",
   "version": "3.12.7"
  }
 },
 "nbformat": 4,
 "nbformat_minor": 5
}
