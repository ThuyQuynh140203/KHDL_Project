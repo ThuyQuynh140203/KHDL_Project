{
 "cells": [
  {
   "cell_type": "code",
   "id": "initial_id",
   "metadata": {
    "ExecuteTime": {
     "end_time": "2024-12-11T04:46:15.897024Z",
     "start_time": "2024-12-11T04:46:14.774432Z"
    }
   },
   "source": [
    "import nltk\n",
    "import pandas as pd\n",
    "from sklearn.feature_extraction.text import ENGLISH_STOP_WORDS\n",
    "nltk.download('punkt')\n",
    "nltk.download('wordnet')\n",
    "\n",
    "bbc = pd.read_csv('bbc.csv')\n",
    "bbc.head()\n",
    "print(bbc.shape)\n",
    "print(bbc.info())\n",
    "print(bbc.head())   "
   ],
   "outputs": [
    {
     "name": "stderr",
     "output_type": "stream",
     "text": [
      "[nltk_data] Downloading package punkt to\n",
      "[nltk_data]     C:\\Users\\Admin\\AppData\\Roaming\\nltk_data...\n",
      "[nltk_data]   Package punkt is already up-to-date!\n",
      "[nltk_data] Downloading package wordnet to\n",
      "[nltk_data]     C:\\Users\\Admin\\AppData\\Roaming\\nltk_data...\n"
     ]
    },
    {
     "name": "stdout",
     "output_type": "stream",
     "text": [
      "(2225, 2)\n",
      "<class 'pandas.core.frame.DataFrame'>\n",
      "RangeIndex: 2225 entries, 0 to 2224\n",
      "Data columns (total 2 columns):\n",
      " #   Column  Non-Null Count  Dtype \n",
      "---  ------  --------------  ----- \n",
      " 0   text    2225 non-null   object\n",
      " 1   topic   2225 non-null   object\n",
      "dtypes: object(2)\n",
      "memory usage: 34.9+ KB\n",
      "None\n",
      "                                                text     topic\n",
      "0  Dallaglio his own man to the end\\n\\nControvers...     sport\n",
      "1  Best person' for top legal job\\n\\nThe \"best pe...  politics\n",
      "2  Viewers to be able to shape TV\\n\\nImagine edit...      tech\n",
      "3  Fox attacks Blair's Tory 'lies'\\n\\nTony Blair ...  politics\n",
      "4  Microsoft debuts security tools\\n\\nMicrosoft i...      tech\n"
     ]
    }
   ],
   "execution_count": 11
  },
  {
   "cell_type": "code",
   "id": "502c2cb063dcdb9",
   "metadata": {
    "ExecuteTime": {
     "end_time": "2024-12-11T04:46:15.927255Z",
     "start_time": "2024-12-11T04:46:15.902024Z"
    }
   },
   "source": [
    "# Check for missing data and print the total number of missing values for each column\n",
    "print(\"Missing data:\", bbc.isnull().sum())\n",
    "\n",
    "# Check for duplicate rows in the dataset and print the total number of duplicate rows\n",
    "print(\"Duplicate data:\", bbc.duplicated().sum())\n",
    "\n",
    "# Display the unique values of the 'topic' column to examine the different categories\n",
    "print(\"Unique values in the 'topic' column:\", bbc['topic'].unique())\n"
   ],
   "outputs": [
    {
     "name": "stdout",
     "output_type": "stream",
     "text": [
      "Missing data: text     0\n",
      "topic    0\n",
      "dtype: int64\n",
      "Duplicate data: 98\n",
      "Unique values in the 'topic' column: ['sport' 'politics' 'tech' 'business' 'entertainment']\n"
     ]
    }
   ],
   "execution_count": 12
  },
  {
   "cell_type": "markdown",
   "id": "4bbd030f",
   "metadata": {},
   "source": [
    "- There are 98 duplicate rows in the dataset.\n",
    "- There is no missing data.\n",
    "- There are 5 unique values in the 'topic' column, and none of them are incorrect or inconsistent.\n",
    "- Therefore, we only need to remove the duplicate rows."
   ]
  },
  {
   "cell_type": "code",
   "id": "b4beee372adae4ae",
   "metadata": {
    "ExecuteTime": {
     "end_time": "2024-12-11T04:46:15.957874Z",
     "start_time": "2024-12-11T04:46:15.929310Z"
    }
   },
   "source": [
    "# Display summary statistics of the cleaned dataset\n",
    "bbc.describe()\n",
    "print(bbc.head())\n"
   ],
   "outputs": [
    {
     "name": "stdout",
     "output_type": "stream",
     "text": [
      "                                                text     topic\n",
      "0  Dallaglio his own man to the end\\n\\nControvers...     sport\n",
      "1  Best person' for top legal job\\n\\nThe \"best pe...  politics\n",
      "2  Viewers to be able to shape TV\\n\\nImagine edit...      tech\n",
      "3  Fox attacks Blair's Tory 'lies'\\n\\nTony Blair ...  politics\n",
      "4  Microsoft debuts security tools\\n\\nMicrosoft i...      tech\n"
     ]
    }
   ],
   "execution_count": 13
  },
  {
   "cell_type": "code",
   "id": "7dd0b663",
   "metadata": {
    "ExecuteTime": {
     "end_time": "2024-12-11T04:46:15.989419Z",
     "start_time": "2024-12-11T04:46:15.960382Z"
    }
   },
   "source": [
    "bbc[\"text\"] = bbc[\"text\"].str.lower()\n",
    "print(bbc.head())"
   ],
   "outputs": [
    {
     "name": "stdout",
     "output_type": "stream",
     "text": [
      "                                                text     topic\n",
      "0  dallaglio his own man to the end\\n\\ncontrovers...     sport\n",
      "1  best person' for top legal job\\n\\nthe \"best pe...  politics\n",
      "2  viewers to be able to shape tv\\n\\nimagine edit...      tech\n",
      "3  fox attacks blair's tory 'lies'\\n\\ntony blair ...  politics\n",
      "4  microsoft debuts security tools\\n\\nmicrosoft i...      tech\n"
     ]
    }
   ],
   "execution_count": 14
  },
  {
   "cell_type": "code",
   "id": "e2777f7d",
   "metadata": {
    "ExecuteTime": {
     "end_time": "2024-12-11T04:46:16.020627Z",
     "start_time": "2024-12-11T04:46:15.990421Z"
    }
   },
   "source": [
    "bbc.loc[:, \"text\"] = bbc[\"text\"].str.replace(\"'s\", \"\", regex=True)\n",
    "bbc"
   ],
   "outputs": [
    {
     "data": {
      "text/plain": [
       "                                                   text          topic\n",
       "0     dallaglio his own man to the end\\n\\ncontrovers...          sport\n",
       "1     best person' for top legal job\\n\\nthe \"best pe...       politics\n",
       "2     viewers to be able to shape tv\\n\\nimagine edit...           tech\n",
       "3     fox attacks blair tory 'lies'\\n\\ntony blair li...       politics\n",
       "4     microsoft debuts security tools\\n\\nmicrosoft i...           tech\n",
       "...                                                 ...            ...\n",
       "2220  michael film signals 'retirement'\\n\\nsinger ge...  entertainment\n",
       "2221  ray charles studio becomes museum\\n\\na museum ...  entertainment\n",
       "2222  chancellor rallies labour voters\\n\\ngordon bro...       politics\n",
       "2223  oscar nominees gear up for lunch\\n\\nleonardo d...  entertainment\n",
       "2224  california sets fines for spyware\\n\\nthe maker...           tech\n",
       "\n",
       "[2225 rows x 2 columns]"
      ],
      "text/html": [
       "<div>\n",
       "<style scoped>\n",
       "    .dataframe tbody tr th:only-of-type {\n",
       "        vertical-align: middle;\n",
       "    }\n",
       "\n",
       "    .dataframe tbody tr th {\n",
       "        vertical-align: top;\n",
       "    }\n",
       "\n",
       "    .dataframe thead th {\n",
       "        text-align: right;\n",
       "    }\n",
       "</style>\n",
       "<table border=\"1\" class=\"dataframe\">\n",
       "  <thead>\n",
       "    <tr style=\"text-align: right;\">\n",
       "      <th></th>\n",
       "      <th>text</th>\n",
       "      <th>topic</th>\n",
       "    </tr>\n",
       "  </thead>\n",
       "  <tbody>\n",
       "    <tr>\n",
       "      <th>0</th>\n",
       "      <td>dallaglio his own man to the end\\n\\ncontrovers...</td>\n",
       "      <td>sport</td>\n",
       "    </tr>\n",
       "    <tr>\n",
       "      <th>1</th>\n",
       "      <td>best person' for top legal job\\n\\nthe \"best pe...</td>\n",
       "      <td>politics</td>\n",
       "    </tr>\n",
       "    <tr>\n",
       "      <th>2</th>\n",
       "      <td>viewers to be able to shape tv\\n\\nimagine edit...</td>\n",
       "      <td>tech</td>\n",
       "    </tr>\n",
       "    <tr>\n",
       "      <th>3</th>\n",
       "      <td>fox attacks blair tory 'lies'\\n\\ntony blair li...</td>\n",
       "      <td>politics</td>\n",
       "    </tr>\n",
       "    <tr>\n",
       "      <th>4</th>\n",
       "      <td>microsoft debuts security tools\\n\\nmicrosoft i...</td>\n",
       "      <td>tech</td>\n",
       "    </tr>\n",
       "    <tr>\n",
       "      <th>...</th>\n",
       "      <td>...</td>\n",
       "      <td>...</td>\n",
       "    </tr>\n",
       "    <tr>\n",
       "      <th>2220</th>\n",
       "      <td>michael film signals 'retirement'\\n\\nsinger ge...</td>\n",
       "      <td>entertainment</td>\n",
       "    </tr>\n",
       "    <tr>\n",
       "      <th>2221</th>\n",
       "      <td>ray charles studio becomes museum\\n\\na museum ...</td>\n",
       "      <td>entertainment</td>\n",
       "    </tr>\n",
       "    <tr>\n",
       "      <th>2222</th>\n",
       "      <td>chancellor rallies labour voters\\n\\ngordon bro...</td>\n",
       "      <td>politics</td>\n",
       "    </tr>\n",
       "    <tr>\n",
       "      <th>2223</th>\n",
       "      <td>oscar nominees gear up for lunch\\n\\nleonardo d...</td>\n",
       "      <td>entertainment</td>\n",
       "    </tr>\n",
       "    <tr>\n",
       "      <th>2224</th>\n",
       "      <td>california sets fines for spyware\\n\\nthe maker...</td>\n",
       "      <td>tech</td>\n",
       "    </tr>\n",
       "  </tbody>\n",
       "</table>\n",
       "<p>2225 rows × 2 columns</p>\n",
       "</div>"
      ]
     },
     "execution_count": 15,
     "metadata": {},
     "output_type": "execute_result"
    }
   ],
   "execution_count": 15
  },
  {
   "cell_type": "code",
   "id": "c56d21fb",
   "metadata": {
    "ExecuteTime": {
     "end_time": "2024-12-11T04:46:16.066779Z",
     "start_time": "2024-12-11T04:46:16.021629Z"
    }
   },
   "source": [
    "# Loại bỏ các ký tự đặc biệt trong cột 'text'\n",
    "bbc[\"text\"] = bbc[\"text\"].str.replace(r\"[;!?,.:()\\\"']\", \"\", regex=True)\n",
    "bbc"
   ],
   "outputs": [
    {
     "data": {
      "text/plain": [
       "                                                   text          topic\n",
       "0     dallaglio his own man to the end\\n\\ncontrovers...          sport\n",
       "1     best person for top legal job\\n\\nthe best pers...       politics\n",
       "2     viewers to be able to shape tv\\n\\nimagine edit...           tech\n",
       "3     fox attacks blair tory lies\\n\\ntony blair lied...       politics\n",
       "4     microsoft debuts security tools\\n\\nmicrosoft i...           tech\n",
       "...                                                 ...            ...\n",
       "2220  michael film signals retirement\\n\\nsinger geor...  entertainment\n",
       "2221  ray charles studio becomes museum\\n\\na museum ...  entertainment\n",
       "2222  chancellor rallies labour voters\\n\\ngordon bro...       politics\n",
       "2223  oscar nominees gear up for lunch\\n\\nleonardo d...  entertainment\n",
       "2224  california sets fines for spyware\\n\\nthe maker...           tech\n",
       "\n",
       "[2225 rows x 2 columns]"
      ],
      "text/html": [
       "<div>\n",
       "<style scoped>\n",
       "    .dataframe tbody tr th:only-of-type {\n",
       "        vertical-align: middle;\n",
       "    }\n",
       "\n",
       "    .dataframe tbody tr th {\n",
       "        vertical-align: top;\n",
       "    }\n",
       "\n",
       "    .dataframe thead th {\n",
       "        text-align: right;\n",
       "    }\n",
       "</style>\n",
       "<table border=\"1\" class=\"dataframe\">\n",
       "  <thead>\n",
       "    <tr style=\"text-align: right;\">\n",
       "      <th></th>\n",
       "      <th>text</th>\n",
       "      <th>topic</th>\n",
       "    </tr>\n",
       "  </thead>\n",
       "  <tbody>\n",
       "    <tr>\n",
       "      <th>0</th>\n",
       "      <td>dallaglio his own man to the end\\n\\ncontrovers...</td>\n",
       "      <td>sport</td>\n",
       "    </tr>\n",
       "    <tr>\n",
       "      <th>1</th>\n",
       "      <td>best person for top legal job\\n\\nthe best pers...</td>\n",
       "      <td>politics</td>\n",
       "    </tr>\n",
       "    <tr>\n",
       "      <th>2</th>\n",
       "      <td>viewers to be able to shape tv\\n\\nimagine edit...</td>\n",
       "      <td>tech</td>\n",
       "    </tr>\n",
       "    <tr>\n",
       "      <th>3</th>\n",
       "      <td>fox attacks blair tory lies\\n\\ntony blair lied...</td>\n",
       "      <td>politics</td>\n",
       "    </tr>\n",
       "    <tr>\n",
       "      <th>4</th>\n",
       "      <td>microsoft debuts security tools\\n\\nmicrosoft i...</td>\n",
       "      <td>tech</td>\n",
       "    </tr>\n",
       "    <tr>\n",
       "      <th>...</th>\n",
       "      <td>...</td>\n",
       "      <td>...</td>\n",
       "    </tr>\n",
       "    <tr>\n",
       "      <th>2220</th>\n",
       "      <td>michael film signals retirement\\n\\nsinger geor...</td>\n",
       "      <td>entertainment</td>\n",
       "    </tr>\n",
       "    <tr>\n",
       "      <th>2221</th>\n",
       "      <td>ray charles studio becomes museum\\n\\na museum ...</td>\n",
       "      <td>entertainment</td>\n",
       "    </tr>\n",
       "    <tr>\n",
       "      <th>2222</th>\n",
       "      <td>chancellor rallies labour voters\\n\\ngordon bro...</td>\n",
       "      <td>politics</td>\n",
       "    </tr>\n",
       "    <tr>\n",
       "      <th>2223</th>\n",
       "      <td>oscar nominees gear up for lunch\\n\\nleonardo d...</td>\n",
       "      <td>entertainment</td>\n",
       "    </tr>\n",
       "    <tr>\n",
       "      <th>2224</th>\n",
       "      <td>california sets fines for spyware\\n\\nthe maker...</td>\n",
       "      <td>tech</td>\n",
       "    </tr>\n",
       "  </tbody>\n",
       "</table>\n",
       "<p>2225 rows × 2 columns</p>\n",
       "</div>"
      ]
     },
     "execution_count": 16,
     "metadata": {},
     "output_type": "execute_result"
    }
   ],
   "execution_count": 16
  },
  {
   "cell_type": "code",
   "id": "b31917a0",
   "metadata": {
    "ExecuteTime": {
     "end_time": "2024-12-11T04:46:16.235726Z",
     "start_time": "2024-12-11T04:46:16.068298Z"
    }
   },
   "source": [
    "# Create set of stop words from sklearn\n",
    "stop_words = set(ENGLISH_STOP_WORDS)\n",
    "\n",
    "# This function is use for removing stop words in text \n",
    "def remove_stopwords(text):\n",
    "    words = text.split()\n",
    "    filtered_words = [word for word in words if word.lower() not in stop_words]\n",
    "    return ' '.join(filtered_words)\n",
    "\n",
    "bbc.loc[:, 'text'] = bbc['text'].apply(remove_stopwords)\n",
    "\n",
    "bbc.head()"
   ],
   "outputs": [
    {
     "data": {
      "text/plain": [
       "                                                text     topic\n",
       "0  dallaglio man end controversy lawrence dallagl...     sport\n",
       "1  best person legal job best person job appointe...  politics\n",
       "2  viewers able shape tv imagine editing titanic ...      tech\n",
       "3  fox attacks blair tory lies tony blair lied to...  politics\n",
       "4  microsoft debuts security tools microsoft rele...      tech"
      ],
      "text/html": [
       "<div>\n",
       "<style scoped>\n",
       "    .dataframe tbody tr th:only-of-type {\n",
       "        vertical-align: middle;\n",
       "    }\n",
       "\n",
       "    .dataframe tbody tr th {\n",
       "        vertical-align: top;\n",
       "    }\n",
       "\n",
       "    .dataframe thead th {\n",
       "        text-align: right;\n",
       "    }\n",
       "</style>\n",
       "<table border=\"1\" class=\"dataframe\">\n",
       "  <thead>\n",
       "    <tr style=\"text-align: right;\">\n",
       "      <th></th>\n",
       "      <th>text</th>\n",
       "      <th>topic</th>\n",
       "    </tr>\n",
       "  </thead>\n",
       "  <tbody>\n",
       "    <tr>\n",
       "      <th>0</th>\n",
       "      <td>dallaglio man end controversy lawrence dallagl...</td>\n",
       "      <td>sport</td>\n",
       "    </tr>\n",
       "    <tr>\n",
       "      <th>1</th>\n",
       "      <td>best person legal job best person job appointe...</td>\n",
       "      <td>politics</td>\n",
       "    </tr>\n",
       "    <tr>\n",
       "      <th>2</th>\n",
       "      <td>viewers able shape tv imagine editing titanic ...</td>\n",
       "      <td>tech</td>\n",
       "    </tr>\n",
       "    <tr>\n",
       "      <th>3</th>\n",
       "      <td>fox attacks blair tory lies tony blair lied to...</td>\n",
       "      <td>politics</td>\n",
       "    </tr>\n",
       "    <tr>\n",
       "      <th>4</th>\n",
       "      <td>microsoft debuts security tools microsoft rele...</td>\n",
       "      <td>tech</td>\n",
       "    </tr>\n",
       "  </tbody>\n",
       "</table>\n",
       "</div>"
      ]
     },
     "execution_count": 17,
     "metadata": {},
     "output_type": "execute_result"
    }
   ],
   "execution_count": 17
  },
  {
   "cell_type": "code",
   "id": "d2a99325",
   "metadata": {
    "ExecuteTime": {
     "end_time": "2024-12-11T04:46:16.487492Z",
     "start_time": "2024-12-11T04:46:16.238809Z"
    }
   },
   "source": [
    "import re\n",
    "\n",
    "# Hàm để loại bỏ các từ viết tắt như \"&\", \"/\",\":\"\n",
    "def remove_abbreviations_and_slash(text):\n",
    "    abbreviations = r'\\b(&|/)\\b'\n",
    "    cleaned_text = re.sub(abbreviations, '', text)\n",
    "    # Loại bỏ khoảng trắng thừa sau khi xóa\n",
    "    cleaned_text = re.sub(r'\\s+', ' ', cleaned_text).strip()\n",
    "    return cleaned_text\n",
    "\n",
    "# Áp dụng hàm cho cột 'text' trong DataFrame\n",
    "bbc.loc[:,'text'] = bbc['text'].apply(remove_abbreviations_and_slash)\n",
    "bbc"
   ],
   "outputs": [
    {
     "data": {
      "text/plain": [
       "                                                   text          topic\n",
       "0     dallaglio man end controversy lawrence dallagl...          sport\n",
       "1     best person legal job best person job appointe...       politics\n",
       "2     viewers able shape tv imagine editing titanic ...           tech\n",
       "3     fox attacks blair tory lies tony blair lied to...       politics\n",
       "4     microsoft debuts security tools microsoft rele...           tech\n",
       "...                                                 ...            ...\n",
       "2220  michael film signals retirement singer george ...  entertainment\n",
       "2221  ray charles studio museum museum dedicated car...  entertainment\n",
       "2222  chancellor rallies labour voters gordon brown ...       politics\n",
       "2223  oscar nominees gear lunch leonardo dicaprio ja...  entertainment\n",
       "2224  california sets fines spyware makers computer ...           tech\n",
       "\n",
       "[2225 rows x 2 columns]"
      ],
      "text/html": [
       "<div>\n",
       "<style scoped>\n",
       "    .dataframe tbody tr th:only-of-type {\n",
       "        vertical-align: middle;\n",
       "    }\n",
       "\n",
       "    .dataframe tbody tr th {\n",
       "        vertical-align: top;\n",
       "    }\n",
       "\n",
       "    .dataframe thead th {\n",
       "        text-align: right;\n",
       "    }\n",
       "</style>\n",
       "<table border=\"1\" class=\"dataframe\">\n",
       "  <thead>\n",
       "    <tr style=\"text-align: right;\">\n",
       "      <th></th>\n",
       "      <th>text</th>\n",
       "      <th>topic</th>\n",
       "    </tr>\n",
       "  </thead>\n",
       "  <tbody>\n",
       "    <tr>\n",
       "      <th>0</th>\n",
       "      <td>dallaglio man end controversy lawrence dallagl...</td>\n",
       "      <td>sport</td>\n",
       "    </tr>\n",
       "    <tr>\n",
       "      <th>1</th>\n",
       "      <td>best person legal job best person job appointe...</td>\n",
       "      <td>politics</td>\n",
       "    </tr>\n",
       "    <tr>\n",
       "      <th>2</th>\n",
       "      <td>viewers able shape tv imagine editing titanic ...</td>\n",
       "      <td>tech</td>\n",
       "    </tr>\n",
       "    <tr>\n",
       "      <th>3</th>\n",
       "      <td>fox attacks blair tory lies tony blair lied to...</td>\n",
       "      <td>politics</td>\n",
       "    </tr>\n",
       "    <tr>\n",
       "      <th>4</th>\n",
       "      <td>microsoft debuts security tools microsoft rele...</td>\n",
       "      <td>tech</td>\n",
       "    </tr>\n",
       "    <tr>\n",
       "      <th>...</th>\n",
       "      <td>...</td>\n",
       "      <td>...</td>\n",
       "    </tr>\n",
       "    <tr>\n",
       "      <th>2220</th>\n",
       "      <td>michael film signals retirement singer george ...</td>\n",
       "      <td>entertainment</td>\n",
       "    </tr>\n",
       "    <tr>\n",
       "      <th>2221</th>\n",
       "      <td>ray charles studio museum museum dedicated car...</td>\n",
       "      <td>entertainment</td>\n",
       "    </tr>\n",
       "    <tr>\n",
       "      <th>2222</th>\n",
       "      <td>chancellor rallies labour voters gordon brown ...</td>\n",
       "      <td>politics</td>\n",
       "    </tr>\n",
       "    <tr>\n",
       "      <th>2223</th>\n",
       "      <td>oscar nominees gear lunch leonardo dicaprio ja...</td>\n",
       "      <td>entertainment</td>\n",
       "    </tr>\n",
       "    <tr>\n",
       "      <th>2224</th>\n",
       "      <td>california sets fines spyware makers computer ...</td>\n",
       "      <td>tech</td>\n",
       "    </tr>\n",
       "  </tbody>\n",
       "</table>\n",
       "<p>2225 rows × 2 columns</p>\n",
       "</div>"
      ]
     },
     "execution_count": 18,
     "metadata": {},
     "output_type": "execute_result"
    }
   ],
   "execution_count": 18
  },
  {
   "cell_type": "code",
   "id": "f86319e9",
   "metadata": {
    "ExecuteTime": {
     "end_time": "2024-12-11T04:46:21.886201Z",
     "start_time": "2024-12-11T04:46:16.489584Z"
    }
   },
   "source": [
    "from nltk.stem import WordNetLemmatizer\n",
    "\n",
    "# Tạo lemmatizer\n",
    "lemmatizer = WordNetLemmatizer()\n",
    "bbc[\"text\"] = bbc[\"text\"].apply(lambda x: ' '.join([lemmatizer.lemmatize(word, 'v') for word in x.split()]))\n",
    "bbc"
   ],
   "outputs": [
    {
     "data": {
      "text/plain": [
       "                                                   text          topic\n",
       "0     dallaglio man end controversy lawrence dallagl...          sport\n",
       "1     best person legal job best person job appoint ...       politics\n",
       "2     viewers able shape tv imagine edit titanic wat...           tech\n",
       "3     fox attack blair tory lie tony blair lie take ...       politics\n",
       "4     microsoft debut security tool microsoft releas...           tech\n",
       "...                                                 ...            ...\n",
       "2220  michael film signal retirement singer george m...  entertainment\n",
       "2221  ray charles studio museum museum dedicate care...  entertainment\n",
       "2222  chancellor rally labour voters gordon brown is...       politics\n",
       "2223  oscar nominees gear lunch leonardo dicaprio ja...  entertainment\n",
       "2224  california set fin spyware makers computer pro...           tech\n",
       "\n",
       "[2225 rows x 2 columns]"
      ],
      "text/html": [
       "<div>\n",
       "<style scoped>\n",
       "    .dataframe tbody tr th:only-of-type {\n",
       "        vertical-align: middle;\n",
       "    }\n",
       "\n",
       "    .dataframe tbody tr th {\n",
       "        vertical-align: top;\n",
       "    }\n",
       "\n",
       "    .dataframe thead th {\n",
       "        text-align: right;\n",
       "    }\n",
       "</style>\n",
       "<table border=\"1\" class=\"dataframe\">\n",
       "  <thead>\n",
       "    <tr style=\"text-align: right;\">\n",
       "      <th></th>\n",
       "      <th>text</th>\n",
       "      <th>topic</th>\n",
       "    </tr>\n",
       "  </thead>\n",
       "  <tbody>\n",
       "    <tr>\n",
       "      <th>0</th>\n",
       "      <td>dallaglio man end controversy lawrence dallagl...</td>\n",
       "      <td>sport</td>\n",
       "    </tr>\n",
       "    <tr>\n",
       "      <th>1</th>\n",
       "      <td>best person legal job best person job appoint ...</td>\n",
       "      <td>politics</td>\n",
       "    </tr>\n",
       "    <tr>\n",
       "      <th>2</th>\n",
       "      <td>viewers able shape tv imagine edit titanic wat...</td>\n",
       "      <td>tech</td>\n",
       "    </tr>\n",
       "    <tr>\n",
       "      <th>3</th>\n",
       "      <td>fox attack blair tory lie tony blair lie take ...</td>\n",
       "      <td>politics</td>\n",
       "    </tr>\n",
       "    <tr>\n",
       "      <th>4</th>\n",
       "      <td>microsoft debut security tool microsoft releas...</td>\n",
       "      <td>tech</td>\n",
       "    </tr>\n",
       "    <tr>\n",
       "      <th>...</th>\n",
       "      <td>...</td>\n",
       "      <td>...</td>\n",
       "    </tr>\n",
       "    <tr>\n",
       "      <th>2220</th>\n",
       "      <td>michael film signal retirement singer george m...</td>\n",
       "      <td>entertainment</td>\n",
       "    </tr>\n",
       "    <tr>\n",
       "      <th>2221</th>\n",
       "      <td>ray charles studio museum museum dedicate care...</td>\n",
       "      <td>entertainment</td>\n",
       "    </tr>\n",
       "    <tr>\n",
       "      <th>2222</th>\n",
       "      <td>chancellor rally labour voters gordon brown is...</td>\n",
       "      <td>politics</td>\n",
       "    </tr>\n",
       "    <tr>\n",
       "      <th>2223</th>\n",
       "      <td>oscar nominees gear lunch leonardo dicaprio ja...</td>\n",
       "      <td>entertainment</td>\n",
       "    </tr>\n",
       "    <tr>\n",
       "      <th>2224</th>\n",
       "      <td>california set fin spyware makers computer pro...</td>\n",
       "      <td>tech</td>\n",
       "    </tr>\n",
       "  </tbody>\n",
       "</table>\n",
       "<p>2225 rows × 2 columns</p>\n",
       "</div>"
      ]
     },
     "execution_count": 19,
     "metadata": {},
     "output_type": "execute_result"
    }
   ],
   "execution_count": 19
  },
  {
   "cell_type": "code",
   "id": "8a671607",
   "metadata": {
    "ExecuteTime": {
     "end_time": "2024-12-11T04:46:22.273750Z",
     "start_time": "2024-12-11T04:46:21.889466Z"
    }
   },
   "source": [
    "\n",
    "if 'text' in bbc.columns:\n",
    "    # Hàm để loại bỏ số và đơn vị tiền tệ\n",
    "    def remove_currency_and_numbers_with_logging(text):\n",
    "        removed_items = re.findall(r'\\b\\d+\\b|\\$\\w*|%\\w*|₫\\w*|â£\\w*|£\\w*|â\\w*', text)\n",
    "        cleaned_text = re.sub(r'\\b\\d+\\b|\\$\\w*|%\\w*|₫\\w*|â£\\w*|£\\w*|â\\w*', '', text)\n",
    "        cleaned_text = re.sub(r'\\s+', ' ', cleaned_text).strip()\n",
    "        return cleaned_text, removed_items\n",
    "    \n",
    "    # Áp dụng hàm cho cột 'text' và lưu lại các mục bị loại bỏ\n",
    "    removed_data = []\n",
    "    def process_text(row):\n",
    "        cleaned_text, removed_items = remove_currency_and_numbers_with_logging(row)\n",
    "        removed_data.extend(removed_items)\n",
    "        return cleaned_text\n",
    "\n",
    "    # Sử dụng .loc để thay đổi giá trị trong DataFrame\n",
    "    bbc.loc[:, 'text'] = bbc['text'].apply(process_text)\n",
    "\n",
    "    # Lưu danh sách các mục bị loại bỏ vào một biến\n",
    "    removed_data = list(set(removed_data)) \n",
    "\n",
    "    # Xuất danh sách các mục bị loại bỏ\n",
    "    print(f\"Số lượng từ bị xóa: {len(removed_data)}\")\n",
    "    print(\"Các mục bị loại bỏ:\", removed_data)"
   ],
   "outputs": [
    {
     "name": "stdout",
     "output_type": "stream",
     "text": [
      "Số lượng từ bị xóa: 2287\n",
      "Các mục bị loại bỏ: ['397', '$23000', 'â£132', '147', '$345m', '$565m', '$901m', '12', '64', '1441', '$546m', '$4451bn', '$110000', '$18bn', '$41m', '357', '104000', '$15m', '$146m', '193', 'â£150000', '$280bn', '35000', 'â£59000', 'â£98m', '198000', '29', '24', 'â£254bn', '$595', '$170', '2572', '$33bn', 'â£155bn', '1948', '900000', '1812', 'â£936bn', '$480m', 'â£279bn', '$331m', '220', '$260m', '$10', 'â£95m', '1430', '201', '12800', '$171m', '$644m', '$76m', '$675bn', '$5934bn', '$368bn', '2000', 'â£22000', '173', '440', '7', 'â£14bn', '$107m', '0900', '240', 'â£29000', 'â£391bn', 'â£88m', '3028', 'â£129', 'â£4610849', '2900', '185', 'â£13bn', 'â£213m', '56000', '$191m', '$15000', '1313', '1758', '129', '$646m', '199293', '372', 'â£65m', 'â£519bn', '102975', '$185bn', 'â£255bn', 'â£277m', 'â£23', 'â£236m', '164', '$499', '138', '77', '$4193bn', '$95m', '108', '$80m', 'â£572m', '$150', 'â£13500', 'â£37bn', '1728', 'â£160m', '1148876', '$5115', 'â£485m', '189', '2700', 'â£62m', '290000', '$1048', '42', 'â£133m', '1995', 'â£325417', 'â£385m', 'â£1152m', '922', '1941', '831', 'â£15bn', '$4862', '$85bn', '10360', 'â£62bn', '612', '3600', 'â£26m', '851', 'â£133', 'â£300000', '84143', 'â£105', '$301m', 'â£78', '$111m', '$428m', '$294m', 'â£43bn', '$984m', '$190', '$40m', '$85m', '2050', 'â£52m', 'â£225m', '1746', '1921', '817', '28000', '687', '$26bn', '387500', '$76', '$467', '661', '216', '$15', '16', '$', '$4m', '96', '4668', 'â£1560', '1660', 'â£85bn', '200405', '91', '022', 'â£89m', '656', '23500', '$336', '961', '$2bn', 'â£38', '$45m', '2', '$4974', 'â£564bn', '$800bn', '12667', '$4148', '639', '400000', '$74bn', 'â£546m', '$1935m', '$100m', '$322', '28', '$60m', '6100', 'â£158bn', '1761', 'â£199bn', '25772', '$325m', '8500', '512', 'â£3620', '5345', '$40', '$24', 'â£407m', '$87bn', 'â£322m', '$46bn', 'â£340', '520000', '$4438', 'â£30000', 'â£94', '471', '$105bn', '11', '146', '$11m', '9000', 'â£4250', '13187', '$35m', '1957', 'â£165m', 'â£479m', 'â£131961', '527', '63000', '1976', '150', 'â£35000', 'â£248m', '4591', '$82', '106', 'â£7m', '870', 'â£25bn', '$250000', '717000', 'â£168m', '0730', '$93bn', 'â£94m', 'â£16', '115', '110', '500000', 'â£2885m', '758', '1906', '360000', '1984', 'â£2bn', 'â£45m', '$280', '126', '828', '08', '52', '920', '3217', '$3', '06', 'â£425000', '537', 'â£69', '3420', '$177600', 'â£900m', '$66bn', '251', '$97bn', '153000', '5785', 'â£76m', 'â£20000', '2745', '4751', '$141bn', '1801', '1237', '14055', 'â£50m', 'â£162086', '$33', '$18m', '10416', '$328m', '674', 'â£63', 'â£486000', '1500', '376', '$32bn', '48', '$295bn', '$4230', 'â£815m', '161', 'â£13', 'â£134m', 'â£53', '$406', 'â£456m', '37000', 'â£2802m', '10276', 'â£23bn', 'â£230m', '78', '1983', '483', '530', '659', '2340', 'â£1950', '190000', '123', '713', 'â£178m', '$132', '2400', '63', '1088', '677000', 'â£357m', 'â£300m', '12300', 'â£187', '$11bn', 'â£205000', '90', '47', 'â£1040', '$1026bn', '141', '$5', 'â£64m', '987', '4493', '139000', 'â£262825', '280', '1038548', 'â£80000', '10255', '84000', '5700', 'â£340m', 'â£4m', '$124bn', '$100000', '$3000', '$500m', 'â£933m', '$435bn', '36', '$156m', '$144bn', '$120m', '$162', '$220bn', '$425', '$153m', 'â£907000', '1606', '$52761m', '151000', '83000', 'â£173m', 'â£135bn', '801', '$196bn', 'â£600', 'â£318', '$62bn', '23600', '34978', '$488bn', '1130', '$9m', 'â£189733', '521', '$504m', '80000', '$1000bn', '$818bn', '$327bn', '40052308090', 'â£115m', '957', '$30m', 'â£180444', '425', 'â£215bn', '$48m', '$1558bn', '750000', '$155m', '133000', '$109bn', 'â£152bn', '$4000', 'â£4', '$4325', '3026', 'â£50000', '0300', 'â£560', '$510m', '$41350', '1966', '2001', 'â£500000', '$808', '555', '1324', '1965', 'â£320', '109', '265', '$103m', 'â£591000', 'â£3', '178', '1904', '25', 'â£234m', '163000', '79', '$515m', '167', '$12944', '813200', '10476', 'â£81bn', 'â£537bn', 'â£2m', '4875', '$5139', '106000', '296000', 'â£500m', '17', '$249m', '1008', '666', '1815', '244', 'â£325m', '800', 'â£157m', '196', '420', '767', '$600', '1400', '6500', 'â£1m', '124', '$119bn', 'â£5390', '100', '564', 'â£152', 'â£61m', '325', 'â£149bn', 'â£19m', '$12573', 'â£870', '$188', 'â£950000', '$336m', '$204m', '$145m', 'â£363bn', '102', 'â£12556', '793000', '780', '449', 'â£113bn', 'â£568m', 'â£17bn', '$640m', '$49bn', 'â£053', '03', '7710', 'â£28m', '$458', '$5m', '178000', '82', 'â£272m', '$16m', '1987', 'â£54bn', '0605', 'â£117m', '$142m', 'â£96bn', '0870', '514', '$258', '813', '271', '$381m', '$8bn', '$631bn', '$24m', '$42bn', 'â£149m', 'â£295m', '$25000', '0530', '$93m', '$58', '0630', '1934', '1218', '1972', 'â£20', '2101', 'â£808m', '13040', '6900', '1991', '$4584m', '440700', 'â£250000', '$5005bn', '136000', '$112m', '93', '1903', '$77m', 'â£198m', '$512bn', 'â£139', '$30', 'â£775', 'â£371m', 'â£12000', '17815', '2501', 'â£72m', '1250', '2367', 'â£8', '94000', '$75', '$2863', '$162bn', '5907', '2030', '$658bn', 'â£275', '$3533m', '5950', '$1658m', '$94m', '247', '4797', '$115', '74053', 'â£169bn', 'â£6', '1960', '$32500', 'â£458m', 'â£44bn', 'â£106bn', 'â£194m', '72000', '27000', '$12', '243', '$387m', '137000', '$75000', '1796', '$13006', '171', 'â£79m', '11000', '6230', 'â£400', '$99', '1848', '1070', 'â£520', '157', '$676m', '$341m', '$60bn', 'â£516m', '200506', '$327', '$98m', '1044', 'â£26', 'â£889bn', '1977', '$125000', 'â£2585m', 'â£19bn', 'â£140', '$135m', '43134', '2018', '1337', '708', 'â£86m', '12011', '$2015', '273', 'â£352m', 'â£100m', 'â£35m', '915', '$697m', 'â£10849', '$70m', 'â£312bn', 'â£23000', 'â£133000', '$1791m', '$104m', '360', '$732m', '$1708bn', 'â£26bn', '041', '1642', '572900', '0400', '$1765', '20210', 'â£188bn', 'â£424m', 'â£178906', '1033', 'â£26000', '$281m', '$89m', '670993', '88', '$100', '$178bn', '$184m', '1954', '1692', 'â£12m', '560', 'â£512m', '2300', 'â£2932m', '$5088', '575', '4', '34', 'â£931m', '$60', 'â£22bn', '$495m', 'â£60', 'â£1bn', '13', '125000', '782', '105', 'â£404000', 'â£180126', '1910', 'â£100', '$53', 'â£10575', 'â£65000', '$13270', 'â£5m', '70', 'â£29', 'â£269bn', '$234bn', '$72bn', '02', 'â£48m', '6650', 'â£14', '176', '$447m', '189000', 'â£522000', 'â£707m', 'â£1356m', 'â£999', '$447bn', 'â£27m', '$2115', '1943', '$550m', '776', '$68bn', '1949', '289', 'â£161840', '942', '$3bn', '$085', '275', 'â£3788m', '$46m', '132', '1917', '213', 'â£723m', '$5567', '217', '$140', 'â£42m', 'â£374m', 'â£250m', '2500', '1971', '$75bn', 'â£28bn', 'â£30m', '103', '1725', '622', '36185', 'â£400000', '$150000', '7000', 'â£600m', '$227m', '$160bn', '$587m', 'â£197bn', '75', 'â£1200', '902', 'â£500', '80600', '96000', '$544', '2755', '34586', '98', '86', '1', '$16bn', '£546m', 'â£106m', 'â£33', 'â£60000', '5216', 'â£3226', '$799', '38000', '3539', '74142', 'â£5', '727', '1937', '796', '$6484m', 'â£750m', '1000000000', 'â£50bn', '163', 'â£40000', '77000', 'â£104m', '23000', '$956bn', 'â£560000', '449603', 'â£15m', 'â£154m', '4796', '299', '1955', '885000', '0130', '$746bn', '$86bn', '$15bn', 'â£179bn', '12600', '1149', '$900m', 'â£232m', 'â£150m', '170', '2003', '$193bn', '$80bn', '$141m', '464000', '$133', '007', 'â£340000', 'â£218bn', '1946', '$700m', 'â£118', '5686', '1908', '$600000', '$348bn', '$166bn', '1440', 'â£11bn', '$768m', '$60000', '160', 'â£833m', '553', '735', '$65m', 'â£530m', '134', '$20bn', '$63bn', 'â£384m', '104', '187', '929', 'â£99m', '258', 'â£39m', '38', '49', 'â£538bn', '74678', '1050', '384', 'â£192m', '205', '200000', '190', '67', '1330', 'â£84m', '1938', '$13m', '$13667', '$537bn', '$17', 'â£520m', 'â£13m', '60000', '000', '2600', 'â£801m', '$13652', '$694m', '$13666', '25000', 'â£45001', '027', '$1000', '590', 'â£527m', '$25m', '$1233', '$327m', 'â£180226', '$25', '404', '3248', '186', '51', '31000', '$1085m', '118', '99', 'â£119m', '$72m', '3305', '55000', '90000', 'â£308m', '1945', 'â£313m', 'â£85', '34587', '3910', 'â£71433', '1687', '1831', '1974', '1935', '$246bn', '15', '235', '$4864', '$422bn', '525', 'â£350m', 'â£799000', '172', '$427m', '2011', '151', '1319', 'â£25', '310', '81122', '$27bn', 'â£145bn', 'â£46998', '$177m', '180', '$208m', 'â£60m', 'â£499m', '1940', '$47m', '$639m', 'â£53m', '20170', '$41bn', '$94bn', '29603', '$151m', 'â£80m', '$38m', 'â£339', 'â£5001and', '114', 'â£304m', '$31bn', 'â£529m', '58000', 'â£34bn', 'â£4507m', '509', '$85', '131', '$48bn', '1497', '$54m', '$1102m', '125508', 'â£882bn', '$2619m', 'â£104bn', 'â£8m', '£158m', '$3939m', '32000', '$137m', '$1807bn', 'â£59m', '$2', 'â£820000', 'â£114m', 'â£45bn', '$38', 'â£8000', '$701m', '44', '1930', 'â£1793', '286', 'â£72bn', '130000', '66', '$128bn', 'â£700', '$18', 'â£4895', '297', '44000', '87', '535', 'â£3m', 'â£168', '%', '7800', '050505', '42093', '0950', '1830', '5298', 'â£51m', '$2300', '9796', 'â£167bn', '$434m', '427', '62', '188', '19800', '$168m', 'â£192713', '2006', '$436m', '$2146bnâ', '840', '$291m', '47111', '325000', 'â£68', '505', '27700', 'â£100000', '59', '2200', 'â£268bn', '19', '85', '$13509', '$793m', '$56m', 'â£5bn', '$44bn', 'â£58bn', 'â£11500', '85130', '$1588m', '993', 'â£60bn', '$2m', 'â£140m', '720', '250000', '301', '1944', 'â£24bn', '27595', '2014', '$7782m', '$660m', 'â£266582', 'â£750', '666189', '$12bn', '1956', '576', 'â£57', '1929', '1834', '$717m', '$180bn', 'â£171', '$855bn', 'â£182920', '$715m', '20034', '95', '206900', '056', 'â£567m', '1922', 'â£468m', '$13636', 'â£170m', '$365m', 'â£30', '$129', '$140m', '110000', '7500', '$31', '90573', '270', 'â£135', 'â£220m', '95000', '117', '109000', '41911', '1487', '256', '$147m', 'â£6000', '233', '2368', 'â£2500', '$54bn', '1982', 'â£125m', '$12974', '3000', 'â£120m', '£1145bn', '20673', '4341', '1964', 'â£10000', '806', 'â£39000', 'â£250', '$133m', 'â£25m', 'â£1588bn', '$143bn', '$14bn', '511', 'â£2', '5800', '$103bn', '32', '2107', 'â£175m', 'â£328m', 'â£469', '3997', '227', 'â£263000', '31', 'â£306m', 'â£143000', 'â£400m', 'â£287m', '$58bn', '59000', '$339m', '2020', '$106', 'â£110m', '24997', 'â£125', '22', 'â£111m', '1444', '1700', '80', '985', '024', '$66m', 'â£680', 'â£4745', 'â£51bn', 'â£19', 'â£211', 'â£335m', '$881m', 'â£6500', 'â£156m', 'â£857m', '$125', '1723', '133', '$186m', 'â£77800', 'â£191m', '$19094', 'â£5351bn', '1375', '$14850', '72', 'â£4815m', '$13280', 'â£2308m', '1125', '$325bn', '268', '56', '283000', '0800', 'â£46m', '$40bn', '157000', '2088', '$960m', '$717', 'â£1164m', '83', '$850bn', '2048', 'â£307m', '833', 'â£6bn', '$17bn', 'â£266m', '$216m', '2852', '185000', 'â£24m', '$357m', '162', 'â£3921m', '911', '$5700', '$635', 'â£161m', '$23bn', '$399', 'â£410', '2025', '$800m', 'â£128m', 'â£21000', 'â£17730', '$245m', '$5303', '$302m', 'â£928bn', '1891', '280000', 'â£297m', '645', '19924', 'â£573m', '605', '570', '142', '61', '$13218', '$120', '192', '92', '322', '$950m', '121', '00051', 'â£700m', 'â£21m', '994', 'â£30800', '318', '257', '85000', '$84bn', 'â£50', '$459bn', 'â£196m', '8661', '$26', '1080', '0710', 'â£52000', '$476', '33', '39', '737', '1025', 'â£94bn', '1030', 'â£289bn', 'â£116542', 'â£3999', '179', '830', 'â£548m', 'â£16000', 'â£317bn', '$161m', '$50', '1989', '798', 'â£215m', '281', 'â£828bn', 'â£377m', '492', 'â£267000', '$28m', '18000', '65', '1994', '$861m', '68', 'â£11m', '272', '3293', '625', 'â£40', '228', '165', '030', '2008', '267', '717', 'â£389m', '1427', '$176m', 'â£97m', '578', '$52bn', 'â£2659bn', '$1300', '$22bn', '$91m', '$437bn', '$284bn', 'â£2669bn', '$12871', 'â£73m', 'â£827m', '$337m', '$5498m', '748', 'â£399', 'â£56m', '$408m', '$94', 'â£44m', 'â£75000', 'â£960m', '1300', 'â£63m', 'â£335bn', 'â£7000', '0', '312000', '399', '2012', 'â£1050', 'â£581m', '150000', '1927', 'â£264m', '28041', 'â£138', 'â£450', 'â£155m', '8000', '1959', 'â£275m', '0227', 'â£518bn', '1600', '$234000', '4300', 'â£180', 'â£658m', 'â£535', '$74500', '81428', '$241m', '1986', '$110', '$135', '43305', '$150m', '003', '400', 'â£87bn', '6798000', 'â£644m', '225', '1942', 'â£053bn', '3220', '$779m', '$4710', 'â£286bn', '$1552bn', 'â£20m', '$19bn', '$4bn', 'â£91bn', '$50m', '64280', 'â£75bn', 'â£130', '550', '389', '1998', '1928', '596', '0200', '$26m', '$289bn', '160000', '1953', 'â£517bn', '66000', '60', '90500', '$257', '$1756bn', '$127m', '350', 'â£686m', '$36m', 'â£2060', '$235bn', '1174060', 'â£680m', '33527', 'â£499', 'â£227bn331bn', '113', '5050', '$677m', 'â£47m', 'â£139544', '120', '1924', '200001', '$305m', '$1bn', 'â£190329', '600000', '73', '4645', '$32m', '0100', '$540m', '$336bn', '1405', 'â£415m', '760', '$5bn', '9', 'â£66m', 'â£10bn', '21718', '$34m', '1115', 'â£720m', 'â£55bn', '$250', '$138m', '$750m', '$1704', '1912', '$100bn', 'â£691m', '$29bn', 'â£16bn', '554', '3141', '14832', '$111bn', '$099', '242', '$915000', '375', 'â£99', 'â£281m', '607', '13000', 'â£127m', '$630m', '2010', 'â£800', '$144m', '$613bn', '$130', '$13bn', '$10bn', 'â£550m', '5037', 'â£952m', '71000', '436', '$1834bn', '518', '476', '856600', 'â£85000', 'â£248bn', '089', '89000', '6962', '305', '5200', '$248bn', '$183', '$284m', '5808', 'â£690000', '601', '$197bn', '$761m', '211', '224', '1689', '246570', '5500', '2850', '$655m', '0619', '15087', 'â£1000', '$4965bn', 'â£38660', 'â£375bn', '542000', '1979', '43', '10500', '$21bn', '$5309', '$098', 'â£105m', '149', '4500', '46', '10517', 'â£53400', '34882', '$47', '$1354', 'â£1', '$9bn', '$560m', '$175bn', '$1364', '1084766', '469', 'â£8bn', '12575', 'â£532m', '50', '158', '740', '$10m', '$370m', '12000', '1230', 'â£22', '07', 'â£35bn', '787', '2046', '4646', 'â£910m', '$110m', '191', '$6717bn', '20645', '$45', '20445', '$120bn', '$42m', '1871', 'â£1140', '$427bn', '$4212', '$725m', 'â£25000', '1056', 'â£41m', '262', '$1254m', '$107bn', '975', '965000', 'â£230bn', 'â£200m', 'â£70m', 'â£1953m', '090', 'â£429m', 'â£1825m', '6000', '$128m', '84', '136069', 'â£27bn', '48000', 'â£611000', '2172', 'â£134bn', '136', '$164', 'â£480000', '1215', '250', '54', '1958', '$500bn', '$903m', 'â£958m', '$7m', '$20', 'â£190m', '6600', '328', '$846m', '$34bn', '4200', '115000', '$929', 'â£195000', 'â£23m', '3807', '$5816m', 'â£419m', 'â£645m', '$555bn', '35', '53000', '222', '$824', '615', '3500', '305775', 'â£514m', 'â£290m', 'â£947m', '260000', 'â£885m', '489', '$2054m', 'â£379m', '$10000', '230', 'â£64bn', '146000', 'â£152m', 'â£48bn', '182', 'â£861m', '$102bn', '311764', '$365bn', '645000', '$35bn', 'â£336m', '$1399bn', '$230bn', '$53m', '$600m', '700', '3400', '20012', '2019', '5300', '$4015', '22000', '2013', 'â£12700', '$50bn', '$283bn', '$10305', 'â£275000', 'â£137m', '74', '785', 'â£14m', '276', '199899', '$250m', '1990', '001', '$584m', 'â£330000', '107', '1857', 'â£130000', 'â£44914', '282000', '$5143', '3', '988', '$26500', 'â£22m', 'â£237m', 'â£102m', '1939', '$152', 'â£293264', 'â£535000', '420000', '$3494bn', 'â£34', '354', '$218', '37', '38153', '05', 'â£206m', '1000', '14000', 'â£27000', 'â£10m', '$186bn', 'â£690m', '0001', '$45bn', '1650', '$277', 'â£10280', '2054', '$63', '635173', '23575', 'â£11724929', '1900', 'â£111', '1727', '529', '600', 'â£125bn', '5196', '144', '73989', '$311bn', '$549m', 'â£949m', '$163m', '595', '$49m', '20032004', '1200', '$4445', '385', 'â£18375m', 'â£17m', 'â£980m', '$291', '10', 'â£75', 'â£925', '401', '100000', '$39m', '75000', '$38bn', '300000', '379', '5000', '166', '$17255', '$14', '$118m', '168', '367000', '771', '$175m', '$220m', '159', '111', '14738', '$8m', '1701', 'â£2000', 'â£280m', '$35', '$3576m', '$96bn', '3300', 'â£187bn', '$48', 'â£74m', '456', 'â£38bn', '19989', '200', '36000', 'â£10499', '97', '$3920', 'â£229', '145', '76200', 'â£17320', '30', '454', '$25bn', '82000', '$9358m', 'â£21', '865', '1925', '$838m', '2005', '973', '$200m', 'â£18m', 'â£398m', '1985', 'â£300', '1947', '$148', '940000', '$275bn', '$468m', '229', '206', 'â£21bn', '175000', '$550000', 'â£3000', 'â£140bn', '750', '$75m', '287', '783', 'â£292000', '$37m', 'â£10545', 'â£77m', '365', '$122m', '800000', '14800', '$648m', '4525', '$937bn', '920000', '507', '1996', '1970', '533', '3367', '$50000', '$377bn', 'â£1400', 'â£177', '79000', 'â£265m', '349', 'â£722m', '$412bn', '$11000', '$240m', '816', '2100', 'â£390', 'â£245m', '$2724', '$576m', '$176', 'â£98', '680', '180000', '440000', '8200', '70000', '$74m', '2940', 'â£71bn', 'â£103m', '1969', '2094', '497', '1695', 'â£57bn', '667', '$7500', '$90m', '1978', 'â£55m', 'â£264', '$7bn', 'â£173', '$156bn', '$1219m', '20000', '20002001', '10453', '569072', '$195m', '$184bn', '5557', '$318m', 'â£138m', '125', 'â£29bn', 'â£347m', '20152', 'â£63081', '2009', '474000', '$181m', 'â£68m', '3056', '423', '3803', '1629', '$4209bn', 'â£485', 'â£4bn', 'â£630', 'â£31bn', '1731', '3322', 'â£11000', '87000', '538000', '227000', '1132', '5', '200203', '04', '$376m', 'â£8170', 'â£105bn', '7610', '067', '1865', '14160', '$47bn', 'â£32bn', 'â£115000', 'â£36bn', '58', '1774', '662', '592', 'â£90m', '$18832', '156', '2238', '$3122', '34604', 'â£130m', 'â£111314', '$200000', '135', '47000', '$360m', '3586', '2115', '$515', '$599', '2004', 'â£9m', '$13', '1893', '199', '128000', '$8', 'â£108bn', '1992', 'â£788439', 'â£277bn', '4025', 'â£13700', '18', '4987', '$13516', '7600', 'â£135m', '$18923', 'â£4454m', '$187m', '$142bn', '1980', '1997', '$480000', '1950', '1770', '14', '40', 'â£170', '1155', '$106mâ', '$1044', '1981', '43856', '$400m', '2022', '$434bn', '22579', '20', '700000', '$27m', '1675', '947', '8177', 'â£1500', '324', '$232bn', '$638bn', 'â£7455', '57', 'â£165bn', '$206bn', '$7000', '4483', '$532m', 'â£341m', '$37bn', '41', 'â£163748', '5125', 'â£4024m', 'â£40m', 'â£610m', '$113bn', '$65', '586', '01', '1973', '10528', '$21m', '$351m', 'â£3bn', '$734m', '0700', '94', '2234', '677', 'â£53bn', 'â£425m', '62000', '81000', 'â£83m', '1474', 'â£451m', '7072', '$180', '1968', '89', '2881', '1515', '10000', '6932', '$4', '0845', 'â£67m', '1776', 'â£2116bn', '1875', 'â£18bn', '473', '1975', 'â£46bn', 'â£231m', '1915', '1920', '22953', '$200', '417', 'â£61bn', '$500', '8954', '337000', '$720', '10227', '$28bn', '148', '155465', '$332', '1905', '$189', '$375m', 'â£28000', '$14m', '127', 'â£309m', '$24000', '$1205bn', 'â£15690', '581', 'â£146m', '$450', '6', '184', '311000', '1951', '1961', 'â£39bn', '$563', '3230', '128', '$232m', 'â£54', '487939', '$417', '78000', 'â£428m', '$150bn', 'â£27473m', '002', 'â£2450', 'â£11', '$30bn', '$2040', '50430', '464', '$492m', '120000', '$1890', '$68m', 'â£370m', '69', '0469', 'â£220', '$320m', 'â£306814', '9033', '1022', '26', '$286', '1963', 'â£70', 'â£505', '955', '2002', '130', '$569m', '1952', '2158', '2015', '$64bn', 'â£507', '$431m', '$52m', '$618m', '1546', '71', 'â£285m', '12900', 'â£76bn', 'â£187971', '$149', '$1', 'â£600000', '$230m', 'â£3650', 'â£425', '153', '1751000', '$126', '$300m', '$104bn', '101', 'â£633m', 'â£800m', '$143m', 'â£9000', '09', 'â£2427m', 'â£293000', '340', '112000', '45', '15000', '370', '4000', '105000', '1870', 'â£49m', '$190bn', '4464', '226', '$625', 'â£298bn', '$132bn', '1999', '10137', '40000', '101115', 'â£125000', 'â£364m', 'â£525000', '$187bn', '747', 'â£484bn', 'â£42bn', '623', 'â£483m', 'â£291m', '51075', '81', '$1435', '207', '$470m', '175', '1888', 'â£15000', 'â£75m', 'â£120000', '1936', '1100', '26000', '8', '200607', 'â£12bn', 'â£55000', 'â£200', 'â£558m', 'â£152879', '$187', '9276', '$500000', '1962', '$239850', '$115bn', 'â£048', 'â£349m', '50000', '$20m', '$259m', '$2598m', '$6bn', 'â£1700', '1670', '6630', '3601', 'â£157bn', '999', '219', '1911', '53', '381769', '$258bn', '500', 'â£153m', '$17m', '17000', '$86m', '$285m', 'â£82bn', '$103500', '$1863m', '137', '169000', '45000', 'â£35', 'â£750000', '$40000', '$429m', 'â£43m', 'â£52590', '9300', '23', '$1m', '27', 'â£5001', '$200bn', '777', '30000', 'â£324bn', 'â£162m', '$4132', '155000', '2530', '112', 'â£10', 'â£118m', '277', '119', '140000', '1967', '1993', '386', '$22m', '$30000', '$443m', '889', '12500', '76', 'â£5000', '$254bn', '028', 'â£420m', '1988', '$8059m', '$300bn', '1466', '300', '$125m', '$24bn', '025', 'â£109m', '$850m', '$136m', '$3865', '143929', '$580', '21', '55', '475', '2007', '7613', 'â£6m', '$2000', 'â£170bn', '339', 'â£228m', '1800', 'â£7960', '140', 'â£350', 'â£52', 'â£736m', 'â£774m', '$874m', '203', '900']\n"
     ]
    }
   ],
   "execution_count": 20
  },
  {
   "cell_type": "code",
   "id": "0f5ae9c4",
   "metadata": {
    "ExecuteTime": {
     "end_time": "2024-12-11T04:46:22.445639Z",
     "start_time": "2024-12-11T04:46:22.274844Z"
    }
   },
   "source": [
    "\n",
    "from collections import Counter\n",
    "\n",
    "# Kiểm tra sự tồn tại của cột 'text'\n",
    "if 'text' in bbc.columns:\n",
    "    # Đếm tần suất của các từ\n",
    "    all_words = ' '.join(bbc['text']).split()\n",
    "    word_counts = Counter(all_words)\n",
    "\n",
    "    # Lọc ra các từ xuất hiện từ 5 lần trở lên\n",
    "    common_words = {word for word, count in word_counts.items() if count >= 5}\n",
    "    \n",
    "    # In số lượng từ phổ biến\n",
    "    print(f\"Số lượng từ phổ biến: {len(common_words)}\")\n",
    "\n",
    "    # Danh sách từ bị xóa (từ hiếm gặp)\n",
    "    removed_words = {word for word in word_counts.keys() if word not in common_words}\n",
    "    \n",
    "    # In danh sách các từ hiếm gặp\n",
    "    print(f\"Số lượng từ bị xóa: {len(removed_words)}\")\n",
    "\n",
    "    bbc.loc[:, 'text'] = bbc['text'].apply(lambda x: ' '.join([word for word in x.split() if word in common_words]))"
   ],
   "outputs": [
    {
     "name": "stdout",
     "output_type": "stream",
     "text": [
      "Số lượng từ phổ biến: 8790\n",
      "Số lượng từ bị xóa: 17375\n"
     ]
    }
   ],
   "execution_count": 21
  },
  {
   "cell_type": "code",
   "id": "e9a7df88",
   "metadata": {
    "ExecuteTime": {
     "end_time": "2024-12-11T04:46:22.601229Z",
     "start_time": "2024-12-11T04:46:22.447578Z"
    }
   },
   "source": [
    "\n",
    "# Kiểm tra sự tồn tại của cột 'text'\n",
    "if 'text' in bbc.columns:\n",
    "    # Hàm để loại bỏ dấu gạch ngang '-' không liên kết với từ\n",
    "    def clean_text(text):\n",
    "        # Loại bỏ dấu gạch ngang không có từ đi kèm\n",
    "        cleaned_text = re.sub(r'(?<=\\s)-(?=\\s)', '', text)\n",
    "        cleaned_text = re.sub(r'\\s+', ' ', cleaned_text).strip()\n",
    "        return cleaned_text\n",
    "    \n",
    "    # Áp dụng hàm cho cột 'text'\n",
    "    bbc.loc[:, 'text'] = bbc['text'].apply(clean_text)\n",
    "bbc\n"
   ],
   "outputs": [
    {
     "data": {
      "text/plain": [
       "                                                   text          topic\n",
       "0     dallaglio man end controversy lawrence dallagl...          sport\n",
       "1     best person legal job best person job appoint ...       politics\n",
       "2     viewers able shape tv imagine edit titanic wat...           tech\n",
       "3     fox attack blair tory lie tony blair lie take ...       politics\n",
       "4     microsoft debut security tool microsoft releas...           tech\n",
       "...                                                 ...            ...\n",
       "2220  michael film signal retirement singer george m...  entertainment\n",
       "2221  ray charles studio museum museum dedicate care...  entertainment\n",
       "2222  chancellor rally labour voters gordon brown is...       politics\n",
       "2223  oscar nominees gear leonardo dicaprio jamie fo...  entertainment\n",
       "2224  california set fin spyware makers computer pro...           tech\n",
       "\n",
       "[2225 rows x 2 columns]"
      ],
      "text/html": [
       "<div>\n",
       "<style scoped>\n",
       "    .dataframe tbody tr th:only-of-type {\n",
       "        vertical-align: middle;\n",
       "    }\n",
       "\n",
       "    .dataframe tbody tr th {\n",
       "        vertical-align: top;\n",
       "    }\n",
       "\n",
       "    .dataframe thead th {\n",
       "        text-align: right;\n",
       "    }\n",
       "</style>\n",
       "<table border=\"1\" class=\"dataframe\">\n",
       "  <thead>\n",
       "    <tr style=\"text-align: right;\">\n",
       "      <th></th>\n",
       "      <th>text</th>\n",
       "      <th>topic</th>\n",
       "    </tr>\n",
       "  </thead>\n",
       "  <tbody>\n",
       "    <tr>\n",
       "      <th>0</th>\n",
       "      <td>dallaglio man end controversy lawrence dallagl...</td>\n",
       "      <td>sport</td>\n",
       "    </tr>\n",
       "    <tr>\n",
       "      <th>1</th>\n",
       "      <td>best person legal job best person job appoint ...</td>\n",
       "      <td>politics</td>\n",
       "    </tr>\n",
       "    <tr>\n",
       "      <th>2</th>\n",
       "      <td>viewers able shape tv imagine edit titanic wat...</td>\n",
       "      <td>tech</td>\n",
       "    </tr>\n",
       "    <tr>\n",
       "      <th>3</th>\n",
       "      <td>fox attack blair tory lie tony blair lie take ...</td>\n",
       "      <td>politics</td>\n",
       "    </tr>\n",
       "    <tr>\n",
       "      <th>4</th>\n",
       "      <td>microsoft debut security tool microsoft releas...</td>\n",
       "      <td>tech</td>\n",
       "    </tr>\n",
       "    <tr>\n",
       "      <th>...</th>\n",
       "      <td>...</td>\n",
       "      <td>...</td>\n",
       "    </tr>\n",
       "    <tr>\n",
       "      <th>2220</th>\n",
       "      <td>michael film signal retirement singer george m...</td>\n",
       "      <td>entertainment</td>\n",
       "    </tr>\n",
       "    <tr>\n",
       "      <th>2221</th>\n",
       "      <td>ray charles studio museum museum dedicate care...</td>\n",
       "      <td>entertainment</td>\n",
       "    </tr>\n",
       "    <tr>\n",
       "      <th>2222</th>\n",
       "      <td>chancellor rally labour voters gordon brown is...</td>\n",
       "      <td>politics</td>\n",
       "    </tr>\n",
       "    <tr>\n",
       "      <th>2223</th>\n",
       "      <td>oscar nominees gear leonardo dicaprio jamie fo...</td>\n",
       "      <td>entertainment</td>\n",
       "    </tr>\n",
       "    <tr>\n",
       "      <th>2224</th>\n",
       "      <td>california set fin spyware makers computer pro...</td>\n",
       "      <td>tech</td>\n",
       "    </tr>\n",
       "  </tbody>\n",
       "</table>\n",
       "<p>2225 rows × 2 columns</p>\n",
       "</div>"
      ]
     },
     "execution_count": 22,
     "metadata": {},
     "output_type": "execute_result"
    }
   ],
   "execution_count": 22
  },
  {
   "cell_type": "code",
   "id": "54eb8a6f",
   "metadata": {
    "ExecuteTime": {
     "end_time": "2024-12-11T04:46:22.647540Z",
     "start_time": "2024-12-11T04:46:22.602230Z"
    }
   },
   "source": [
    "# Find duplicate rows\n",
    "duplicate_rows = bbc[bbc.duplicated(subset=['text'], keep=False)]\n",
    "\n",
    "# Print duplicate datas\n",
    "grouped_duplicates = duplicate_rows.sort_values(by=['text']).groupby('text')\n",
    "for idx, (group, rows) in enumerate(grouped_duplicates):\n",
    "    if idx >= 5:\n",
    "        break\n",
    "    print(f\"Duplicate group: {group}\")\n",
    "    print(rows)\n",
    "\n",
    "# Check total duplicated rows \n",
    "print(\"Duplicate data:\", bbc.duplicated().sum())\n",
    "\n",
    "# Start cleaning the data by removing duplicate rows\n",
    "bbc = bbc.drop_duplicates()\n",
    "\n",
    "# print(bbc)"
   ],
   "outputs": [
    {
     "name": "stdout",
     "output_type": "stream",
     "text": [
      "Duplicate group: 2d metal slug offer retro fun like drill sergeant past metal slug today gamers slick visuals fancy 2d consider retro release years ago frantic shooter end year yes include halo simply choose 2d level video game blast encounter toughest game likely play enemies live pile pressure players battle soldier zombies giant alien mention huge boss guard level gameplay pepper moments genius fan robotic note title refer instead vast array vehicles offer game stuff bizarre hardware tank jet offer iraq justice joy thank ultra control tough crack addictive mere metal slug cheap slice fry man say course ignore lack do visual modern time blockbuster title offer fresh paint favour real innovation metal slug fresh air era xbox gate eye\n",
      "                                                   text topic\n",
      "1325  2d metal slug offer retro fun like drill serge...  tech\n",
      "1314  2d metal slug offer retro fun like drill serge...  tech\n",
      "Duplicate group: apple attack source row civil liberties group electronic frontier foundation eff join legal fight online journalists apple apple want reporters reveal source use stories leak information forthcoming products include mac mini eff represent reporters ask california superior court stop apple pursue source argue journalists protect american constitution eff say case threaten basic freedoms press apple particularly keen source information unreleased product ask journalists e-mail providers hand communications relevant confront issue reporter privilege apple go journalist isps e-mail say eff lawyer kurt undermine fundamental amendment right protect reporters court let apple away expose gain reporters potential confidential source deter provide information media public lose vital independent news analysis commentary say case begin december apple ask local californian court journalists reveal source article publish websites apple send request information internet service provider publisher jason look far corporations prevent information publish case examine online journalists privilege protections write newspapers magazines eff gain powerful ally legal battle apple include professor tom dean journalism school university california dan well-known silicon valley journalist apple immediately available comment\n",
      "                                                   text topic\n",
      "1380  apple attack source row civil liberties group ...  tech\n",
      "1200  apple attack source row civil liberties group ...  tech\n",
      "Duplicate group: apple ipod family expand market apple expand ipod family release generation digital music players latest challenge grow digital music gadget market include ipod mini model hold compare previous company hop dominant place digital music market say gold colour version mini drop version add ipod photo family latest model longer battery life price cut average original ipod take early lead digital music player market thank large storage capacity simple design million portable players sell million apple ipods analysts agree success integration itunes online store give company share legal download music market mike mcguire research director analyst gartner tell bbc news website apple good job seal market competition far create seamless package think idea product design function software impressive say add threat present creative devices real sony ratchet market message advertise say creative upbeat creative zen players ship end year say model like creative zen micro photo summer 5gb memory board digital music players gadget choice young americans accord recent research pew internet american life project adults million people own digital music player sort sales legally download songs rise tenfold accord record industry million track buy online europe months ifpi industry body say popularity portable music players growth analysts say ease use growth music service available net continue drive trend portable music players people start use novel ways combine automatic function net function automatically distribute diy radio show call podcast competition mobile phone operators keen offer stream service powerful sophisticate handsets accord mr mcguire research suggest people like idea build huge libraries music high-capacity storage devices like ipods creative mobiles capacity issue ease portability mobile music mr mcguire say apple ensure keep foot mobile music door recent deal motorola produce version itunes motorola phone\n",
      "                                                   text topic\n",
      "210   apple ipod family expand market apple expand i...  tech\n",
      "1712  apple ipod family expand market apple expand i...  tech\n",
      "Duplicate group: apple unveil low-cost mac mini apple unveil new low-cost macintosh computer mass bill mac mini chief executive steve job show new machine annual macworld speech san francisco macintosh sell uk describe job important mac apple mr job unveil ipod shuffle new music player use cheaper flash memory hard drive use expensive ipods new computer shift company new territory traditionally firm know design firm mass-market manufacturer mac mini come monitor keyboard mouse second version larger hard drive sell machine available january describe job bring display keyboard mouse attempt win windows pc customers mr job say appeal people think change operate systems people think switch excuse say newest affordable mac new computer subject speculation weeks people surprise announcement analysts say sensible january apple sue website publish say specifications new computer ian harris deputy editor uk magazine mac format say machine appeal consumers purchase ipod want taste mac like see ipod harris add everybody think apple happy remain niche maker luxury computers move market dominate low margin manufacturers like dell bold show apple keen capitalise mass market success ipod mac mini appeal pc users look attractive fuss computer new ipod shuffle come versions offer storage uk second gigabyte storage go sale tuesday music player display play songs shuffle smaller ipod hold songs say mr job mr job tell delegate macworld ipod market share digital music players\n",
      "                                                  text topic\n",
      "675  apple unveil low-cost mac mini apple unveil ne...  tech\n",
      "396  apple unveil low-cost mac mini apple unveil ne...  tech\n",
      "Duplicate group: ask jeeves join web log market ask jeeves buy bloglines website improve way handle content web journals blog bloglines site hugely popular give users place read search share blog interest ask jeeves say plan change bloglines use million article archive round index web ask jeeves pay bloglines reveal bloglines popular let users build list blog want follow have visit journal site individually make use technology know really simple syndication rss blog adopt let sit know new entries journals acquisition follow similar move search sit google acquire labs makers blogger software msn introduce blog yahoo tweak technology better job handle blog entries jim lanzone vice president search properties ask jeeves say do acquire bloglines just blog publish world say ask jeeves interest help people information look help write universe readers vastly larger universe writers say mr lanzone say acquisition sit ask jeeves service let people customise web experience build personal collection useful link search engines discover information time rss ideal way track monitor sit say help drive information entries blog portals ask jeeves operate instant sweep change bloglines say mr lanzone intent time figure right business model try right away say mr lanzone add ask jeeves help organise database 300m blog entries bloglines hold net index technology able search blogosphere corpus information useful right say mr lanzone rumour acquisition break weblog say get hint ask jeeves\n",
      "                                                   text topic\n",
      "1415  ask jeeves join web log market ask jeeves buy ...  tech\n",
      "1639  ask jeeves join web log market ask jeeves buy ...  tech\n",
      "Duplicate data: 107\n"
     ]
    }
   ],
   "execution_count": 23
  },
  {
   "metadata": {
    "ExecuteTime": {
     "end_time": "2024-12-11T04:48:56.995694Z",
     "start_time": "2024-12-11T04:48:56.835255Z"
    }
   },
   "cell_type": "code",
   "source": [
    "# Tách text thành các từ riêng biệt\n",
    "bbc.loc[:,'cleaned_text'] = bbc['text'].apply(nltk.wordpunct_tokenize)\n",
    "bbc"
   ],
   "id": "56a31b4073050591",
   "outputs": [
    {
     "data": {
      "text/plain": [
       "                                                   text          topic  \\\n",
       "0     dallaglio man end controversy lawrence dallagl...          sport   \n",
       "1     best person legal job best person job appoint ...       politics   \n",
       "2     viewers able shape tv imagine edit titanic wat...           tech   \n",
       "3     fox attack blair tory lie tony blair lie take ...       politics   \n",
       "4     microsoft debut security tool microsoft releas...           tech   \n",
       "...                                                 ...            ...   \n",
       "2219  rapper cent end protege feud rapper cent end p...  entertainment   \n",
       "2220  michael film signal retirement singer george m...  entertainment   \n",
       "2221  ray charles studio museum museum dedicate care...  entertainment   \n",
       "2222  chancellor rally labour voters gordon brown is...       politics   \n",
       "2223  oscar nominees gear leonardo dicaprio jamie fo...  entertainment   \n",
       "\n",
       "                                           cleaned_text  \n",
       "0     [dallaglio, man, end, controversy, lawrence, d...  \n",
       "1     [best, person, legal, job, best, person, job, ...  \n",
       "2     [viewers, able, shape, tv, imagine, edit, tita...  \n",
       "3     [fox, attack, blair, tory, lie, tony, blair, l...  \n",
       "4     [microsoft, debut, security, tool, microsoft, ...  \n",
       "...                                                 ...  \n",
       "2219  [rapper, cent, end, protege, feud, rapper, cen...  \n",
       "2220  [michael, film, signal, retirement, singer, ge...  \n",
       "2221  [ray, charles, studio, museum, museum, dedicat...  \n",
       "2222  [chancellor, rally, labour, voters, gordon, br...  \n",
       "2223  [oscar, nominees, gear, leonardo, dicaprio, ja...  \n",
       "\n",
       "[2118 rows x 3 columns]"
      ],
      "text/html": [
       "<div>\n",
       "<style scoped>\n",
       "    .dataframe tbody tr th:only-of-type {\n",
       "        vertical-align: middle;\n",
       "    }\n",
       "\n",
       "    .dataframe tbody tr th {\n",
       "        vertical-align: top;\n",
       "    }\n",
       "\n",
       "    .dataframe thead th {\n",
       "        text-align: right;\n",
       "    }\n",
       "</style>\n",
       "<table border=\"1\" class=\"dataframe\">\n",
       "  <thead>\n",
       "    <tr style=\"text-align: right;\">\n",
       "      <th></th>\n",
       "      <th>text</th>\n",
       "      <th>topic</th>\n",
       "      <th>cleaned_text</th>\n",
       "    </tr>\n",
       "  </thead>\n",
       "  <tbody>\n",
       "    <tr>\n",
       "      <th>0</th>\n",
       "      <td>dallaglio man end controversy lawrence dallagl...</td>\n",
       "      <td>sport</td>\n",
       "      <td>[dallaglio, man, end, controversy, lawrence, d...</td>\n",
       "    </tr>\n",
       "    <tr>\n",
       "      <th>1</th>\n",
       "      <td>best person legal job best person job appoint ...</td>\n",
       "      <td>politics</td>\n",
       "      <td>[best, person, legal, job, best, person, job, ...</td>\n",
       "    </tr>\n",
       "    <tr>\n",
       "      <th>2</th>\n",
       "      <td>viewers able shape tv imagine edit titanic wat...</td>\n",
       "      <td>tech</td>\n",
       "      <td>[viewers, able, shape, tv, imagine, edit, tita...</td>\n",
       "    </tr>\n",
       "    <tr>\n",
       "      <th>3</th>\n",
       "      <td>fox attack blair tory lie tony blair lie take ...</td>\n",
       "      <td>politics</td>\n",
       "      <td>[fox, attack, blair, tory, lie, tony, blair, l...</td>\n",
       "    </tr>\n",
       "    <tr>\n",
       "      <th>4</th>\n",
       "      <td>microsoft debut security tool microsoft releas...</td>\n",
       "      <td>tech</td>\n",
       "      <td>[microsoft, debut, security, tool, microsoft, ...</td>\n",
       "    </tr>\n",
       "    <tr>\n",
       "      <th>...</th>\n",
       "      <td>...</td>\n",
       "      <td>...</td>\n",
       "      <td>...</td>\n",
       "    </tr>\n",
       "    <tr>\n",
       "      <th>2219</th>\n",
       "      <td>rapper cent end protege feud rapper cent end p...</td>\n",
       "      <td>entertainment</td>\n",
       "      <td>[rapper, cent, end, protege, feud, rapper, cen...</td>\n",
       "    </tr>\n",
       "    <tr>\n",
       "      <th>2220</th>\n",
       "      <td>michael film signal retirement singer george m...</td>\n",
       "      <td>entertainment</td>\n",
       "      <td>[michael, film, signal, retirement, singer, ge...</td>\n",
       "    </tr>\n",
       "    <tr>\n",
       "      <th>2221</th>\n",
       "      <td>ray charles studio museum museum dedicate care...</td>\n",
       "      <td>entertainment</td>\n",
       "      <td>[ray, charles, studio, museum, museum, dedicat...</td>\n",
       "    </tr>\n",
       "    <tr>\n",
       "      <th>2222</th>\n",
       "      <td>chancellor rally labour voters gordon brown is...</td>\n",
       "      <td>politics</td>\n",
       "      <td>[chancellor, rally, labour, voters, gordon, br...</td>\n",
       "    </tr>\n",
       "    <tr>\n",
       "      <th>2223</th>\n",
       "      <td>oscar nominees gear leonardo dicaprio jamie fo...</td>\n",
       "      <td>entertainment</td>\n",
       "      <td>[oscar, nominees, gear, leonardo, dicaprio, ja...</td>\n",
       "    </tr>\n",
       "  </tbody>\n",
       "</table>\n",
       "<p>2118 rows × 3 columns</p>\n",
       "</div>"
      ]
     },
     "execution_count": 28,
     "metadata": {},
     "output_type": "execute_result"
    }
   ],
   "execution_count": 28
  },
  {
   "cell_type": "code",
   "id": "f903cfe39a1b1dbd",
   "metadata": {
    "ExecuteTime": {
     "end_time": "2024-12-11T04:48:01.196762Z",
     "start_time": "2024-12-11T04:48:00.998578Z"
    }
   },
   "source": [
    "# Save the cleaned dataset to a new CSV file\n",
    "bbc.to_csv('bbc_cleaned.csv', index=False)"
   ],
   "outputs": [],
   "execution_count": 27
  },
  {
   "metadata": {},
   "cell_type": "code",
   "outputs": [],
   "execution_count": null,
   "source": "",
   "id": "8c8369a35c0c6810"
  }
 ],
 "metadata": {
  "kernelspec": {
   "display_name": "Python 3",
   "language": "python",
   "name": "python3"
  },
  "language_info": {
   "codemirror_mode": {
    "name": "ipython",
    "version": 3
   },
   "file_extension": ".py",
   "mimetype": "text/x-python",
   "name": "python",
   "nbconvert_exporter": "python",
   "pygments_lexer": "ipython3",
   "version": "3.12.7"
  }
 },
 "nbformat": 4,
 "nbformat_minor": 5
}
